{
 "cells": [
  {
   "cell_type": "markdown",
   "metadata": {},
   "source": [
    "# Flugpreis Vorhersage - Kaufen oder Warten?\n",
    "## Projektarbeit Data Mining\n",
    "___\n",
    "### Wintersemester 2021/22\n",
    "### Gruppe G:\n",
    "Max Grundmann - s0559326\n",
    "### Inhalte\n",
    "1. Exploratory Data Analysis (EDA)\n",
    "2. Datenvorbereitung\n",
    "### 3. Modelauswahl\n",
    "4. Testing\n",
    "___\n",
    "Dieses Notebook widmet sich der Auswahl von zwei geeigneten Machine Learning Modellen und deren Hyperparametertuning.\n",
    "___"
   ]
  },
  {
   "cell_type": "markdown",
   "id": "82d117fc",
   "metadata": {},
   "source": [
    "#### Benötigte Bibliotheken laden"
   ]
  },
  {
   "cell_type": "code",
   "execution_count": 1,
   "id": "7896a767",
   "metadata": {},
   "outputs": [],
   "source": [
    "import pandas as pd\n",
    "import numpy as np\n",
    "from numpy import mean\n",
    "from numpy import std\n",
    "import os\n",
    "from random import sample\n",
    "import matplotlib.pyplot as plt\n",
    "import pickle\n",
    "\n",
    "from sklearn.model_selection import KFold\n",
    "from sklearn.model_selection import RepeatedStratifiedKFold\n",
    "from sklearn.model_selection import cross_val_score\n",
    "from sklearn.model_selection import RandomizedSearchCV\n",
    "from sklearn.linear_model import LogisticRegression\n",
    "from sklearn import tree\n",
    "from sklearn.ensemble import RandomForestClassifier\n",
    "from sklearn.svm import SVC\n",
    "from sklearn.neighbors import KNeighborsClassifier\n",
    "from sklearn.naive_bayes import GaussianNB\n",
    "from sklearn import metrics\n",
    "from sklearn.model_selection import train_test_split\n",
    "from sklearn.ensemble import AdaBoostClassifier\n",
    "from sklearn.ensemble import GradientBoostingClassifier\n",
    "from sklearn.ensemble import BaggingClassifier\n",
    "from sklearn.utils import compute_class_weight\n",
    "\n",
    "from xgboost import XGBClassifier\n",
    "\n",
    "from tensorflow import keras\n",
    "from keras.layers import Dense, Dropout\n",
    "from keras.models import Sequential\n",
    "from keras.callbacks import EarlyStopping"
   ]
  },
  {
   "cell_type": "markdown",
   "id": "755f1d2f",
   "metadata": {},
   "source": [
    "#### Vorbereitete Daten laden"
   ]
  },
  {
   "cell_type": "code",
   "execution_count": 7,
   "metadata": {
    "scrolled": true
   },
   "outputs": [],
   "source": [
    "n = 15\n",
    "\n",
    "dirname = os.getcwd()\n",
    "filename = os.path.join(dirname, f'../Data/prepped/train_set_n{n}.csv')\n",
    "\n",
    "try:\n",
    "    training_data = pd.read_csv(filename, index_col=0)\n",
    "except FileNotFoundError as e:\n",
    "    print('Datei konnte nicht gefunden werden.')"
   ]
  },
  {
   "cell_type": "markdown",
   "id": "125b6174",
   "metadata": {},
   "source": [
    "Daten in Trainings- und Testdaten aufteilen.\n",
    "80% Trainingsdaten, 20% Testdaten\n",
    "Stratify = Yes stellt außerdem sicher, dass das Verhältnis der Klassen in beiden Datensätzen gleich ist."
   ]
  },
  {
   "cell_type": "code",
   "execution_count": 67,
   "metadata": {},
   "outputs": [],
   "source": [
    "# Daten in Trainings- und Testdaten aufteilen\n",
    "y = training_data['buy']\n",
    "X = training_data.drop(columns=['buy'], axis=1)\n",
    "X.columns = X.columns.map(str)\n",
    "\n",
    "for i in range(n):\n",
    "    X[str(i)] = np.where(X[str(i)].isnull(), X.Price_In_Eur, X[str(i)])\n",
    "\n",
    "X = X.fillna(0)\n",
    "x_train, x_test, y_train, y_test = train_test_split(X, y, test_size=0.2, random_state=99, stratify=y)"
   ]
  },
  {
   "cell_type": "markdown",
   "id": "65bea2cb",
   "metadata": {},
   "source": [
    "#### Auswahl eines ML-Verfahrens"
   ]
  },
  {
   "cell_type": "markdown",
   "id": "a9271571",
   "metadata": {},
   "source": [
    "Folgenden Methode dient dem Automatisierten Training und Evaluierung eines ML-Modells. Ziel ist es, eine Baseline für mehrere unterschiedliche Verfahren zu etablieren. Das beste Modell wird anschließend über Hyperparameter Tuning weiter optimiert."
   ]
  },
  {
   "cell_type": "code",
   "execution_count": 20,
   "metadata": {},
   "outputs": [],
   "source": [
    "def evaluate_model(model, x_train, y_train, x_test, y_test, fit=True):\n",
    "    if fit:\n",
    "        model = model.fit(x_train, y_train)\n",
    "    \n",
    "    print('Training Score:', model.score(x_train, y_train))\n",
    "    \n",
    "    predicted = pd.DataFrame(model.predict(x_test))\n",
    "    \n",
    "    print('Test Score:', metrics.accuracy_score(y_test, predicted))\n",
    "    \n",
    "    print(metrics.classification_report(y_test, predicted))\n",
    "    return model.score(x_train, y_train), metrics.accuracy_score(y_test, predicted)"
   ]
  },
  {
   "cell_type": "markdown",
   "id": "d96c407f",
   "metadata": {},
   "source": [
    "Die Support Vector Machine wurde im weiteren Vorgehen nicht berücksichtigt, da die Trainingszeiten unverhältnismäßig lag dauern. Das dürfte darin begründet liegen, dass die Trainingskomplexität einer SVM bei O(n^2) liegt und entsprechend stark bzw. schlecht mit der Anzahl an Trainingsdaten skaliert. Entsprechend limitiert vermutlich auch mein Arbeitsspeicher die Berechnung."
   ]
  },
  {
   "cell_type": "code",
   "execution_count": 26,
   "metadata": {
    "scrolled": false
   },
   "outputs": [
    {
     "name": "stdout",
     "output_type": "stream",
     "text": [
      "RandomForestC\n",
      "Training Score: 0.9998953646541802\n",
      "Test Score: 0.9100149476831091\n",
      "              precision    recall  f1-score   support\n",
      "\n",
      "           0       0.91      0.98      0.94     12981\n",
      "           1       0.90      0.67      0.77      3744\n",
      "\n",
      "    accuracy                           0.91     16725\n",
      "   macro avg       0.91      0.82      0.86     16725\n",
      "weighted avg       0.91      0.91      0.90     16725\n",
      "\n",
      "-------------------------------------------------------------------------------\n",
      "XGBClassifier\n",
      "[12:32:15] WARNING: C:/Users/Administrator/workspace/xgboost-win64_release_1.5.1/src/learner.cc:1115: Starting in XGBoost 1.3.0, the default evaluation metric used with the objective 'binary:logistic' was changed from 'error' to 'logloss'. Explicitly set eval_metric if you'd like to restore the old behavior.\n"
     ]
    },
    {
     "name": "stderr",
     "output_type": "stream",
     "text": [
      "C:\\Users\\Max\\Anaconda3\\envs\\py39\\lib\\site-packages\\xgboost\\sklearn.py:1224: UserWarning: The use of label encoder in XGBClassifier is deprecated and will be removed in a future release. To remove this warning, do the following: 1) Pass option use_label_encoder=False when constructing XGBClassifier object; and 2) Encode your labels (y) as integers starting with 0, i.e. 0, 1, 2, ..., [num_class - 1].\n",
      "  warnings.warn(label_encoder_deprecation_msg, UserWarning)\n"
     ]
    },
    {
     "name": "stdout",
     "output_type": "stream",
     "text": [
      "Training Score: 0.9311648903571055\n",
      "Test Score: 0.8916591928251121\n",
      "              precision    recall  f1-score   support\n",
      "\n",
      "           0       0.90      0.96      0.93     12981\n",
      "           1       0.84      0.64      0.73      3744\n",
      "\n",
      "    accuracy                           0.89     16725\n",
      "   macro avg       0.87      0.80      0.83     16725\n",
      "weighted avg       0.89      0.89      0.89     16725\n",
      "\n",
      "-------------------------------------------------------------------------------\n",
      "AdaBoostClass\n",
      "Training Score: 0.8275310542758487\n",
      "Test Score: 0.8243946188340807\n",
      "              precision    recall  f1-score   support\n",
      "\n",
      "           0       0.84      0.95      0.89     12981\n",
      "           1       0.70      0.38      0.49      3744\n",
      "\n",
      "    accuracy                           0.82     16725\n",
      "   macro avg       0.77      0.67      0.69     16725\n",
      "weighted avg       0.81      0.82      0.80     16725\n",
      "\n",
      "-------------------------------------------------------------------------------\n",
      "GradientBoost\n",
      "Training Score: 0.8428975022048162\n",
      "Test Score: 0.8383856502242153\n",
      "              precision    recall  f1-score   support\n",
      "\n",
      "           0       0.84      0.97      0.90     12981\n",
      "           1       0.80      0.37      0.51      3744\n",
      "\n",
      "    accuracy                           0.84     16725\n",
      "   macro avg       0.82      0.67      0.71     16725\n",
      "weighted avg       0.83      0.84      0.81     16725\n",
      "\n",
      "-------------------------------------------------------------------------------\n",
      "DecisionTreeC\n",
      "Training Score: 0.8575912943392278\n",
      "Test Score: 0.8394020926756353\n",
      "              precision    recall  f1-score   support\n",
      "\n",
      "           0       0.85      0.96      0.90     12981\n",
      "           1       0.76      0.42      0.54      3744\n",
      "\n",
      "    accuracy                           0.84     16725\n",
      "   macro avg       0.80      0.69      0.72     16725\n",
      "weighted avg       0.83      0.84      0.82     16725\n",
      "\n",
      "-------------------------------------------------------------------------------\n",
      "LogisticRegre\n"
     ]
    },
    {
     "name": "stderr",
     "output_type": "stream",
     "text": [
      "C:\\Users\\Max\\Anaconda3\\envs\\py39\\lib\\site-packages\\sklearn\\linear_model\\_logistic.py:814: ConvergenceWarning: lbfgs failed to converge (status=1):\n",
      "STOP: TOTAL NO. of ITERATIONS REACHED LIMIT.\n",
      "\n",
      "Increase the number of iterations (max_iter) or scale the data as shown in:\n",
      "    https://scikit-learn.org/stable/modules/preprocessing.html\n",
      "Please also refer to the documentation for alternative solver options:\n",
      "    https://scikit-learn.org/stable/modules/linear_model.html#logistic-regression\n",
      "  n_iter_i = _check_optimize_result(\n"
     ]
    },
    {
     "name": "stdout",
     "output_type": "stream",
     "text": [
      "Training Score: 0.81365939700145\n",
      "Test Score: 0.8123766816143497\n",
      "              precision    recall  f1-score   support\n",
      "\n",
      "           0       0.83      0.96      0.89     12981\n",
      "           1       0.68      0.30      0.42      3744\n",
      "\n",
      "    accuracy                           0.81     16725\n",
      "   macro avg       0.75      0.63      0.65     16725\n",
      "weighted avg       0.79      0.81      0.78     16725\n",
      "\n",
      "-------------------------------------------------------------------------------\n",
      "BaggingClassi\n",
      "Training Score: 0.9945739099239151\n",
      "Test Score: 0.9066068759342302\n",
      "              precision    recall  f1-score   support\n",
      "\n",
      "           0       0.91      0.97      0.94     12981\n",
      "           1       0.88      0.68      0.76      3744\n",
      "\n",
      "    accuracy                           0.91     16725\n",
      "   macro avg       0.90      0.82      0.85     16725\n",
      "weighted avg       0.90      0.91      0.90     16725\n",
      "\n",
      "-------------------------------------------------------------------------------\n",
      "GaussianNB()\n",
      "Training Score: 0.7770968175906964\n",
      "Test Score: 0.7766816143497758\n",
      "              precision    recall  f1-score   support\n",
      "\n",
      "           0       0.79      0.97      0.87     12981\n",
      "           1       0.51      0.11      0.18      3744\n",
      "\n",
      "    accuracy                           0.78     16725\n",
      "   macro avg       0.65      0.54      0.53     16725\n",
      "weighted avg       0.73      0.78      0.72     16725\n",
      "\n",
      "-------------------------------------------------------------------------------\n"
     ]
    }
   ],
   "source": [
    "list_of_models = [RandomForestClassifier(), \n",
    "                # SVC(kernel='linear'), \n",
    "                  XGBClassifier(),\n",
    "                  AdaBoostClassifier(),\n",
    "                  GradientBoostingClassifier(),\n",
    "                  tree.DecisionTreeClassifier(max_depth=10), \n",
    "                  LogisticRegression(), \n",
    "                  BaggingClassifier(),\n",
    "                  KNeighborsClassifier(n_neighbors=5), \n",
    "                  GaussianNB()]\n",
    "\n",
    "scores = {}\n",
    "\n",
    "for model in list_of_models:\n",
    "    print(str(model)[:13])\n",
    "    train_acc, test_acc = evaluate_model(model, x_train, y_train, x_test, y_test)\n",
    "    scores[str(model)[:13]] = {'train_accurary' : train_acc, 'test_accuracy': test_acc}\n",
    "    print('-------------------------------------------------------------------------------')"
   ]
  },
  {
   "cell_type": "code",
   "execution_count": 42,
   "id": "8fb54766",
   "metadata": {},
   "outputs": [
    {
     "data": {
      "text/html": [
       "<div>\n",
       "<style scoped>\n",
       "    .dataframe tbody tr th:only-of-type {\n",
       "        vertical-align: middle;\n",
       "    }\n",
       "\n",
       "    .dataframe tbody tr th {\n",
       "        vertical-align: top;\n",
       "    }\n",
       "\n",
       "    .dataframe thead th {\n",
       "        text-align: right;\n",
       "    }\n",
       "</style>\n",
       "<table border=\"1\" class=\"dataframe\">\n",
       "  <thead>\n",
       "    <tr style=\"text-align: right;\">\n",
       "      <th></th>\n",
       "      <th>train_accurary</th>\n",
       "      <th>test_accuracy</th>\n",
       "    </tr>\n",
       "  </thead>\n",
       "  <tbody>\n",
       "    <tr>\n",
       "      <th>RandomForestC</th>\n",
       "      <td>0.999895</td>\n",
       "      <td>0.910015</td>\n",
       "    </tr>\n",
       "    <tr>\n",
       "      <th>BaggingClassi</th>\n",
       "      <td>0.994574</td>\n",
       "      <td>0.906607</td>\n",
       "    </tr>\n",
       "    <tr>\n",
       "      <th>XGBClassifier</th>\n",
       "      <td>0.931165</td>\n",
       "      <td>0.891659</td>\n",
       "    </tr>\n",
       "    <tr>\n",
       "      <th>DecisionTreeC</th>\n",
       "      <td>0.857591</td>\n",
       "      <td>0.839402</td>\n",
       "    </tr>\n",
       "    <tr>\n",
       "      <th>GradientBoost</th>\n",
       "      <td>0.842898</td>\n",
       "      <td>0.838386</td>\n",
       "    </tr>\n",
       "    <tr>\n",
       "      <th>AdaBoostClass</th>\n",
       "      <td>0.827531</td>\n",
       "      <td>0.824395</td>\n",
       "    </tr>\n",
       "    <tr>\n",
       "      <th>LogisticRegre</th>\n",
       "      <td>0.813659</td>\n",
       "      <td>0.812377</td>\n",
       "    </tr>\n",
       "    <tr>\n",
       "      <th>GaussianNB()</th>\n",
       "      <td>0.777097</td>\n",
       "      <td>0.776682</td>\n",
       "    </tr>\n",
       "  </tbody>\n",
       "</table>\n",
       "</div>"
      ],
      "text/plain": [
       "               train_accurary  test_accuracy\n",
       "RandomForestC        0.999895       0.910015\n",
       "BaggingClassi        0.994574       0.906607\n",
       "XGBClassifier        0.931165       0.891659\n",
       "DecisionTreeC        0.857591       0.839402\n",
       "GradientBoost        0.842898       0.838386\n",
       "AdaBoostClass        0.827531       0.824395\n",
       "LogisticRegre        0.813659       0.812377\n",
       "GaussianNB()         0.777097       0.776682"
      ]
     },
     "execution_count": 42,
     "metadata": {},
     "output_type": "execute_result"
    }
   ],
   "source": [
    "results = pd.DataFrame(scores).transpose()\n",
    "results.rename(columns={'index': 'model'},  inplace=True)\n",
    "results.sort_values(by=['test_accuracy'], axis=0, ascending=False, inplace=True)\n",
    "results"
   ]
  },
  {
   "cell_type": "code",
   "execution_count": 44,
   "metadata": {},
   "outputs": [
    {
     "data": {
      "image/png": "[encoded data removed]",
      "text/plain": [
       "<Figure size 720x432 with 1 Axes>"
      ]
     },
     "metadata": {
      "needs_background": "light"
     },
     "output_type": "display_data"
    }
   ],
   "source": [
    "plt.rcParams[\"figure.figsize\"] = [10, 6]\n",
    "\n",
    "results.plot(kind='barh')\n",
    "plt.title('Model Performance \"out of the box\"')\n",
    "plt.ylabel(\"Model\")\n",
    "plt.xlabel(\"Accurary\")\n",
    "plt.savefig(\"../Ressources/model_performance_comp.png\", edgecolor='white')"
   ]
  },
  {
   "cell_type": "markdown",
   "id": "c3d49e15",
   "metadata": {},
   "source": [
    "#### Cross-Validation Baseline"
   ]
  },
  {
   "cell_type": "markdown",
   "id": "4f85bc00",
   "metadata": {},
   "source": [
    "Zusätzlich habe ich nochmal die vier vielversprechendsten Classifier mit Kreuzvalidierung getestet."
   ]
  },
  {
   "cell_type": "code",
   "execution_count": 45,
   "id": "1cbcd9ac",
   "metadata": {},
   "outputs": [],
   "source": [
    "def display_scores(scores):\n",
    "    print(\"Scores:\", scores)\n",
    "    print(\"Mean:\", scores.mean())\n",
    "    print(\"Standard deviation:\", scores.std())"
   ]
  },
  {
   "cell_type": "code",
   "execution_count": 46,
   "id": "e7d2b6ff",
   "metadata": {},
   "outputs": [],
   "source": [
    "def performCrossValidation(model, x_train, y_train, splits=5):\n",
    "    print(f'{str(model)[:13]} mit splits={splits}')\n",
    "    cv = RepeatedStratifiedKFold(n_splits=splits, n_repeats=3, random_state=1)\n",
    "    return cross_val_score(model, x_train, y_train, scoring='accuracy', cv=cv, n_jobs=-1)"
   ]
  },
  {
   "cell_type": "code",
   "execution_count": 47,
   "id": "1a19ba44",
   "metadata": {},
   "outputs": [
    {
     "name": "stdout",
     "output_type": "stream",
     "text": [
      "RandomForestC mit splits=5\n",
      "Scores: [0.90747384 0.90358744 0.9103139  0.90568012 0.90350549 0.90627803\n",
      " 0.90089686 0.90769806 0.90508221 0.90679423 0.90754858 0.9073991\n",
      " 0.90418535 0.90216741 0.9077659 ]\n",
      "Mean: 0.9057584358028165\n",
      "Standard deviation: 0.0024218930528767243\n"
     ]
    }
   ],
   "source": [
    "display_scores(performCrossValidation(RandomForestClassifier(), x_train, y_train))"
   ]
  },
  {
   "cell_type": "code",
   "execution_count": 48,
   "id": "c72f8400",
   "metadata": {},
   "outputs": [
    {
     "name": "stdout",
     "output_type": "stream",
     "text": [
      "BaggingClassi mit splits=5\n",
      "Scores: [0.9058296  0.89828102 0.90523169 0.90179372 0.89775021 0.90351271\n",
      " 0.89753363 0.90201794 0.90127055 0.90066522 0.90239163 0.90007474\n",
      " 0.90007474 0.90059791 0.90380447]\n",
      "Mean: 0.9013886508216086\n",
      "Standard deviation: 0.0024327888943376074\n"
     ]
    }
   ],
   "source": [
    "display_scores(performCrossValidation(BaggingClassifier(), x_train, y_train))"
   ]
  },
  {
   "cell_type": "code",
   "execution_count": 49,
   "id": "b9df92e7",
   "metadata": {},
   "outputs": [
    {
     "name": "stdout",
     "output_type": "stream",
     "text": [
      "XGBClassifier mit splits=5\n",
      "Scores: [0.89394619 0.88856502 0.88811659 0.88527653 0.8928171  0.8887145\n",
      " 0.89080717 0.88998505 0.89050822 0.89042529 0.89043348 0.89424514\n",
      " 0.88908819 0.88834081 0.88780925]\n",
      "Mean: 0.8899385702623224\n",
      "Standard deviation: 0.0023195638820190964\n"
     ]
    }
   ],
   "source": [
    "display_scores(performCrossValidation(XGBClassifier(), x_train, y_train))"
   ]
  },
  {
   "cell_type": "code",
   "execution_count": 50,
   "id": "6f6a2142",
   "metadata": {},
   "outputs": [
    {
     "name": "stdout",
     "output_type": "stream",
     "text": [
      "DecisionTreeC mit splits=5\n",
      "Scores: [0.84297459 0.84446936 0.84431988 0.8357997  0.84206592 0.84125561\n",
      " 0.84080717 0.84252616 0.84050822 0.84602736 0.84387145 0.84020927\n",
      " 0.8416293  0.84237668 0.84453248]\n",
      "Mean: 0.842224876062565\n",
      "Standard deviation: 0.0023695217789564196\n"
     ]
    }
   ],
   "source": [
    "display_scores(performCrossValidation(tree.DecisionTreeClassifier(max_depth=10), x_train, y_train))"
   ]
  },
  {
   "cell_type": "markdown",
   "id": "64266822",
   "metadata": {},
   "source": [
    "### Hyperparameter Tuning eines Random Forest Classifiers"
   ]
  },
  {
   "cell_type": "markdown",
   "id": "17b92c7f",
   "metadata": {},
   "source": [
    "Im einem Vergleich ohne jegliches Hyperparameter Tuning hat der Random Forest Classifier für den Datensatz die höchste Test-Genauigkeit erzielt. Allerdings hat sich bereits dort gezeigt, dass der Classifier ohne weiteres Tuning stark zum overfitting neigt, was an einer Trainingsgenauigkeit von 99% deutlich wird. Für das weitere Tuning wird daher eine K-Fold Cross-Validation mit K=5 durchgeführt."
   ]
  },
  {
   "cell_type": "markdown",
   "id": "dbb19192",
   "metadata": {},
   "source": [
    "Da die beiden Klassen Kaufen und Warten sehr ungleich verteilt sind, würde ein naives Modell, das nur Warten vorhersagt, bereits eine Accuracy von 77,6% erreichen. Um dem entgegen zuwirken, berechne ich hier die Gewichtung der beiden Klassen, um diese dem Modell übergeben zu können."
   ]
  },
  {
   "cell_type": "code",
   "execution_count": 18,
   "id": "ba669f11",
   "metadata": {},
   "outputs": [],
   "source": [
    "classWeight = compute_class_weight(class_weight = 'balanced', \n",
    "                                   classes=np.unique(y),\n",
    "                                    y=y)\n",
    "classWeight = dict(enumerate(classWeight))"
   ]
  },
  {
   "cell_type": "markdown",
   "id": "e3cbc30b",
   "metadata": {},
   "source": [
    "#### Grid Search für Random Forrest Classfier"
   ]
  },
  {
   "cell_type": "markdown",
   "id": "1865ef83",
   "metadata": {},
   "source": [
    "Aus Performance-Gründen habe ich die finale Grid-Suche auf einer Google Colab Instanz laufen lassen, daher entsprechen die hier ausgegebenen Outputs nicht unbedingt dem finalen Model."
   ]
  },
  {
   "cell_type": "code",
   "execution_count": 16,
   "id": "5ba652f3",
   "metadata": {},
   "outputs": [],
   "source": [
    "# Number of trees in random forest\n",
    "n_estimators = [int(x) for x in np.linspace(start = 200, stop = 2000, num = 10)]\n",
    "# Number of features to consider at every split\n",
    "max_features = ['auto', 'sqrt']\n",
    "# Maximum number of levels in tree\n",
    "max_depth = [int(x) for x in np.linspace(10, 110, num = 11)]\n",
    "max_depth.append(None)\n",
    "# Minimum number of samples required to split a node\n",
    "min_samples_split = [2, 5, 10]\n",
    "# Minimum number of samples required at each leaf node\n",
    "min_samples_leaf = [1, 2, 4]\n",
    "# Method of selecting samples for training each tree\n",
    "bootstrap = [True, False]\n",
    "\n",
    "# rf_random = RandomizedSearchCV(estimator = rf, \n",
    "#                                param_distributions = random_grid, \n",
    "#                                n_iter = 100, \n",
    "#                                cv = 3, \n",
    "#                                verbose=2, \n",
    "#                                random_state=42, \n",
    "#                                n_jobs = -1)\n",
    "\n",
    "# rf_random.fit(x_train, y_train)\n",
    "# rf_random.best_params_"
   ]
  },
  {
   "cell_type": "code",
   "execution_count": 32,
   "id": "982c02ca",
   "metadata": {},
   "outputs": [
    {
     "ename": "NameError",
     "evalue": "name 'bootstrap' is not defined",
     "output_type": "error",
     "traceback": [
      "\u001b[1;31m---------------------------------------------------------------------------\u001b[0m",
      "\u001b[1;31mNameError\u001b[0m                                 Traceback (most recent call last)",
      "\u001b[1;32m~\\AppData\\Local\\Temp/ipykernel_11968/2462711546.py\u001b[0m in \u001b[0;36m<module>\u001b[1;34m\u001b[0m\n\u001b[0;32m      4\u001b[0m                \u001b[1;34m'min_samples_split'\u001b[0m\u001b[1;33m:\u001b[0m \u001b[1;33m[\u001b[0m\u001b[1;36m2\u001b[0m\u001b[1;33m,\u001b[0m \u001b[1;36m5\u001b[0m\u001b[1;33m,\u001b[0m \u001b[1;36m10\u001b[0m\u001b[1;33m]\u001b[0m\u001b[1;33m,\u001b[0m\u001b[1;33m\u001b[0m\u001b[1;33m\u001b[0m\u001b[0m\n\u001b[0;32m      5\u001b[0m             \u001b[1;31m#    'min_samples_leaf': min_samples_leaf,\u001b[0m\u001b[1;33m\u001b[0m\u001b[1;33m\u001b[0m\u001b[0m\n\u001b[1;32m----> 6\u001b[1;33m                'bootstrap': bootstrap}\n\u001b[0m\u001b[0;32m      7\u001b[0m \u001b[1;33m\u001b[0m\u001b[0m\n\u001b[0;32m      8\u001b[0m \u001b[0mcv\u001b[0m \u001b[1;33m=\u001b[0m \u001b[0mRepeatedStratifiedKFold\u001b[0m\u001b[1;33m(\u001b[0m\u001b[0mn_splits\u001b[0m\u001b[1;33m=\u001b[0m\u001b[1;36m3\u001b[0m\u001b[1;33m,\u001b[0m \u001b[0mn_repeats\u001b[0m\u001b[1;33m=\u001b[0m\u001b[1;36m2\u001b[0m\u001b[1;33m,\u001b[0m \u001b[0mrandom_state\u001b[0m\u001b[1;33m=\u001b[0m\u001b[1;36m1\u001b[0m\u001b[1;33m)\u001b[0m\u001b[1;33m\u001b[0m\u001b[1;33m\u001b[0m\u001b[0m\n",
      "\u001b[1;31mNameError\u001b[0m: name 'bootstrap' is not defined"
     ]
    }
   ],
   "source": [
    "random_grid = {'n_estimators': [50, 200, 400],\n",
    "               'max_features': ['auto', 0.25, 0.5, 1.0],\n",
    "               'max_depth': [4, 8,16],\n",
    "               'min_samples_split': [2, 5, 10],\n",
    "            #    'min_samples_leaf': min_samples_leaf,\n",
    "               'bootstrap': bootstrap}\n",
    "\n",
    "cv = RepeatedStratifiedKFold(n_splits=3, n_repeats=2, random_state=1)\n",
    "\n",
    "rf = RandomForestClassifier(class_weight=classWeight)\n",
    "\n",
    "rf_random = RandomizedSearchCV(estimator = rf, \n",
    "                               param_distributions = random_grid, \n",
    "                               n_iter = 2, \n",
    "                               cv = 2, \n",
    "                               verbose=99, \n",
    "                               random_state=42,\n",
    "                               scoring='accuracy',\n",
    "                               n_jobs = -1,\n",
    "                               refit=True)\n",
    "\n",
    "model = rf_random.fit(x_train, y_train)\n",
    "rf_random.best_params_"
   ]
  },
  {
   "cell_type": "code",
   "execution_count": 15,
   "id": "d6932ff4",
   "metadata": {},
   "outputs": [
    {
     "name": "stderr",
     "output_type": "stream",
     "text": [
      "C:\\Users\\Max\\Anaconda3\\envs\\py39\\lib\\site-packages\\sklearn\\base.py:493: FutureWarning: The feature names should match those that were passed during fit. Starting version 1.2, an error will be raised.\n",
      "Feature names unseen at fit time:\n",
      "- price_of_previous_flight\n",
      "Feature names seen at fit time, yet now missing:\n",
      "- price_of_next_flight\n",
      "\n",
      "  warnings.warn(message, FutureWarning)\n"
     ]
    },
    {
     "name": "stdout",
     "output_type": "stream",
     "text": [
      "Training Score: 0.2861029312844736\n",
      "Test Score: 0.2898654708520179\n",
      "              precision    recall  f1-score   support\n",
      "\n",
      "           0       0.77      0.12      0.21     12981\n",
      "           1       0.22      0.87      0.36      3744\n",
      "\n",
      "    accuracy                           0.29     16725\n",
      "   macro avg       0.50      0.50      0.28     16725\n",
      "weighted avg       0.65      0.29      0.24     16725\n",
      "\n"
     ]
    },
    {
     "name": "stderr",
     "output_type": "stream",
     "text": [
      "C:\\Users\\Max\\Anaconda3\\envs\\py39\\lib\\site-packages\\sklearn\\base.py:493: FutureWarning: The feature names should match those that were passed during fit. Starting version 1.2, an error will be raised.\n",
      "Feature names unseen at fit time:\n",
      "- price_of_previous_flight\n",
      "Feature names seen at fit time, yet now missing:\n",
      "- price_of_next_flight\n",
      "\n",
      "  warnings.warn(message, FutureWarning)\n",
      "C:\\Users\\Max\\Anaconda3\\envs\\py39\\lib\\site-packages\\sklearn\\base.py:493: FutureWarning: The feature names should match those that were passed during fit. Starting version 1.2, an error will be raised.\n",
      "Feature names unseen at fit time:\n",
      "- price_of_previous_flight\n",
      "Feature names seen at fit time, yet now missing:\n",
      "- price_of_next_flight\n",
      "\n",
      "  warnings.warn(message, FutureWarning)\n"
     ]
    },
    {
     "data": {
      "text/plain": [
       "(0.2861029312844736, 0.2898654708520179)"
      ]
     },
     "execution_count": 15,
     "metadata": {},
     "output_type": "execute_result"
    }
   ],
   "source": [
    "evaluate_model(model, x_train, y_train, x_test, y_test, fit=False)"
   ]
  },
  {
   "cell_type": "code",
   "execution_count": 24,
   "id": "dcc8be92",
   "metadata": {},
   "outputs": [],
   "source": [
    "model_save_path = '../Models/final_models/random_forest_v5.pkl'\n",
    "pickle.dump(rf_random, open(model_save_path, 'wb'))"
   ]
  },
  {
   "cell_type": "code",
   "execution_count": 54,
   "id": "a34eeae0",
   "metadata": {},
   "outputs": [],
   "source": [
    "# Auf Google Colab trainiertes Modell laden\n",
    "rf_model = pickle.load(open('../Models/final_models/random_forest_v4.pkl', 'rb'))"
   ]
  },
  {
   "cell_type": "code",
   "execution_count": 55,
   "id": "dd959efb",
   "metadata": {},
   "outputs": [
    {
     "name": "stdout",
     "output_type": "stream",
     "text": [
      "Training Score: 0.9862030822583298\n",
      "Test Score: 0.986846038863976\n",
      "              precision    recall  f1-score   support\n",
      "\n",
      "           0       0.99      0.99      0.99     12981\n",
      "           1       0.98      0.96      0.97      3744\n",
      "\n",
      "    accuracy                           0.99     16725\n",
      "   macro avg       0.98      0.98      0.98     16725\n",
      "weighted avg       0.99      0.99      0.99     16725\n",
      "\n"
     ]
    },
    {
     "data": {
      "text/plain": [
       "(0.9862030822583298, 0.986846038863976)"
      ]
     },
     "execution_count": 55,
     "metadata": {},
     "output_type": "execute_result"
    }
   ],
   "source": [
    "evaluate_model(rf_model, x_train, y_train, x_test, y_test, fit=False)"
   ]
  },
  {
   "cell_type": "markdown",
   "id": "8289c389",
   "metadata": {},
   "source": [
    "#### AUC Kurve plotten"
   ]
  },
  {
   "cell_type": "code",
   "execution_count": 56,
   "id": "48ba0305",
   "metadata": {},
   "outputs": [
    {
     "name": "stderr",
     "output_type": "stream",
     "text": [
      "C:\\Users\\Max\\Anaconda3\\envs\\py39\\lib\\site-packages\\sklearn\\utils\\deprecation.py:87: FutureWarning: Function plot_roc_curve is deprecated; Function :func:`plot_roc_curve` is deprecated in 1.0 and will be removed in 1.2. Use one of the class methods: :meth:`sklearn.metric.RocCurveDisplay.from_predictions` or :meth:`sklearn.metric.RocCurveDisplay.from_estimator`.\n",
      "  warnings.warn(msg, category=FutureWarning)\n"
     ]
    },
    {
     "data": {
      "text/plain": [
       "<sklearn.metrics._plot.roc_curve.RocCurveDisplay at 0x20b08915e80>"
      ]
     },
     "execution_count": 56,
     "metadata": {},
     "output_type": "execute_result"
    },
    {
     "data": {
      "image/png": "[encoded data removed]",
      "text/plain": [
       "<Figure size 720x432 with 1 Axes>"
      ]
     },
     "metadata": {
      "needs_background": "light"
     },
     "output_type": "display_data"
    }
   ],
   "source": [
    "plt.rcParams[\"figure.figsize\"] = [10, 6]\n",
    "metrics.plot_roc_curve(rf_model, x_test, y_test) "
   ]
  },
  {
   "cell_type": "code",
   "execution_count": 70,
   "id": "c9ce45a9",
   "metadata": {},
   "outputs": [
    {
     "name": "stdout",
     "output_type": "stream",
     "text": [
      "RandomizedSea mit splits=5\n"
     ]
    },
    {
     "ename": "KeyboardInterrupt",
     "evalue": "",
     "output_type": "error",
     "traceback": [
      "\u001b[1;31m---------------------------------------------------------------------------\u001b[0m",
      "\u001b[1;31mKeyboardInterrupt\u001b[0m                         Traceback (most recent call last)",
      "\u001b[1;32m~\\AppData\\Local\\Temp/ipykernel_1740/3035304857.py\u001b[0m in \u001b[0;36m<module>\u001b[1;34m\u001b[0m\n\u001b[1;32m----> 1\u001b[1;33m \u001b[0mdisplay_scores\u001b[0m\u001b[1;33m(\u001b[0m\u001b[0mperformCrossValidation\u001b[0m\u001b[1;33m(\u001b[0m\u001b[0mrf_model\u001b[0m\u001b[1;33m,\u001b[0m \u001b[0mx_train\u001b[0m\u001b[1;33m,\u001b[0m \u001b[0my_train\u001b[0m\u001b[1;33m)\u001b[0m\u001b[1;33m)\u001b[0m\u001b[1;33m\u001b[0m\u001b[1;33m\u001b[0m\u001b[0m\n\u001b[0m",
      "\u001b[1;32m~\\AppData\\Local\\Temp/ipykernel_1740/2492824252.py\u001b[0m in \u001b[0;36mperformCrossValidation\u001b[1;34m(model, x_train, y_train, splits)\u001b[0m\n\u001b[0;32m      2\u001b[0m     \u001b[0mprint\u001b[0m\u001b[1;33m(\u001b[0m\u001b[1;34mf'{str(model)[:13]} mit splits={splits}'\u001b[0m\u001b[1;33m)\u001b[0m\u001b[1;33m\u001b[0m\u001b[1;33m\u001b[0m\u001b[0m\n\u001b[0;32m      3\u001b[0m     \u001b[0mcv\u001b[0m \u001b[1;33m=\u001b[0m \u001b[0mRepeatedStratifiedKFold\u001b[0m\u001b[1;33m(\u001b[0m\u001b[0mn_splits\u001b[0m\u001b[1;33m=\u001b[0m\u001b[0msplits\u001b[0m\u001b[1;33m,\u001b[0m \u001b[0mn_repeats\u001b[0m\u001b[1;33m=\u001b[0m\u001b[1;36m3\u001b[0m\u001b[1;33m,\u001b[0m \u001b[0mrandom_state\u001b[0m\u001b[1;33m=\u001b[0m\u001b[1;36m1\u001b[0m\u001b[1;33m)\u001b[0m\u001b[1;33m\u001b[0m\u001b[1;33m\u001b[0m\u001b[0m\n\u001b[1;32m----> 4\u001b[1;33m     \u001b[1;32mreturn\u001b[0m \u001b[0mcross_val_score\u001b[0m\u001b[1;33m(\u001b[0m\u001b[0mmodel\u001b[0m\u001b[1;33m,\u001b[0m \u001b[0mx_train\u001b[0m\u001b[1;33m,\u001b[0m \u001b[0my_train\u001b[0m\u001b[1;33m,\u001b[0m \u001b[0mscoring\u001b[0m\u001b[1;33m=\u001b[0m\u001b[1;34m'accuracy'\u001b[0m\u001b[1;33m,\u001b[0m \u001b[0mcv\u001b[0m\u001b[1;33m=\u001b[0m\u001b[0mcv\u001b[0m\u001b[1;33m,\u001b[0m \u001b[0mn_jobs\u001b[0m\u001b[1;33m=\u001b[0m\u001b[1;33m-\u001b[0m\u001b[1;36m1\u001b[0m\u001b[1;33m)\u001b[0m\u001b[1;33m\u001b[0m\u001b[1;33m\u001b[0m\u001b[0m\n\u001b[0m",
      "\u001b[1;32m~\\Anaconda3\\envs\\py39\\lib\\site-packages\\sklearn\\model_selection\\_validation.py\u001b[0m in \u001b[0;36mcross_val_score\u001b[1;34m(estimator, X, y, groups, scoring, cv, n_jobs, verbose, fit_params, pre_dispatch, error_score)\u001b[0m\n\u001b[0;32m    507\u001b[0m     \u001b[0mscorer\u001b[0m \u001b[1;33m=\u001b[0m \u001b[0mcheck_scoring\u001b[0m\u001b[1;33m(\u001b[0m\u001b[0mestimator\u001b[0m\u001b[1;33m,\u001b[0m \u001b[0mscoring\u001b[0m\u001b[1;33m=\u001b[0m\u001b[0mscoring\u001b[0m\u001b[1;33m)\u001b[0m\u001b[1;33m\u001b[0m\u001b[1;33m\u001b[0m\u001b[0m\n\u001b[0;32m    508\u001b[0m \u001b[1;33m\u001b[0m\u001b[0m\n\u001b[1;32m--> 509\u001b[1;33m     cv_results = cross_validate(\n\u001b[0m\u001b[0;32m    510\u001b[0m         \u001b[0mestimator\u001b[0m\u001b[1;33m=\u001b[0m\u001b[0mestimator\u001b[0m\u001b[1;33m,\u001b[0m\u001b[1;33m\u001b[0m\u001b[1;33m\u001b[0m\u001b[0m\n\u001b[0;32m    511\u001b[0m         \u001b[0mX\u001b[0m\u001b[1;33m=\u001b[0m\u001b[0mX\u001b[0m\u001b[1;33m,\u001b[0m\u001b[1;33m\u001b[0m\u001b[1;33m\u001b[0m\u001b[0m\n",
      "\u001b[1;32m~\\Anaconda3\\envs\\py39\\lib\\site-packages\\sklearn\\model_selection\\_validation.py\u001b[0m in \u001b[0;36mcross_validate\u001b[1;34m(estimator, X, y, groups, scoring, cv, n_jobs, verbose, fit_params, pre_dispatch, return_train_score, return_estimator, error_score)\u001b[0m\n\u001b[0;32m    265\u001b[0m     \u001b[1;31m# independent, and that it is pickle-able.\u001b[0m\u001b[1;33m\u001b[0m\u001b[1;33m\u001b[0m\u001b[0m\n\u001b[0;32m    266\u001b[0m     \u001b[0mparallel\u001b[0m \u001b[1;33m=\u001b[0m \u001b[0mParallel\u001b[0m\u001b[1;33m(\u001b[0m\u001b[0mn_jobs\u001b[0m\u001b[1;33m=\u001b[0m\u001b[0mn_jobs\u001b[0m\u001b[1;33m,\u001b[0m \u001b[0mverbose\u001b[0m\u001b[1;33m=\u001b[0m\u001b[0mverbose\u001b[0m\u001b[1;33m,\u001b[0m \u001b[0mpre_dispatch\u001b[0m\u001b[1;33m=\u001b[0m\u001b[0mpre_dispatch\u001b[0m\u001b[1;33m)\u001b[0m\u001b[1;33m\u001b[0m\u001b[1;33m\u001b[0m\u001b[0m\n\u001b[1;32m--> 267\u001b[1;33m     results = parallel(\n\u001b[0m\u001b[0;32m    268\u001b[0m         delayed(_fit_and_score)(\n\u001b[0;32m    269\u001b[0m             \u001b[0mclone\u001b[0m\u001b[1;33m(\u001b[0m\u001b[0mestimator\u001b[0m\u001b[1;33m)\u001b[0m\u001b[1;33m,\u001b[0m\u001b[1;33m\u001b[0m\u001b[1;33m\u001b[0m\u001b[0m\n",
      "\u001b[1;32m~\\Anaconda3\\envs\\py39\\lib\\site-packages\\joblib\\parallel.py\u001b[0m in \u001b[0;36m__call__\u001b[1;34m(self, iterable)\u001b[0m\n\u001b[0;32m   1054\u001b[0m \u001b[1;33m\u001b[0m\u001b[0m\n\u001b[0;32m   1055\u001b[0m             \u001b[1;32mwith\u001b[0m \u001b[0mself\u001b[0m\u001b[1;33m.\u001b[0m\u001b[0m_backend\u001b[0m\u001b[1;33m.\u001b[0m\u001b[0mretrieval_context\u001b[0m\u001b[1;33m(\u001b[0m\u001b[1;33m)\u001b[0m\u001b[1;33m:\u001b[0m\u001b[1;33m\u001b[0m\u001b[1;33m\u001b[0m\u001b[0m\n\u001b[1;32m-> 1056\u001b[1;33m                 \u001b[0mself\u001b[0m\u001b[1;33m.\u001b[0m\u001b[0mretrieve\u001b[0m\u001b[1;33m(\u001b[0m\u001b[1;33m)\u001b[0m\u001b[1;33m\u001b[0m\u001b[1;33m\u001b[0m\u001b[0m\n\u001b[0m\u001b[0;32m   1057\u001b[0m             \u001b[1;31m# Make sure that we get a last message telling us we are done\u001b[0m\u001b[1;33m\u001b[0m\u001b[1;33m\u001b[0m\u001b[0m\n\u001b[0;32m   1058\u001b[0m             \u001b[0melapsed_time\u001b[0m \u001b[1;33m=\u001b[0m \u001b[0mtime\u001b[0m\u001b[1;33m.\u001b[0m\u001b[0mtime\u001b[0m\u001b[1;33m(\u001b[0m\u001b[1;33m)\u001b[0m \u001b[1;33m-\u001b[0m \u001b[0mself\u001b[0m\u001b[1;33m.\u001b[0m\u001b[0m_start_time\u001b[0m\u001b[1;33m\u001b[0m\u001b[1;33m\u001b[0m\u001b[0m\n",
      "\u001b[1;32m~\\Anaconda3\\envs\\py39\\lib\\site-packages\\joblib\\parallel.py\u001b[0m in \u001b[0;36mretrieve\u001b[1;34m(self)\u001b[0m\n\u001b[0;32m    933\u001b[0m             \u001b[1;32mtry\u001b[0m\u001b[1;33m:\u001b[0m\u001b[1;33m\u001b[0m\u001b[1;33m\u001b[0m\u001b[0m\n\u001b[0;32m    934\u001b[0m                 \u001b[1;32mif\u001b[0m \u001b[0mgetattr\u001b[0m\u001b[1;33m(\u001b[0m\u001b[0mself\u001b[0m\u001b[1;33m.\u001b[0m\u001b[0m_backend\u001b[0m\u001b[1;33m,\u001b[0m \u001b[1;34m'supports_timeout'\u001b[0m\u001b[1;33m,\u001b[0m \u001b[1;32mFalse\u001b[0m\u001b[1;33m)\u001b[0m\u001b[1;33m:\u001b[0m\u001b[1;33m\u001b[0m\u001b[1;33m\u001b[0m\u001b[0m\n\u001b[1;32m--> 935\u001b[1;33m                     \u001b[0mself\u001b[0m\u001b[1;33m.\u001b[0m\u001b[0m_output\u001b[0m\u001b[1;33m.\u001b[0m\u001b[0mextend\u001b[0m\u001b[1;33m(\u001b[0m\u001b[0mjob\u001b[0m\u001b[1;33m.\u001b[0m\u001b[0mget\u001b[0m\u001b[1;33m(\u001b[0m\u001b[0mtimeout\u001b[0m\u001b[1;33m=\u001b[0m\u001b[0mself\u001b[0m\u001b[1;33m.\u001b[0m\u001b[0mtimeout\u001b[0m\u001b[1;33m)\u001b[0m\u001b[1;33m)\u001b[0m\u001b[1;33m\u001b[0m\u001b[1;33m\u001b[0m\u001b[0m\n\u001b[0m\u001b[0;32m    936\u001b[0m                 \u001b[1;32melse\u001b[0m\u001b[1;33m:\u001b[0m\u001b[1;33m\u001b[0m\u001b[1;33m\u001b[0m\u001b[0m\n\u001b[0;32m    937\u001b[0m                     \u001b[0mself\u001b[0m\u001b[1;33m.\u001b[0m\u001b[0m_output\u001b[0m\u001b[1;33m.\u001b[0m\u001b[0mextend\u001b[0m\u001b[1;33m(\u001b[0m\u001b[0mjob\u001b[0m\u001b[1;33m.\u001b[0m\u001b[0mget\u001b[0m\u001b[1;33m(\u001b[0m\u001b[1;33m)\u001b[0m\u001b[1;33m)\u001b[0m\u001b[1;33m\u001b[0m\u001b[1;33m\u001b[0m\u001b[0m\n",
      "\u001b[1;32m~\\Anaconda3\\envs\\py39\\lib\\site-packages\\joblib\\_parallel_backends.py\u001b[0m in \u001b[0;36mwrap_future_result\u001b[1;34m(future, timeout)\u001b[0m\n\u001b[0;32m    540\u001b[0m         AsyncResults.get from multiprocessing.\"\"\"\n\u001b[0;32m    541\u001b[0m         \u001b[1;32mtry\u001b[0m\u001b[1;33m:\u001b[0m\u001b[1;33m\u001b[0m\u001b[1;33m\u001b[0m\u001b[0m\n\u001b[1;32m--> 542\u001b[1;33m             \u001b[1;32mreturn\u001b[0m \u001b[0mfuture\u001b[0m\u001b[1;33m.\u001b[0m\u001b[0mresult\u001b[0m\u001b[1;33m(\u001b[0m\u001b[0mtimeout\u001b[0m\u001b[1;33m=\u001b[0m\u001b[0mtimeout\u001b[0m\u001b[1;33m)\u001b[0m\u001b[1;33m\u001b[0m\u001b[1;33m\u001b[0m\u001b[0m\n\u001b[0m\u001b[0;32m    543\u001b[0m         \u001b[1;32mexcept\u001b[0m \u001b[0mCfTimeoutError\u001b[0m \u001b[1;32mas\u001b[0m \u001b[0me\u001b[0m\u001b[1;33m:\u001b[0m\u001b[1;33m\u001b[0m\u001b[1;33m\u001b[0m\u001b[0m\n\u001b[0;32m    544\u001b[0m             \u001b[1;32mraise\u001b[0m \u001b[0mTimeoutError\u001b[0m \u001b[1;32mfrom\u001b[0m \u001b[0me\u001b[0m\u001b[1;33m\u001b[0m\u001b[1;33m\u001b[0m\u001b[0m\n",
      "\u001b[1;32m~\\Anaconda3\\envs\\py39\\lib\\concurrent\\futures\\_base.py\u001b[0m in \u001b[0;36mresult\u001b[1;34m(self, timeout)\u001b[0m\n\u001b[0;32m    438\u001b[0m                     \u001b[1;32mreturn\u001b[0m \u001b[0mself\u001b[0m\u001b[1;33m.\u001b[0m\u001b[0m__get_result\u001b[0m\u001b[1;33m(\u001b[0m\u001b[1;33m)\u001b[0m\u001b[1;33m\u001b[0m\u001b[1;33m\u001b[0m\u001b[0m\n\u001b[0;32m    439\u001b[0m \u001b[1;33m\u001b[0m\u001b[0m\n\u001b[1;32m--> 440\u001b[1;33m                 \u001b[0mself\u001b[0m\u001b[1;33m.\u001b[0m\u001b[0m_condition\u001b[0m\u001b[1;33m.\u001b[0m\u001b[0mwait\u001b[0m\u001b[1;33m(\u001b[0m\u001b[0mtimeout\u001b[0m\u001b[1;33m)\u001b[0m\u001b[1;33m\u001b[0m\u001b[1;33m\u001b[0m\u001b[0m\n\u001b[0m\u001b[0;32m    441\u001b[0m \u001b[1;33m\u001b[0m\u001b[0m\n\u001b[0;32m    442\u001b[0m                 \u001b[1;32mif\u001b[0m \u001b[0mself\u001b[0m\u001b[1;33m.\u001b[0m\u001b[0m_state\u001b[0m \u001b[1;32min\u001b[0m \u001b[1;33m[\u001b[0m\u001b[0mCANCELLED\u001b[0m\u001b[1;33m,\u001b[0m \u001b[0mCANCELLED_AND_NOTIFIED\u001b[0m\u001b[1;33m]\u001b[0m\u001b[1;33m:\u001b[0m\u001b[1;33m\u001b[0m\u001b[1;33m\u001b[0m\u001b[0m\n",
      "\u001b[1;32m~\\Anaconda3\\envs\\py39\\lib\\threading.py\u001b[0m in \u001b[0;36mwait\u001b[1;34m(self, timeout)\u001b[0m\n\u001b[0;32m    310\u001b[0m         \u001b[1;32mtry\u001b[0m\u001b[1;33m:\u001b[0m    \u001b[1;31m# restore state no matter what (e.g., KeyboardInterrupt)\u001b[0m\u001b[1;33m\u001b[0m\u001b[1;33m\u001b[0m\u001b[0m\n\u001b[0;32m    311\u001b[0m             \u001b[1;32mif\u001b[0m \u001b[0mtimeout\u001b[0m \u001b[1;32mis\u001b[0m \u001b[1;32mNone\u001b[0m\u001b[1;33m:\u001b[0m\u001b[1;33m\u001b[0m\u001b[1;33m\u001b[0m\u001b[0m\n\u001b[1;32m--> 312\u001b[1;33m                 \u001b[0mwaiter\u001b[0m\u001b[1;33m.\u001b[0m\u001b[0macquire\u001b[0m\u001b[1;33m(\u001b[0m\u001b[1;33m)\u001b[0m\u001b[1;33m\u001b[0m\u001b[1;33m\u001b[0m\u001b[0m\n\u001b[0m\u001b[0;32m    313\u001b[0m                 \u001b[0mgotit\u001b[0m \u001b[1;33m=\u001b[0m \u001b[1;32mTrue\u001b[0m\u001b[1;33m\u001b[0m\u001b[1;33m\u001b[0m\u001b[0m\n\u001b[0;32m    314\u001b[0m             \u001b[1;32melse\u001b[0m\u001b[1;33m:\u001b[0m\u001b[1;33m\u001b[0m\u001b[1;33m\u001b[0m\u001b[0m\n",
      "\u001b[1;31mKeyboardInterrupt\u001b[0m: "
     ]
    }
   ],
   "source": [
    "display_scores(performCrossValidation(rf_model, x_train, y_train))"
   ]
  },
  {
   "cell_type": "code",
   "execution_count": null,
   "id": "942e0b1c",
   "metadata": {},
   "outputs": [
    {
     "data": {
      "text/plain": [
       "{'n_estimators': 50,\n",
       " 'min_samples_split': 5,\n",
       " 'max_features': 0.5,\n",
       " 'max_depth': 16,\n",
       " 'bootstrap': False}"
      ]
     },
     "execution_count": 36,
     "metadata": {},
     "output_type": "execute_result"
    }
   ],
   "source": [
    "rf_model.best_params_"
   ]
  },
  {
   "cell_type": "code",
   "execution_count": 104,
   "id": "9ec79b74",
   "metadata": {},
   "outputs": [
    {
     "name": "stdout",
     "output_type": "stream",
     "text": [
      "Training Score: 0.9988041674763449\n",
      "Test Score: 0.9304633781763827\n",
      "              precision    recall  f1-score   support\n",
      "\n",
      "           0       0.95      0.96      0.96     12981\n",
      "           1       0.87      0.81      0.84      3744\n",
      "\n",
      "    accuracy                           0.93     16725\n",
      "   macro avg       0.91      0.89      0.90     16725\n",
      "weighted avg       0.93      0.93      0.93     16725\n",
      "\n"
     ]
    },
    {
     "data": {
      "text/plain": [
       "(0.9988041674763449, 0.9304633781763827)"
      ]
     },
     "execution_count": 104,
     "metadata": {},
     "output_type": "execute_result"
    }
   ],
   "source": [
    "new_rf = RandomForestClassifier(n_estimators= 150,\n",
    " min_samples_split= 10,\n",
    " max_features=0.65,\n",
    " max_depth= 32,\n",
    " n_jobs=-1,\n",
    " bootstrap= False,\n",
    " class_weight=classWeight)\n",
    " \n",
    "new_rf.fit(x_train, y_train)\n",
    "evaluate_model(new_rf, x_train, y_train, x_test, y_test, fit=False)"
   ]
  },
  {
   "cell_type": "markdown",
   "id": "7c8a47bc",
   "metadata": {},
   "source": [
    "### Finales Modell trainieren"
   ]
  },
  {
   "cell_type": "code",
   "execution_count": 69,
   "id": "37643048",
   "metadata": {},
   "outputs": [
    {
     "name": "stdout",
     "output_type": "stream",
     "text": [
      "Training Score: 0.9994020837381725\n",
      "Test Score: 0.930762331838565\n",
      "              precision    recall  f1-score   support\n",
      "\n",
      "           0       0.94      0.97      0.96     12981\n",
      "           1       0.88      0.80      0.84      3744\n",
      "\n",
      "    accuracy                           0.93     16725\n",
      "   macro avg       0.91      0.88      0.90     16725\n",
      "weighted avg       0.93      0.93      0.93     16725\n",
      "\n"
     ]
    },
    {
     "data": {
      "text/plain": [
       "(0.9994020837381725, 0.930762331838565)"
      ]
     },
     "execution_count": 69,
     "metadata": {},
     "output_type": "execute_result"
    }
   ],
   "source": [
    "new_rf = RandomForestClassifier(n_estimators= 150,\n",
    " min_samples_split= 8,\n",
    " max_features=0.5,\n",
    " max_depth= 32,\n",
    " bootstrap= False,\n",
    " class_weight=classWeight)\n",
    " \n",
    "new_rf.fit(x_train, y_train)\n",
    "evaluate_model(new_rf, x_train, y_train, x_test, y_test, fit=False)"
   ]
  },
  {
   "cell_type": "markdown",
   "id": "0981b764",
   "metadata": {},
   "source": [
    "#### Feature Importance"
   ]
  },
  {
   "cell_type": "code",
   "execution_count": 60,
   "id": "053b585b",
   "metadata": {},
   "outputs": [
    {
     "data": {
      "image/png": "[encoded data removed]",
      "text/plain": [
       "<Figure size 720x1080 with 1 Axes>"
      ]
     },
     "metadata": {
      "needs_background": "light"
     },
     "output_type": "display_data"
    }
   ],
   "source": [
    "plt.rcParams[\"figure.figsize\"] = [10, 15]\n",
    "plt.barh(x_train.columns, new_rf.feature_importances_)\n",
    "plt.savefig('../Ressources/rf_feature_importance.png')"
   ]
  },
  {
   "cell_type": "code",
   "execution_count": 62,
   "id": "adbd98ac",
   "metadata": {},
   "outputs": [
    {
     "data": {
      "text/html": [
       "<div>\n",
       "<style scoped>\n",
       "    .dataframe tbody tr th:only-of-type {\n",
       "        vertical-align: middle;\n",
       "    }\n",
       "\n",
       "    .dataframe tbody tr th {\n",
       "        vertical-align: top;\n",
       "    }\n",
       "\n",
       "    .dataframe thead th {\n",
       "        text-align: right;\n",
       "    }\n",
       "</style>\n",
       "<table border=\"1\" class=\"dataframe\">\n",
       "  <thead>\n",
       "    <tr style=\"text-align: right;\">\n",
       "      <th></th>\n",
       "      <th>0</th>\n",
       "      <th>1</th>\n",
       "    </tr>\n",
       "  </thead>\n",
       "  <tbody>\n",
       "    <tr>\n",
       "      <th>45</th>\n",
       "      <td>0.127004</td>\n",
       "      <td>days_remaining</td>\n",
       "    </tr>\n",
       "    <tr>\n",
       "      <th>7</th>\n",
       "      <td>0.126435</td>\n",
       "      <td>Price_In_Eur</td>\n",
       "    </tr>\n",
       "    <tr>\n",
       "      <th>12</th>\n",
       "      <td>0.060902</td>\n",
       "      <td>previous_requests</td>\n",
       "    </tr>\n",
       "    <tr>\n",
       "      <th>10</th>\n",
       "      <td>0.040913</td>\n",
       "      <td>price_of_next_flight</td>\n",
       "    </tr>\n",
       "    <tr>\n",
       "      <th>27</th>\n",
       "      <td>0.038289</td>\n",
       "      <td>14</td>\n",
       "    </tr>\n",
       "    <tr>\n",
       "      <th>13</th>\n",
       "      <td>0.029781</td>\n",
       "      <td>0</td>\n",
       "    </tr>\n",
       "    <tr>\n",
       "      <th>28</th>\n",
       "      <td>0.029103</td>\n",
       "      <td>PriceChange</td>\n",
       "    </tr>\n",
       "    <tr>\n",
       "      <th>42</th>\n",
       "      <td>0.028403</td>\n",
       "      <td>flight_day_cos</td>\n",
       "    </tr>\n",
       "    <tr>\n",
       "      <th>41</th>\n",
       "      <td>0.027587</td>\n",
       "      <td>flight_day_sin</td>\n",
       "    </tr>\n",
       "    <tr>\n",
       "      <th>3</th>\n",
       "      <td>0.026582</td>\n",
       "      <td>route_SXF-STN</td>\n",
       "    </tr>\n",
       "  </tbody>\n",
       "</table>\n",
       "</div>"
      ],
      "text/plain": [
       "           0                     1\n",
       "45  0.127004        days_remaining\n",
       "7   0.126435          Price_In_Eur\n",
       "12  0.060902     previous_requests\n",
       "10  0.040913  price_of_next_flight\n",
       "27  0.038289                    14\n",
       "13  0.029781                     0\n",
       "28  0.029103           PriceChange\n",
       "42  0.028403        flight_day_cos\n",
       "41  0.027587        flight_day_sin\n",
       "3   0.026582         route_SXF-STN"
      ]
     },
     "execution_count": 62,
     "metadata": {},
     "output_type": "execute_result"
    }
   ],
   "source": [
    "pd.DataFrame(list(zip(new_rf.feature_importances_, x_train.columns))).sort_values(by=[0], ascending=False).head(10)"
   ]
  },
  {
   "cell_type": "markdown",
   "id": "e905af49",
   "metadata": {},
   "source": [
    "#### Cross Validation mit Hyperparameter Tuning"
   ]
  },
  {
   "cell_type": "code",
   "execution_count": null,
   "id": "9516dfb2",
   "metadata": {
    "scrolled": true
   },
   "outputs": [],
   "source": [
    "cv = KFold(n_splits=10, random_state=1, shuffle=True)\n",
    "\n",
    "model = RandomForestClassifier(n_estimators= 200, \n",
    "                               max_features= 'sqrt')\n",
    "\n",
    "scores = cross_val_score(model, x_train.drop(['request_is_weekend', \n",
    "                                              'request_month_sin', \n",
    "                                              'request_month_cos'],1), y_train, scoring='accuracy', cv=cv, n_jobs=-1)\n",
    "\n",
    "model = model.fit(x_train, y_train)"
   ]
  },
  {
   "cell_type": "code",
   "execution_count": null,
   "id": "ad1e45e7",
   "metadata": {},
   "outputs": [],
   "source": [
    "print('Accuracy: %.3f (%.3f)' % (mean(scores), std(scores)))\n",
    "\n",
    "# Predictions on the test dataset\n",
    "predicted = pd.DataFrame(model.predict(x_test))\n",
    "# Probabilities on the test dataset\n",
    "probs = pd.DataFrame(model.predict_proba(x_test))\n",
    "print('Test Score:', metrics.accuracy_score(y_test, predicted))\n",
    "\n",
    "print(metrics.classification_report(y_test, predicted))\n",
    "print(model.feature_importances_)"
   ]
  },
  {
   "cell_type": "markdown",
   "id": "5b014763",
   "metadata": {},
   "source": [
    "___"
   ]
  },
  {
   "cell_type": "markdown",
   "id": "eff1338a",
   "metadata": {},
   "source": [
    "## 3. Neural Network"
   ]
  },
  {
   "cell_type": "markdown",
   "id": "1875c248",
   "metadata": {},
   "source": [
    "Als zweiter Classifier habe ich ein neuronales Netzwerk gewählt. "
   ]
  },
  {
   "cell_type": "code",
   "execution_count": null,
   "id": "a254396e",
   "metadata": {},
   "outputs": [
    {
     "name": "stdout",
     "output_type": "stream",
     "text": [
      "Epoch 1/200\n",
      "2091/2091 [==============================] - 6s 2ms/step - loss: 0.5252 - accuracy: 0.7592 - val_loss: 0.3912 - val_accuracy: 0.8380\n",
      "Epoch 2/200\n",
      "2091/2091 [==============================] - 5s 2ms/step - loss: 0.4859 - accuracy: 0.7803 - val_loss: 0.3771 - val_accuracy: 0.8468\n",
      "Epoch 3/200\n",
      "2091/2091 [==============================] - 5s 2ms/step - loss: 0.4673 - accuracy: 0.7925 - val_loss: 0.3704 - val_accuracy: 0.8504\n",
      "Epoch 4/200\n",
      "2091/2091 [==============================] - 5s 2ms/step - loss: 0.4553 - accuracy: 0.7980 - val_loss: 0.3692 - val_accuracy: 0.8505\n",
      "Epoch 5/200\n",
      "2091/2091 [==============================] - 5s 2ms/step - loss: 0.4476 - accuracy: 0.7992 - val_loss: 0.3663 - val_accuracy: 0.8529\n",
      "Epoch 6/200\n",
      "2091/2091 [==============================] - 5s 2ms/step - loss: 0.4415 - accuracy: 0.8022 - val_loss: 0.3750 - val_accuracy: 0.8529\n",
      "Epoch 7/200\n",
      "2091/2091 [==============================] - 5s 2ms/step - loss: 0.4337 - accuracy: 0.8059 - val_loss: 0.3709 - val_accuracy: 0.8524\n",
      "Epoch 8/200\n",
      "2091/2091 [==============================] - 5s 2ms/step - loss: 0.4276 - accuracy: 0.8069 - val_loss: 0.4103 - val_accuracy: 0.8433\n",
      "Epoch 9/200\n",
      "2091/2091 [==============================] - 5s 2ms/step - loss: 0.4209 - accuracy: 0.8101 - val_loss: 0.3847 - val_accuracy: 0.8509\n",
      "Epoch 10/200\n",
      "2091/2091 [==============================] - 5s 2ms/step - loss: 0.4153 - accuracy: 0.8120 - val_loss: 0.4514 - val_accuracy: 0.8031\n",
      "Epoch 11/200\n",
      "2091/2091 [==============================] - 4s 2ms/step - loss: 0.4086 - accuracy: 0.8155 - val_loss: 0.3953 - val_accuracy: 0.8480\n",
      "Epoch 12/200\n",
      "2091/2091 [==============================] - 5s 2ms/step - loss: 0.4030 - accuracy: 0.8172 - val_loss: 0.4377 - val_accuracy: 0.8078\n",
      "Epoch 13/200\n",
      "2091/2091 [==============================] - 5s 2ms/step - loss: 0.3955 - accuracy: 0.8196 - val_loss: 0.4187 - val_accuracy: 0.8282\n",
      "Epoch 14/200\n",
      "2091/2091 [==============================] - 5s 2ms/step - loss: 0.3915 - accuracy: 0.8215 - val_loss: 0.5760 - val_accuracy: 0.7027\n",
      "Epoch 15/200\n",
      "2091/2091 [==============================] - 5s 2ms/step - loss: 0.3863 - accuracy: 0.8248 - val_loss: 0.5444 - val_accuracy: 0.7396\n",
      "Epoch 16/200\n",
      "2091/2091 [==============================] - 5s 2ms/step - loss: 0.3815 - accuracy: 0.8255 - val_loss: 0.6096 - val_accuracy: 0.6949\n",
      "Epoch 17/200\n",
      "2091/2091 [==============================] - 5s 2ms/step - loss: 0.3750 - accuracy: 0.8284 - val_loss: 0.4828 - val_accuracy: 0.7930\n",
      "Epoch 18/200\n",
      "2091/2091 [==============================] - 5s 2ms/step - loss: 0.3716 - accuracy: 0.8308 - val_loss: 0.4920 - val_accuracy: 0.7836\n",
      "Epoch 19/200\n",
      "2091/2091 [==============================] - 5s 2ms/step - loss: 0.3661 - accuracy: 0.8343 - val_loss: 0.8339 - val_accuracy: 0.6099\n",
      "Epoch 20/200\n",
      "2091/2091 [==============================] - 5s 2ms/step - loss: 0.3619 - accuracy: 0.8364 - val_loss: 0.9368 - val_accuracy: 0.5696\n",
      "Epoch 21/200\n",
      "2091/2091 [==============================] - 5s 2ms/step - loss: 0.3581 - accuracy: 0.8368 - val_loss: 0.6334 - val_accuracy: 0.7150\n",
      "Epoch 22/200\n",
      "2091/2091 [==============================] - 5s 2ms/step - loss: 0.3544 - accuracy: 0.8381 - val_loss: 0.5525 - val_accuracy: 0.7690\n",
      "Epoch 23/200\n",
      "2091/2091 [==============================] - 5s 2ms/step - loss: 0.3508 - accuracy: 0.8399 - val_loss: 0.6599 - val_accuracy: 0.7069\n",
      "Epoch 24/200\n",
      "2091/2091 [==============================] - 5s 2ms/step - loss: 0.3472 - accuracy: 0.8418 - val_loss: 0.6942 - val_accuracy: 0.6931\n",
      "Epoch 25/200\n",
      "2091/2091 [==============================] - 5s 2ms/step - loss: 0.3440 - accuracy: 0.8431 - val_loss: 0.6454 - val_accuracy: 0.7271\n",
      "Epoch 26/200\n",
      "2091/2091 [==============================] - 5s 2ms/step - loss: 0.3402 - accuracy: 0.8448 - val_loss: 0.7298 - val_accuracy: 0.6924\n",
      "Epoch 27/200\n",
      "2091/2091 [==============================] - 5s 2ms/step - loss: 0.3359 - accuracy: 0.8481 - val_loss: 1.2415 - val_accuracy: 0.5168\n",
      "Epoch 28/200\n",
      "2091/2091 [==============================] - 5s 2ms/step - loss: 0.3330 - accuracy: 0.8484 - val_loss: 0.7107 - val_accuracy: 0.7222\n",
      "Epoch 29/200\n",
      "2091/2091 [==============================] - 5s 2ms/step - loss: 0.3300 - accuracy: 0.8506 - val_loss: 1.0765 - val_accuracy: 0.5742\n",
      "Epoch 30/200\n",
      "2091/2091 [==============================] - 5s 2ms/step - loss: 0.3267 - accuracy: 0.8507 - val_loss: 0.7972 - val_accuracy: 0.6810\n",
      "Epoch 31/200\n",
      "2091/2091 [==============================] - 5s 2ms/step - loss: 0.3263 - accuracy: 0.8509 - val_loss: 0.7995 - val_accuracy: 0.6957\n",
      "Epoch 32/200\n",
      "2091/2091 [==============================] - 5s 2ms/step - loss: 0.3198 - accuracy: 0.8551 - val_loss: 0.8653 - val_accuracy: 0.6705\n",
      "Epoch 33/200\n",
      "2091/2091 [==============================] - 5s 2ms/step - loss: 0.3176 - accuracy: 0.8561 - val_loss: 0.6358 - val_accuracy: 0.7650\n",
      "Epoch 34/200\n",
      "2091/2091 [==============================] - 5s 2ms/step - loss: 0.3155 - accuracy: 0.8568 - val_loss: 0.6767 - val_accuracy: 0.7522\n",
      "Epoch 35/200\n",
      "2091/2091 [==============================] - 5s 2ms/step - loss: 0.3141 - accuracy: 0.8585 - val_loss: 0.8186 - val_accuracy: 0.6978\n",
      "Epoch 36/200\n",
      "2091/2091 [==============================] - 5s 2ms/step - loss: 0.3108 - accuracy: 0.8602 - val_loss: 0.9431 - val_accuracy: 0.6428\n",
      "Epoch 37/200\n",
      "2091/2091 [==============================] - 5s 2ms/step - loss: 0.3079 - accuracy: 0.8609 - val_loss: 0.8440 - val_accuracy: 0.6808\n",
      "Epoch 38/200\n",
      "2091/2091 [==============================] - 5s 2ms/step - loss: 0.3056 - accuracy: 0.8610 - val_loss: 0.9354 - val_accuracy: 0.6584\n",
      "Epoch 39/200\n",
      "2091/2091 [==============================] - 5s 2ms/step - loss: 0.3024 - accuracy: 0.8624 - val_loss: 0.8249 - val_accuracy: 0.6952\n",
      "Epoch 40/200\n",
      "2091/2091 [==============================] - 5s 2ms/step - loss: 0.2996 - accuracy: 0.8648 - val_loss: 1.2224 - val_accuracy: 0.5884\n",
      "Epoch 41/200\n",
      "2091/2091 [==============================] - 5s 2ms/step - loss: 0.2986 - accuracy: 0.8656 - val_loss: 0.8002 - val_accuracy: 0.7164\n",
      "Epoch 42/200\n",
      "2091/2091 [==============================] - 5s 2ms/step - loss: 0.2947 - accuracy: 0.8671 - val_loss: 2.0646 - val_accuracy: 0.3964\n",
      "Epoch 43/200\n",
      "2091/2091 [==============================] - 5s 2ms/step - loss: 0.2935 - accuracy: 0.8661 - val_loss: 0.9906 - val_accuracy: 0.6573\n",
      "Epoch 44/200\n",
      "2091/2091 [==============================] - 5s 2ms/step - loss: 0.2904 - accuracy: 0.8704 - val_loss: 1.1395 - val_accuracy: 0.6091\n",
      "Epoch 45/200\n",
      "2091/2091 [==============================] - 5s 2ms/step - loss: 0.2887 - accuracy: 0.8704 - val_loss: 1.1484 - val_accuracy: 0.6132\n",
      "Epoch 46/200\n",
      "2091/2091 [==============================] - 5s 2ms/step - loss: 0.2863 - accuracy: 0.8710 - val_loss: 0.8245 - val_accuracy: 0.7236\n",
      "Epoch 47/200\n",
      "2091/2091 [==============================] - 5s 2ms/step - loss: 0.2842 - accuracy: 0.8717 - val_loss: 0.9152 - val_accuracy: 0.7042\n",
      "Epoch 48/200\n",
      "2091/2091 [==============================] - 5s 2ms/step - loss: 0.2807 - accuracy: 0.8740 - val_loss: 0.8111 - val_accuracy: 0.7439\n",
      "Epoch 49/200\n",
      "2091/2091 [==============================] - 5s 2ms/step - loss: 0.2813 - accuracy: 0.8729 - val_loss: 1.0546 - val_accuracy: 0.6483\n",
      "Epoch 50/200\n",
      "2091/2091 [==============================] - 5s 2ms/step - loss: 0.2797 - accuracy: 0.8748 - val_loss: 1.1432 - val_accuracy: 0.6444\n",
      "Epoch 51/200\n",
      "2091/2091 [==============================] - 5s 2ms/step - loss: 0.2759 - accuracy: 0.8768 - val_loss: 1.1074 - val_accuracy: 0.6460\n",
      "Epoch 52/200\n",
      "2091/2091 [==============================] - 5s 2ms/step - loss: 0.2740 - accuracy: 0.8790 - val_loss: 0.9099 - val_accuracy: 0.7158\n",
      "Epoch 53/200\n",
      "2091/2091 [==============================] - 5s 2ms/step - loss: 0.2751 - accuracy: 0.8777 - val_loss: 0.9565 - val_accuracy: 0.6997\n",
      "Epoch 54/200\n",
      "2091/2091 [==============================] - 5s 2ms/step - loss: 0.2702 - accuracy: 0.8785 - val_loss: 1.3294 - val_accuracy: 0.6007\n",
      "Epoch 55/200\n",
      "2091/2091 [==============================] - 5s 2ms/step - loss: 0.2684 - accuracy: 0.8800 - val_loss: 0.8142 - val_accuracy: 0.7608\n",
      "Epoch 56/200\n",
      "2091/2091 [==============================] - 5s 2ms/step - loss: 0.2672 - accuracy: 0.8793 - val_loss: 1.0766 - val_accuracy: 0.6820\n",
      "Epoch 57/200\n",
      "2091/2091 [==============================] - 6s 3ms/step - loss: 0.2659 - accuracy: 0.8800 - val_loss: 1.1072 - val_accuracy: 0.6585\n",
      "Epoch 58/200\n",
      "2091/2091 [==============================] - 5s 2ms/step - loss: 0.2640 - accuracy: 0.8822 - val_loss: 1.4230 - val_accuracy: 0.5882\n",
      "Epoch 59/200\n",
      "2091/2091 [==============================] - 5s 2ms/step - loss: 0.2623 - accuracy: 0.8836 - val_loss: 1.6716 - val_accuracy: 0.5242\n",
      "Epoch 60/200\n",
      "2091/2091 [==============================] - 5s 2ms/step - loss: 0.2606 - accuracy: 0.8826 - val_loss: 1.1086 - val_accuracy: 0.6810\n",
      "Epoch 61/200\n",
      "2091/2091 [==============================] - 5s 2ms/step - loss: 0.2575 - accuracy: 0.8853 - val_loss: 1.1701 - val_accuracy: 0.6658\n",
      "Epoch 62/200\n",
      "2091/2091 [==============================] - 5s 2ms/step - loss: 0.2569 - accuracy: 0.8865 - val_loss: 1.5035 - val_accuracy: 0.5813\n",
      "Epoch 63/200\n",
      "2091/2091 [==============================] - 5s 2ms/step - loss: 0.2565 - accuracy: 0.8850 - val_loss: 1.5508 - val_accuracy: 0.5785\n",
      "Epoch 64/200\n",
      "2091/2091 [==============================] - 5s 2ms/step - loss: 0.2551 - accuracy: 0.8874 - val_loss: 1.3934 - val_accuracy: 0.6007\n",
      "Epoch 65/200\n",
      "2091/2091 [==============================] - 5s 2ms/step - loss: 0.2523 - accuracy: 0.8889 - val_loss: 1.2075 - val_accuracy: 0.6655\n",
      "Epoch 66/200\n",
      "2091/2091 [==============================] - 5s 2ms/step - loss: 0.2514 - accuracy: 0.8877 - val_loss: 1.0375 - val_accuracy: 0.7222\n",
      "Epoch 67/200\n",
      "2091/2091 [==============================] - 5s 2ms/step - loss: 0.2485 - accuracy: 0.8902 - val_loss: 1.1337 - val_accuracy: 0.6858\n",
      "Epoch 68/200\n",
      "2091/2091 [==============================] - 5s 2ms/step - loss: 0.2469 - accuracy: 0.8919 - val_loss: 1.2539 - val_accuracy: 0.6544\n",
      "Epoch 69/200\n",
      "2091/2091 [==============================] - 5s 2ms/step - loss: 0.2456 - accuracy: 0.8916 - val_loss: 1.4238 - val_accuracy: 0.6219\n",
      "Epoch 70/200\n",
      "2091/2091 [==============================] - 5s 2ms/step - loss: 0.2449 - accuracy: 0.8919 - val_loss: 1.0312 - val_accuracy: 0.7204\n",
      "Epoch 71/200\n",
      "2091/2091 [==============================] - 5s 2ms/step - loss: 0.2427 - accuracy: 0.8913 - val_loss: 1.3122 - val_accuracy: 0.6560\n",
      "Epoch 72/200\n",
      "2091/2091 [==============================] - 5s 2ms/step - loss: 0.2426 - accuracy: 0.8910 - val_loss: 1.3549 - val_accuracy: 0.6261\n",
      "Epoch 73/200\n",
      "2091/2091 [==============================] - 5s 2ms/step - loss: 0.2412 - accuracy: 0.8928 - val_loss: 1.4929 - val_accuracy: 0.6114\n",
      "Epoch 74/200\n",
      "2091/2091 [==============================] - 5s 2ms/step - loss: 0.2385 - accuracy: 0.8938 - val_loss: 1.3772 - val_accuracy: 0.6435\n",
      "Epoch 75/200\n",
      "2091/2091 [==============================] - 5s 2ms/step - loss: 0.2367 - accuracy: 0.8946 - val_loss: 1.6601 - val_accuracy: 0.5564\n",
      "Epoch 76/200\n",
      "2091/2091 [==============================] - 5s 2ms/step - loss: 0.2366 - accuracy: 0.8960 - val_loss: 1.5046 - val_accuracy: 0.6195\n",
      "Epoch 77/200\n",
      "2091/2091 [==============================] - 5s 2ms/step - loss: 0.2348 - accuracy: 0.8950 - val_loss: 1.5241 - val_accuracy: 0.5975\n",
      "Epoch 78/200\n",
      "2091/2091 [==============================] - 5s 2ms/step - loss: 0.2336 - accuracy: 0.8964 - val_loss: 1.3636 - val_accuracy: 0.6364\n",
      "Epoch 79/200\n",
      "2091/2091 [==============================] - 5s 2ms/step - loss: 0.2299 - accuracy: 0.8974 - val_loss: 1.0640 - val_accuracy: 0.7263\n",
      "Epoch 80/200\n",
      "2091/2091 [==============================] - 5s 2ms/step - loss: 0.2310 - accuracy: 0.8989 - val_loss: 1.5223 - val_accuracy: 0.6138\n",
      "Epoch 81/200\n",
      "2091/2091 [==============================] - 5s 2ms/step - loss: 0.2283 - accuracy: 0.8986 - val_loss: 1.4473 - val_accuracy: 0.6405\n",
      "Epoch 82/200\n",
      "2091/2091 [==============================] - 5s 2ms/step - loss: 0.2298 - accuracy: 0.8974 - val_loss: 1.5630 - val_accuracy: 0.6117\n",
      "Epoch 83/200\n",
      "2091/2091 [==============================] - 5s 2ms/step - loss: 0.2271 - accuracy: 0.9003 - val_loss: 1.2684 - val_accuracy: 0.6754\n",
      "Epoch 84/200\n",
      "2091/2091 [==============================] - 5s 2ms/step - loss: 0.2262 - accuracy: 0.9001 - val_loss: 1.6216 - val_accuracy: 0.6178\n",
      "Epoch 85/200\n",
      "2091/2091 [==============================] - 5s 2ms/step - loss: 0.2231 - accuracy: 0.9015 - val_loss: 1.3278 - val_accuracy: 0.6691\n",
      "Epoch 86/200\n",
      "2091/2091 [==============================] - 5s 2ms/step - loss: 0.2231 - accuracy: 0.9020 - val_loss: 1.3725 - val_accuracy: 0.6598\n",
      "Epoch 87/200\n",
      "2091/2091 [==============================] - 5s 2ms/step - loss: 0.2235 - accuracy: 0.9022 - val_loss: 1.2075 - val_accuracy: 0.7048\n",
      "Epoch 88/200\n",
      "2091/2091 [==============================] - 5s 2ms/step - loss: 0.2213 - accuracy: 0.9023 - val_loss: 1.4556 - val_accuracy: 0.6544\n",
      "Epoch 89/200\n",
      "2091/2091 [==============================] - 5s 2ms/step - loss: 0.2198 - accuracy: 0.9042 - val_loss: 1.3479 - val_accuracy: 0.6625\n",
      "Epoch 90/200\n",
      "2091/2091 [==============================] - 5s 2ms/step - loss: 0.2178 - accuracy: 0.9040 - val_loss: 1.1935 - val_accuracy: 0.7057\n",
      "Epoch 91/200\n",
      "2091/2091 [==============================] - 5s 2ms/step - loss: 0.2184 - accuracy: 0.9040 - val_loss: 1.6278 - val_accuracy: 0.6196\n",
      "Epoch 92/200\n",
      "2091/2091 [==============================] - 5s 2ms/step - loss: 0.2153 - accuracy: 0.9056 - val_loss: 1.3838 - val_accuracy: 0.6566\n",
      "Epoch 93/200\n",
      "2091/2091 [==============================] - 5s 2ms/step - loss: 0.2147 - accuracy: 0.9062 - val_loss: 1.5444 - val_accuracy: 0.6251\n",
      "Epoch 94/200\n",
      "2091/2091 [==============================] - 5s 2ms/step - loss: 0.2124 - accuracy: 0.9056 - val_loss: 1.5969 - val_accuracy: 0.6428\n",
      "Epoch 95/200\n",
      "2091/2091 [==============================] - 5s 2ms/step - loss: 0.2117 - accuracy: 0.9073 - val_loss: 1.9550 - val_accuracy: 0.5666\n",
      "Epoch 96/200\n",
      "2091/2091 [==============================] - 5s 2ms/step - loss: 0.2115 - accuracy: 0.9065 - val_loss: 1.5161 - val_accuracy: 0.6420\n",
      "Epoch 97/200\n",
      "2091/2091 [==============================] - 5s 2ms/step - loss: 0.2100 - accuracy: 0.9070 - val_loss: 1.3262 - val_accuracy: 0.6694\n",
      "Epoch 98/200\n",
      "2091/2091 [==============================] - 5s 2ms/step - loss: 0.2099 - accuracy: 0.9074 - val_loss: 1.5512 - val_accuracy: 0.6454\n",
      "Epoch 99/200\n",
      "2091/2091 [==============================] - 5s 2ms/step - loss: 0.2079 - accuracy: 0.9087 - val_loss: 1.4511 - val_accuracy: 0.6807\n",
      "Epoch 100/200\n",
      "2091/2091 [==============================] - 5s 2ms/step - loss: 0.2053 - accuracy: 0.9107 - val_loss: 1.4722 - val_accuracy: 0.6841\n",
      "Epoch 101/200\n",
      "2091/2091 [==============================] - 5s 2ms/step - loss: 0.2066 - accuracy: 0.9099 - val_loss: 1.5069 - val_accuracy: 0.6863\n",
      "Epoch 102/200\n",
      "2091/2091 [==============================] - 5s 2ms/step - loss: 0.2063 - accuracy: 0.9090 - val_loss: 1.9291 - val_accuracy: 0.6022\n",
      "Epoch 103/200\n",
      "2091/2091 [==============================] - 5s 2ms/step - loss: 0.2047 - accuracy: 0.9099 - val_loss: 1.2309 - val_accuracy: 0.7265\n",
      "Epoch 104/200\n",
      "2091/2091 [==============================] - 5s 2ms/step - loss: 0.2005 - accuracy: 0.9120 - val_loss: 1.4869 - val_accuracy: 0.7009\n",
      "Epoch 105/200\n",
      "2091/2091 [==============================] - 5s 2ms/step - loss: 0.2011 - accuracy: 0.9118 - val_loss: 1.6734 - val_accuracy: 0.6597\n",
      "Epoch 106/200\n",
      "2091/2091 [==============================] - 5s 2ms/step - loss: 0.1993 - accuracy: 0.9135 - val_loss: 1.6414 - val_accuracy: 0.6609\n",
      "Epoch 107/200\n",
      "2091/2091 [==============================] - 5s 2ms/step - loss: 0.2008 - accuracy: 0.9126 - val_loss: 1.9830 - val_accuracy: 0.5952\n",
      "Epoch 108/200\n",
      "2091/2091 [==============================] - 5s 2ms/step - loss: 0.1987 - accuracy: 0.9131 - val_loss: 1.5515 - val_accuracy: 0.6741\n",
      "Epoch 109/200\n",
      "2091/2091 [==============================] - 5s 2ms/step - loss: 0.1981 - accuracy: 0.9145 - val_loss: 2.0158 - val_accuracy: 0.5964\n",
      "Epoch 110/200\n",
      "2091/2091 [==============================] - 5s 2ms/step - loss: 0.1953 - accuracy: 0.9154 - val_loss: 1.9282 - val_accuracy: 0.6056\n",
      "Epoch 111/200\n",
      "2091/2091 [==============================] - 5s 2ms/step - loss: 0.1938 - accuracy: 0.9164 - val_loss: 1.4903 - val_accuracy: 0.7040\n",
      "Epoch 112/200\n",
      "2091/2091 [==============================] - 5s 2ms/step - loss: 0.1953 - accuracy: 0.9151 - val_loss: 1.8124 - val_accuracy: 0.6337\n",
      "Epoch 113/200\n",
      "2091/2091 [==============================] - 5s 2ms/step - loss: 0.1909 - accuracy: 0.9171 - val_loss: 1.5259 - val_accuracy: 0.6973\n",
      "Epoch 114/200\n",
      "2091/2091 [==============================] - 5s 2ms/step - loss: 0.1925 - accuracy: 0.9171 - val_loss: 1.7843 - val_accuracy: 0.6243\n",
      "Epoch 115/200\n",
      "2091/2091 [==============================] - 5s 2ms/step - loss: 0.1922 - accuracy: 0.9160 - val_loss: 1.7200 - val_accuracy: 0.6425\n",
      "Epoch 116/200\n",
      "2091/2091 [==============================] - 5s 2ms/step - loss: 0.1884 - accuracy: 0.9184 - val_loss: 1.6033 - val_accuracy: 0.6803\n",
      "Epoch 117/200\n",
      "2091/2091 [==============================] - 5s 2ms/step - loss: 0.1892 - accuracy: 0.9177 - val_loss: 2.3298 - val_accuracy: 0.5565\n",
      "Epoch 118/200\n",
      "2091/2091 [==============================] - 5s 2ms/step - loss: 0.1906 - accuracy: 0.9168 - val_loss: 1.7758 - val_accuracy: 0.6492\n",
      "Epoch 119/200\n",
      "2091/2091 [==============================] - 5s 2ms/step - loss: 0.1878 - accuracy: 0.9195 - val_loss: 1.8831 - val_accuracy: 0.6435\n",
      "Epoch 120/200\n",
      "2091/2091 [==============================] - 5s 2ms/step - loss: 0.1867 - accuracy: 0.9188 - val_loss: 1.4517 - val_accuracy: 0.7135\n",
      "Epoch 121/200\n",
      "2091/2091 [==============================] - 5s 2ms/step - loss: 0.1854 - accuracy: 0.9194 - val_loss: 1.8752 - val_accuracy: 0.6270\n",
      "Epoch 122/200\n",
      "2091/2091 [==============================] - 5s 2ms/step - loss: 0.1847 - accuracy: 0.9195 - val_loss: 1.7614 - val_accuracy: 0.6435\n",
      "Epoch 123/200\n",
      "2091/2091 [==============================] - 5s 2ms/step - loss: 0.1855 - accuracy: 0.9184 - val_loss: 2.3637 - val_accuracy: 0.5425\n",
      "Epoch 124/200\n",
      "2091/2091 [==============================] - 5s 2ms/step - loss: 0.1826 - accuracy: 0.9207 - val_loss: 2.1750 - val_accuracy: 0.6057\n",
      "Epoch 125/200\n",
      "2091/2091 [==============================] - 5s 2ms/step - loss: 0.1837 - accuracy: 0.9200 - val_loss: 1.8809 - val_accuracy: 0.6527\n",
      "Epoch 126/200\n",
      "2091/2091 [==============================] - 5s 2ms/step - loss: 0.1832 - accuracy: 0.9198 - val_loss: 1.8200 - val_accuracy: 0.6482\n",
      "Epoch 127/200\n",
      "2091/2091 [==============================] - 5s 2ms/step - loss: 0.1800 - accuracy: 0.9219 - val_loss: 2.1147 - val_accuracy: 0.6066\n",
      "Epoch 128/200\n",
      "2091/2091 [==============================] - 5s 2ms/step - loss: 0.1797 - accuracy: 0.9225 - val_loss: 2.9151 - val_accuracy: 0.5197\n",
      "Epoch 129/200\n",
      "2091/2091 [==============================] - 5s 2ms/step - loss: 0.1795 - accuracy: 0.9230 - val_loss: 2.0751 - val_accuracy: 0.6346\n",
      "Epoch 130/200\n",
      "2091/2091 [==============================] - 5s 2ms/step - loss: 0.1779 - accuracy: 0.9224 - val_loss: 1.8567 - val_accuracy: 0.6404\n",
      "Epoch 131/200\n",
      "2091/2091 [==============================] - 5s 2ms/step - loss: 0.1773 - accuracy: 0.9237 - val_loss: 2.1250 - val_accuracy: 0.6222\n",
      "Epoch 132/200\n",
      "2091/2091 [==============================] - 5s 2ms/step - loss: 0.1773 - accuracy: 0.9235 - val_loss: 1.7381 - val_accuracy: 0.6751\n",
      "Epoch 133/200\n",
      "2091/2091 [==============================] - 5s 2ms/step - loss: 0.1736 - accuracy: 0.9242 - val_loss: 1.9583 - val_accuracy: 0.6443\n",
      "Epoch 134/200\n",
      "2091/2091 [==============================] - 5s 2ms/step - loss: 0.1737 - accuracy: 0.9255 - val_loss: 2.2268 - val_accuracy: 0.5952\n",
      "Epoch 135/200\n",
      "2091/2091 [==============================] - 5s 2ms/step - loss: 0.1735 - accuracy: 0.9251 - val_loss: 2.2166 - val_accuracy: 0.6222\n",
      "Epoch 136/200\n",
      "2091/2091 [==============================] - 5s 2ms/step - loss: 0.1729 - accuracy: 0.9259 - val_loss: 2.1990 - val_accuracy: 0.6210\n",
      "Epoch 137/200\n",
      "2091/2091 [==============================] - 5s 2ms/step - loss: 0.1706 - accuracy: 0.9272 - val_loss: 1.7346 - val_accuracy: 0.6923\n",
      "Epoch 138/200\n",
      "2091/2091 [==============================] - 5s 2ms/step - loss: 0.1726 - accuracy: 0.9262 - val_loss: 1.9954 - val_accuracy: 0.6447\n",
      "Epoch 139/200\n",
      "2091/2091 [==============================] - 5s 2ms/step - loss: 0.1689 - accuracy: 0.9278 - val_loss: 2.1434 - val_accuracy: 0.6316\n",
      "Epoch 140/200\n",
      "2091/2091 [==============================] - 5s 2ms/step - loss: 0.1691 - accuracy: 0.9260 - val_loss: 2.1099 - val_accuracy: 0.6399\n",
      "Epoch 141/200\n",
      "2091/2091 [==============================] - 5s 2ms/step - loss: 0.1695 - accuracy: 0.9280 - val_loss: 2.1248 - val_accuracy: 0.6284\n",
      "Epoch 142/200\n",
      "2091/2091 [==============================] - 5s 2ms/step - loss: 0.1662 - accuracy: 0.9295 - val_loss: 2.1627 - val_accuracy: 0.6264\n",
      "Epoch 143/200\n",
      "2091/2091 [==============================] - 5s 2ms/step - loss: 0.1665 - accuracy: 0.9295 - val_loss: 2.0184 - val_accuracy: 0.6554\n",
      "Epoch 144/200\n",
      "2091/2091 [==============================] - 5s 2ms/step - loss: 0.1680 - accuracy: 0.9290 - val_loss: 2.0659 - val_accuracy: 0.6416\n",
      "Epoch 145/200\n",
      "2091/2091 [==============================] - 5s 2ms/step - loss: 0.1648 - accuracy: 0.9296 - val_loss: 2.0696 - val_accuracy: 0.6444\n",
      "Epoch 146/200\n",
      "2091/2091 [==============================] - 5s 2ms/step - loss: 0.1645 - accuracy: 0.9298 - val_loss: 2.2340 - val_accuracy: 0.6330\n",
      "Epoch 147/200\n",
      "2091/2091 [==============================] - 5s 2ms/step - loss: 0.1665 - accuracy: 0.9280 - val_loss: 2.2782 - val_accuracy: 0.6296\n",
      "Epoch 148/200\n",
      "2091/2091 [==============================] - 5s 2ms/step - loss: 0.1625 - accuracy: 0.9306 - val_loss: 2.3616 - val_accuracy: 0.6103\n",
      "Epoch 149/200\n",
      "2091/2091 [==============================] - 5s 2ms/step - loss: 0.1628 - accuracy: 0.9300 - val_loss: 2.3343 - val_accuracy: 0.6188\n",
      "Epoch 150/200\n",
      "2091/2091 [==============================] - 5s 2ms/step - loss: 0.1599 - accuracy: 0.9309 - val_loss: 2.6526 - val_accuracy: 0.5838\n",
      "Epoch 151/200\n",
      "2091/2091 [==============================] - 5s 2ms/step - loss: 0.1606 - accuracy: 0.9311 - val_loss: 2.1889 - val_accuracy: 0.6358\n",
      "Epoch 152/200\n",
      "2091/2091 [==============================] - 5s 2ms/step - loss: 0.1607 - accuracy: 0.9313 - val_loss: 1.9422 - val_accuracy: 0.6786\n",
      "Epoch 153/200\n",
      "2091/2091 [==============================] - 5s 2ms/step - loss: 0.1610 - accuracy: 0.9312 - val_loss: 1.9559 - val_accuracy: 0.6651\n",
      "Epoch 154/200\n",
      "2091/2091 [==============================] - 5s 2ms/step - loss: 0.1595 - accuracy: 0.9320 - val_loss: 2.2020 - val_accuracy: 0.6494\n",
      "Epoch 155/200\n",
      "2091/2091 [==============================] - 5s 2ms/step - loss: 0.1590 - accuracy: 0.9323 - val_loss: 2.1597 - val_accuracy: 0.6387\n",
      "Epoch 156/200\n",
      "2091/2091 [==============================] - 5s 2ms/step - loss: 0.1593 - accuracy: 0.9319 - val_loss: 2.2649 - val_accuracy: 0.6328\n",
      "Epoch 157/200\n",
      "2091/2091 [==============================] - 5s 2ms/step - loss: 0.1575 - accuracy: 0.9327 - val_loss: 2.0139 - val_accuracy: 0.6891\n",
      "Epoch 158/200\n",
      "2091/2091 [==============================] - 5s 2ms/step - loss: 0.1556 - accuracy: 0.9339 - val_loss: 2.6532 - val_accuracy: 0.5859\n",
      "Epoch 159/200\n",
      "2091/2091 [==============================] - 5s 2ms/step - loss: 0.1573 - accuracy: 0.9331 - val_loss: 1.9521 - val_accuracy: 0.6817\n",
      "Epoch 160/200\n",
      "2091/2091 [==============================] - 5s 2ms/step - loss: 0.1553 - accuracy: 0.9339 - val_loss: 2.4717 - val_accuracy: 0.6139\n",
      "Epoch 161/200\n",
      "2091/2091 [==============================] - 5s 2ms/step - loss: 0.1543 - accuracy: 0.9340 - val_loss: 2.8228 - val_accuracy: 0.5824\n",
      "Epoch 162/200\n",
      "2091/2091 [==============================] - 5s 2ms/step - loss: 0.1551 - accuracy: 0.9340 - val_loss: 2.4139 - val_accuracy: 0.6289\n",
      "Epoch 163/200\n",
      "2091/2091 [==============================] - 5s 2ms/step - loss: 0.1520 - accuracy: 0.9356 - val_loss: 2.4628 - val_accuracy: 0.6276\n",
      "Epoch 164/200\n",
      "2091/2091 [==============================] - 5s 2ms/step - loss: 0.1512 - accuracy: 0.9352 - val_loss: 2.6172 - val_accuracy: 0.6005\n",
      "Epoch 165/200\n",
      "2091/2091 [==============================] - 5s 2ms/step - loss: 0.1528 - accuracy: 0.9346 - val_loss: 3.0011 - val_accuracy: 0.5739\n",
      "Epoch 166/200\n",
      "2091/2091 [==============================] - 5s 2ms/step - loss: 0.1530 - accuracy: 0.9350 - val_loss: 2.2462 - val_accuracy: 0.6573\n",
      "Epoch 167/200\n",
      "2091/2091 [==============================] - 5s 2ms/step - loss: 0.1499 - accuracy: 0.9366 - val_loss: 2.0208 - val_accuracy: 0.6819\n",
      "Epoch 168/200\n",
      "2091/2091 [==============================] - 5s 2ms/step - loss: 0.1483 - accuracy: 0.9371 - val_loss: 2.3668 - val_accuracy: 0.6477\n",
      "Epoch 169/200\n",
      "2091/2091 [==============================] - 5s 2ms/step - loss: 0.1462 - accuracy: 0.9380 - val_loss: 3.5182 - val_accuracy: 0.5284\n",
      "Epoch 170/200\n",
      "2091/2091 [==============================] - 5s 2ms/step - loss: 0.1497 - accuracy: 0.9367 - val_loss: 3.2147 - val_accuracy: 0.5471\n",
      "Epoch 171/200\n",
      "2091/2091 [==============================] - 5s 2ms/step - loss: 0.1496 - accuracy: 0.9369 - val_loss: 2.6691 - val_accuracy: 0.6214\n",
      "Epoch 172/200\n",
      "2091/2091 [==============================] - 5s 2ms/step - loss: 0.1463 - accuracy: 0.9380 - val_loss: 2.7069 - val_accuracy: 0.6297\n",
      "Epoch 173/200\n",
      "2091/2091 [==============================] - 5s 2ms/step - loss: 0.1464 - accuracy: 0.9378 - val_loss: 2.4379 - val_accuracy: 0.6400\n",
      "Epoch 174/200\n",
      "2091/2091 [==============================] - 5s 2ms/step - loss: 0.1467 - accuracy: 0.9378 - val_loss: 2.5719 - val_accuracy: 0.6197\n",
      "Epoch 175/200\n",
      "2091/2091 [==============================] - 5s 2ms/step - loss: 0.1432 - accuracy: 0.9393 - val_loss: 2.7146 - val_accuracy: 0.5951\n",
      "Epoch 176/200\n",
      "2091/2091 [==============================] - 5s 2ms/step - loss: 0.1438 - accuracy: 0.9389 - val_loss: 2.5212 - val_accuracy: 0.6306\n",
      "Epoch 177/200\n",
      "2091/2091 [==============================] - 5s 2ms/step - loss: 0.1422 - accuracy: 0.9398 - val_loss: 2.6652 - val_accuracy: 0.6142\n",
      "Epoch 178/200\n",
      "2091/2091 [==============================] - 5s 2ms/step - loss: 0.1410 - accuracy: 0.9401 - val_loss: 2.7612 - val_accuracy: 0.6002\n",
      "Epoch 179/200\n",
      "2091/2091 [==============================] - 5s 2ms/step - loss: 0.1439 - accuracy: 0.9388 - val_loss: 2.9572 - val_accuracy: 0.5807\n",
      "Epoch 180/200\n",
      "2091/2091 [==============================] - 5s 2ms/step - loss: 0.1414 - accuracy: 0.9403 - val_loss: 2.6679 - val_accuracy: 0.6145\n",
      "Epoch 181/200\n",
      "2091/2091 [==============================] - 5s 2ms/step - loss: 0.1414 - accuracy: 0.9408 - val_loss: 2.9445 - val_accuracy: 0.5859\n",
      "Epoch 182/200\n",
      "2091/2091 [==============================] - 5s 2ms/step - loss: 0.1408 - accuracy: 0.9404 - val_loss: 2.4519 - val_accuracy: 0.6419\n",
      "Epoch 183/200\n",
      "2091/2091 [==============================] - 5s 2ms/step - loss: 0.1408 - accuracy: 0.9404 - val_loss: 3.1225 - val_accuracy: 0.5712\n",
      "Epoch 184/200\n",
      "2091/2091 [==============================] - 5s 2ms/step - loss: 0.1392 - accuracy: 0.9414 - val_loss: 3.3188 - val_accuracy: 0.5752\n",
      "Epoch 185/200\n",
      "2091/2091 [==============================] - 5s 2ms/step - loss: 0.1398 - accuracy: 0.9411 - val_loss: 2.3655 - val_accuracy: 0.6604\n",
      "Epoch 186/200\n",
      "2091/2091 [==============================] - 5s 2ms/step - loss: 0.1380 - accuracy: 0.9416 - val_loss: 2.4294 - val_accuracy: 0.6575\n",
      "Epoch 187/200\n",
      "2091/2091 [==============================] - 5s 2ms/step - loss: 0.1394 - accuracy: 0.9407 - val_loss: 2.9647 - val_accuracy: 0.5999\n",
      "Epoch 188/200\n",
      "2091/2091 [==============================] - 5s 2ms/step - loss: 0.1387 - accuracy: 0.9408 - val_loss: 2.8183 - val_accuracy: 0.6272\n",
      "Epoch 189/200\n",
      "2091/2091 [==============================] - 5s 2ms/step - loss: 0.1356 - accuracy: 0.9423 - val_loss: 3.1958 - val_accuracy: 0.5794\n",
      "Epoch 190/200\n",
      "2091/2091 [==============================] - 5s 2ms/step - loss: 0.1374 - accuracy: 0.9414 - val_loss: 2.9805 - val_accuracy: 0.6059\n",
      "Epoch 191/200\n",
      "2091/2091 [==============================] - 5s 2ms/step - loss: 0.1353 - accuracy: 0.9425 - val_loss: 3.7791 - val_accuracy: 0.5168\n",
      "Epoch 192/200\n",
      "2091/2091 [==============================] - 5s 2ms/step - loss: 0.1329 - accuracy: 0.9439 - val_loss: 2.9009 - val_accuracy: 0.6106\n",
      "Epoch 193/200\n",
      "2091/2091 [==============================] - 5s 2ms/step - loss: 0.1352 - accuracy: 0.9433 - val_loss: 2.8265 - val_accuracy: 0.5999\n",
      "Epoch 194/200\n",
      "2091/2091 [==============================] - 5s 2ms/step - loss: 0.1356 - accuracy: 0.9424 - val_loss: 3.1106 - val_accuracy: 0.5996\n",
      "Epoch 195/200\n",
      "2091/2091 [==============================] - 5s 2ms/step - loss: 0.1333 - accuracy: 0.9437 - val_loss: 2.6472 - val_accuracy: 0.6591\n",
      "Epoch 196/200\n",
      "2091/2091 [==============================] - 5s 2ms/step - loss: 0.1310 - accuracy: 0.9455 - val_loss: 2.9461 - val_accuracy: 0.6139\n",
      "Epoch 197/200\n",
      "2091/2091 [==============================] - 5s 2ms/step - loss: 0.1309 - accuracy: 0.9447 - val_loss: 3.3327 - val_accuracy: 0.5675\n",
      "Epoch 198/200\n",
      "2091/2091 [==============================] - 5s 2ms/step - loss: 0.1331 - accuracy: 0.9439 - val_loss: 2.6824 - val_accuracy: 0.6346\n",
      "Epoch 199/200\n",
      "2091/2091 [==============================] - 5s 2ms/step - loss: 0.1286 - accuracy: 0.9462 - val_loss: 2.9565 - val_accuracy: 0.6203\n",
      "Epoch 200/200\n",
      "2091/2091 [==============================] - 5s 2ms/step - loss: 0.1301 - accuracy: 0.9452 - val_loss: 3.4592 - val_accuracy: 0.5696\n"
     ]
    },
    {
     "data": {
      "text/plain": [
       "<keras.callbacks.History at 0x19b8f7662b0>"
      ]
     },
     "execution_count": 48,
     "metadata": {},
     "output_type": "execute_result"
    }
   ],
   "source": [
    "checkpoint_filepath = '/content/drive/MyDrive/Data Mining/Models/'\n",
    "\n",
    "model_checkpoint_callback = tf.keras.callbacks.ModelCheckpoint(\n",
    "    filepath=checkpoint_filepath,\n",
    "    save_weights_only=True,\n",
    "    monitor='val_loss',\n",
    "    mode='auto',\n",
    "    save_best_only=True)\n",
    "\n",
    "early_stopping = EarlyStopping(patience=9999, verbose=1)\n",
    "reduce_lr = ReduceLROnPlateau(monitor='val_accuracy', factor=0.2, patience=20, min_lr=0.00001, verbose=1)\n",
    "\n",
    "print(classWeight)\n",
    "\n",
    "history = model.fit(\n",
    "    X, \n",
    "    y, \n",
    "    batch_size = 1024,\n",
    "    validation_split=0.2,\n",
    "    epochs=100, \n",
    "    class_weight=classWeight,\n",
    "    callbacks=[early_stopping, reduce_lr, model_checkpoint_callback])\n",
    "    "
   ]
  },
  {
   "cell_type": "code",
   "execution_count": 1,
   "id": "b79fde5d",
   "metadata": {},
   "outputs": [
    {
     "ename": "NameError",
     "evalue": "name 'model' is not defined",
     "output_type": "error",
     "traceback": [
      "\u001b[1;31m---------------------------------------------------------------------------\u001b[0m",
      "\u001b[1;31mNameError\u001b[0m                                 Traceback (most recent call last)",
      "\u001b[1;32m~\\AppData\\Local\\Temp/ipykernel_11968/2355735933.py\u001b[0m in \u001b[0;36m<module>\u001b[1;34m\u001b[0m\n\u001b[1;32m----> 1\u001b[1;33m \u001b[0mmodel\u001b[0m\u001b[1;33m\u001b[0m\u001b[1;33m\u001b[0m\u001b[0m\n\u001b[0m",
      "\u001b[1;31mNameError\u001b[0m: name 'model' is not defined"
     ]
    }
   ],
   "source": [
    "model"
   ]
  },
  {
   "cell_type": "code",
   "execution_count": null,
   "id": "cce9351d",
   "metadata": {},
   "outputs": [
    {
     "ename": "TypeError",
     "evalue": "'History' object is not subscriptable",
     "output_type": "error",
     "traceback": [
      "\u001b[0;31m---------------------------------------------------------------------------\u001b[0m",
      "\u001b[0;31mTypeError\u001b[0m                                 Traceback (most recent call last)",
      "\u001b[0;32m/var/folders/t2/86whqkvn0sb99n4gbl4pmjvm0000gn/T/ipykernel_11403/3008598982.py\u001b[0m in \u001b[0;36m<module>\u001b[0;34m\u001b[0m\n\u001b[1;32m      1\u001b[0m \u001b[0;32mimport\u001b[0m \u001b[0mmatplotlib\u001b[0m\u001b[0;34m.\u001b[0m\u001b[0mpyplot\u001b[0m \u001b[0;32mas\u001b[0m \u001b[0mplt\u001b[0m\u001b[0;34m\u001b[0m\u001b[0;34m\u001b[0m\u001b[0m\n\u001b[1;32m      2\u001b[0m \u001b[0;34m\u001b[0m\u001b[0m\n\u001b[0;32m----> 3\u001b[0;31m \u001b[0mplt\u001b[0m\u001b[0;34m.\u001b[0m\u001b[0mplot\u001b[0m\u001b[0;34m(\u001b[0m\u001b[0mmodel\u001b[0m\u001b[0;34m.\u001b[0m\u001b[0mhistory\u001b[0m\u001b[0;34m[\u001b[0m\u001b[0;34m'val_loss'\u001b[0m\u001b[0;34m]\u001b[0m\u001b[0;34m,\u001b[0m \u001b[0;34m'r'\u001b[0m\u001b[0;34m)\u001b[0m\u001b[0;34m\u001b[0m\u001b[0;34m\u001b[0m\u001b[0m\n\u001b[0m\u001b[1;32m      4\u001b[0m \u001b[0mplt\u001b[0m\u001b[0;34m.\u001b[0m\u001b[0mxlabel\u001b[0m\u001b[0;34m(\u001b[0m\u001b[0;34m'Epochs'\u001b[0m\u001b[0;34m)\u001b[0m\u001b[0;34m\u001b[0m\u001b[0;34m\u001b[0m\u001b[0m\n\u001b[1;32m      5\u001b[0m \u001b[0mplt\u001b[0m\u001b[0;34m.\u001b[0m\u001b[0mylabel\u001b[0m\u001b[0;34m(\u001b[0m\u001b[0;34m'Validation score'\u001b[0m\u001b[0;34m)\u001b[0m\u001b[0;34m\u001b[0m\u001b[0;34m\u001b[0m\u001b[0m\n",
      "\u001b[0;31mTypeError\u001b[0m: 'History' object is not subscriptable"
     ]
    }
   ],
   "source": [
    "import matplotlib.pyplot as plt\n",
    "\n",
    "plt.plot(history['val_loss'], 'r')\n",
    "plt.xlabel('Epochs')\n",
    "plt.ylabel('Validation score')\n",
    "plt.show()"
   ]
  },
  {
   "cell_type": "code",
   "execution_count": null,
   "id": "21283d9c",
   "metadata": {},
   "outputs": [],
   "source": [
    "pred = model.predict(x_test)"
   ]
  },
  {
   "cell_type": "code",
   "execution_count": null,
   "id": "bcf91c00",
   "metadata": {},
   "outputs": [
    {
     "ename": "ValueError",
     "evalue": "Input contains NaN, infinity or a value too large for dtype('float32').",
     "output_type": "error",
     "traceback": [
      "\u001b[0;31m---------------------------------------------------------------------------\u001b[0m",
      "\u001b[0;31mValueError\u001b[0m                                Traceback (most recent call last)",
      "\u001b[0;32m/var/folders/t2/86whqkvn0sb99n4gbl4pmjvm0000gn/T/ipykernel_11403/3320428852.py\u001b[0m in \u001b[0;36m<module>\u001b[0;34m\u001b[0m\n\u001b[0;32m----> 1\u001b[0;31m \u001b[0mprint\u001b[0m\u001b[0;34m(\u001b[0m\u001b[0mmetrics\u001b[0m\u001b[0;34m.\u001b[0m\u001b[0mclassification_report\u001b[0m\u001b[0;34m(\u001b[0m\u001b[0my_test\u001b[0m\u001b[0;34m,\u001b[0m \u001b[0mpred\u001b[0m\u001b[0;34m)\u001b[0m\u001b[0;34m)\u001b[0m\u001b[0;34m\u001b[0m\u001b[0;34m\u001b[0m\u001b[0m\n\u001b[0m",
      "\u001b[0;32m~/opt/anaconda3/envs/DataMiningWS202122/lib/python3.9/site-packages/sklearn/metrics/_classification.py\u001b[0m in \u001b[0;36mclassification_report\u001b[0;34m(y_true, y_pred, labels, target_names, sample_weight, digits, output_dict, zero_division)\u001b[0m\n\u001b[1;32m   2108\u001b[0m     \"\"\"\n\u001b[1;32m   2109\u001b[0m \u001b[0;34m\u001b[0m\u001b[0m\n\u001b[0;32m-> 2110\u001b[0;31m     \u001b[0my_type\u001b[0m\u001b[0;34m,\u001b[0m \u001b[0my_true\u001b[0m\u001b[0;34m,\u001b[0m \u001b[0my_pred\u001b[0m \u001b[0;34m=\u001b[0m \u001b[0m_check_targets\u001b[0m\u001b[0;34m(\u001b[0m\u001b[0my_true\u001b[0m\u001b[0;34m,\u001b[0m \u001b[0my_pred\u001b[0m\u001b[0;34m)\u001b[0m\u001b[0;34m\u001b[0m\u001b[0;34m\u001b[0m\u001b[0m\n\u001b[0m\u001b[1;32m   2111\u001b[0m \u001b[0;34m\u001b[0m\u001b[0m\n\u001b[1;32m   2112\u001b[0m     \u001b[0;32mif\u001b[0m \u001b[0mlabels\u001b[0m \u001b[0;32mis\u001b[0m \u001b[0;32mNone\u001b[0m\u001b[0;34m:\u001b[0m\u001b[0;34m\u001b[0m\u001b[0;34m\u001b[0m\u001b[0m\n",
      "\u001b[0;32m~/opt/anaconda3/envs/DataMiningWS202122/lib/python3.9/site-packages/sklearn/metrics/_classification.py\u001b[0m in \u001b[0;36m_check_targets\u001b[0;34m(y_true, y_pred)\u001b[0m\n\u001b[1;32m     84\u001b[0m     \u001b[0mcheck_consistent_length\u001b[0m\u001b[0;34m(\u001b[0m\u001b[0my_true\u001b[0m\u001b[0;34m,\u001b[0m \u001b[0my_pred\u001b[0m\u001b[0;34m)\u001b[0m\u001b[0;34m\u001b[0m\u001b[0;34m\u001b[0m\u001b[0m\n\u001b[1;32m     85\u001b[0m     \u001b[0mtype_true\u001b[0m \u001b[0;34m=\u001b[0m \u001b[0mtype_of_target\u001b[0m\u001b[0;34m(\u001b[0m\u001b[0my_true\u001b[0m\u001b[0;34m)\u001b[0m\u001b[0;34m\u001b[0m\u001b[0;34m\u001b[0m\u001b[0m\n\u001b[0;32m---> 86\u001b[0;31m     \u001b[0mtype_pred\u001b[0m \u001b[0;34m=\u001b[0m \u001b[0mtype_of_target\u001b[0m\u001b[0;34m(\u001b[0m\u001b[0my_pred\u001b[0m\u001b[0;34m)\u001b[0m\u001b[0;34m\u001b[0m\u001b[0;34m\u001b[0m\u001b[0m\n\u001b[0m\u001b[1;32m     87\u001b[0m \u001b[0;34m\u001b[0m\u001b[0m\n\u001b[1;32m     88\u001b[0m     \u001b[0my_type\u001b[0m \u001b[0;34m=\u001b[0m \u001b[0;34m{\u001b[0m\u001b[0mtype_true\u001b[0m\u001b[0;34m,\u001b[0m \u001b[0mtype_pred\u001b[0m\u001b[0;34m}\u001b[0m\u001b[0;34m\u001b[0m\u001b[0;34m\u001b[0m\u001b[0m\n",
      "\u001b[0;32m~/opt/anaconda3/envs/DataMiningWS202122/lib/python3.9/site-packages/sklearn/utils/multiclass.py\u001b[0m in \u001b[0;36mtype_of_target\u001b[0;34m(y)\u001b[0m\n\u001b[1;32m    322\u001b[0m     \u001b[0;32mif\u001b[0m \u001b[0my\u001b[0m\u001b[0;34m.\u001b[0m\u001b[0mdtype\u001b[0m\u001b[0;34m.\u001b[0m\u001b[0mkind\u001b[0m \u001b[0;34m==\u001b[0m \u001b[0;34m\"f\"\u001b[0m \u001b[0;32mand\u001b[0m \u001b[0mnp\u001b[0m\u001b[0;34m.\u001b[0m\u001b[0many\u001b[0m\u001b[0;34m(\u001b[0m\u001b[0my\u001b[0m \u001b[0;34m!=\u001b[0m \u001b[0my\u001b[0m\u001b[0;34m.\u001b[0m\u001b[0mastype\u001b[0m\u001b[0;34m(\u001b[0m\u001b[0mint\u001b[0m\u001b[0;34m)\u001b[0m\u001b[0;34m)\u001b[0m\u001b[0;34m:\u001b[0m\u001b[0;34m\u001b[0m\u001b[0;34m\u001b[0m\u001b[0m\n\u001b[1;32m    323\u001b[0m         \u001b[0;31m# [.1, .2, 3] or [[.1, .2, 3]] or [[1., .2]] and not [1., 2., 3.]\u001b[0m\u001b[0;34m\u001b[0m\u001b[0;34m\u001b[0m\u001b[0m\n\u001b[0;32m--> 324\u001b[0;31m         \u001b[0m_assert_all_finite\u001b[0m\u001b[0;34m(\u001b[0m\u001b[0my\u001b[0m\u001b[0;34m)\u001b[0m\u001b[0;34m\u001b[0m\u001b[0;34m\u001b[0m\u001b[0m\n\u001b[0m\u001b[1;32m    325\u001b[0m         \u001b[0;32mreturn\u001b[0m \u001b[0;34m\"continuous\"\u001b[0m \u001b[0;34m+\u001b[0m \u001b[0msuffix\u001b[0m\u001b[0;34m\u001b[0m\u001b[0;34m\u001b[0m\u001b[0m\n\u001b[1;32m    326\u001b[0m \u001b[0;34m\u001b[0m\u001b[0m\n",
      "\u001b[0;32m~/opt/anaconda3/envs/DataMiningWS202122/lib/python3.9/site-packages/sklearn/utils/validation.py\u001b[0m in \u001b[0;36m_assert_all_finite\u001b[0;34m(X, allow_nan, msg_dtype)\u001b[0m\n\u001b[1;32m    112\u001b[0m         ):\n\u001b[1;32m    113\u001b[0m             \u001b[0mtype_err\u001b[0m \u001b[0;34m=\u001b[0m \u001b[0;34m\"infinity\"\u001b[0m \u001b[0;32mif\u001b[0m \u001b[0mallow_nan\u001b[0m \u001b[0;32melse\u001b[0m \u001b[0;34m\"NaN, infinity\"\u001b[0m\u001b[0;34m\u001b[0m\u001b[0;34m\u001b[0m\u001b[0m\n\u001b[0;32m--> 114\u001b[0;31m             raise ValueError(\n\u001b[0m\u001b[1;32m    115\u001b[0m                 msg_err.format(\n\u001b[1;32m    116\u001b[0m                     \u001b[0mtype_err\u001b[0m\u001b[0;34m,\u001b[0m \u001b[0mmsg_dtype\u001b[0m \u001b[0;32mif\u001b[0m \u001b[0mmsg_dtype\u001b[0m \u001b[0;32mis\u001b[0m \u001b[0;32mnot\u001b[0m \u001b[0;32mNone\u001b[0m \u001b[0;32melse\u001b[0m \u001b[0mX\u001b[0m\u001b[0;34m.\u001b[0m\u001b[0mdtype\u001b[0m\u001b[0;34m\u001b[0m\u001b[0;34m\u001b[0m\u001b[0m\n",
      "\u001b[0;31mValueError\u001b[0m: Input contains NaN, infinity or a value too large for dtype('float32')."
     ]
    }
   ],
   "source": [
    "print(metrics.classification_report(y_test, pred))"
   ]
  },
  {
   "cell_type": "markdown",
   "metadata": {},
   "source": [
    "## 3. Feature Engineering"
   ]
  },
  {
   "cell_type": "code",
   "execution_count": null,
   "id": "97e9a096",
   "metadata": {},
   "outputs": [],
   "source": [
    "n = 40\n",
    "\n",
    "dirname = os.getcwd()\n",
    "filename = os.path.join(dirname, f'../Data/prepped/test_set_n{n}.csv')\n",
    "\n",
    "try:\n",
    "    test_data = pd.read_csv(filename, index_col=0)\n",
    "except FileNotFoundError as e:\n",
    "    print('Datei konnte nicht gefunden werden.')"
   ]
  },
  {
   "cell_type": "code",
   "execution_count": null,
   "id": "18f82a92",
   "metadata": {},
   "outputs": [],
   "source": [
    "# The model quality evaluation function expects a Pandas dataframe with at least the following columns:\n",
    "# Request_Date          int64\n",
    "# flight_unique_id     object\n",
    "# Price               float64\n",
    "# buy                    bool\n",
    "\n",
    "def model_quality_evaluation(df):\n",
    "    # Make a copy of the provided dataframe as to not modify the original.\n",
    "    df = df.copy()\n",
    "\n",
    "    # Convert 'Price' to whole cents and store as integers to avoid floating point errors.\n",
    "    df['Price'] = df['Price'] * 100\n",
    "    df['Price'] = df['Price'].astype(int)\n",
    "\n",
    "    # Initialize a variable that stores the sum of all our balances.\n",
    "    sum_balances = 0\n",
    "\n",
    "    # Get a list of all 'flight_unique_id'.\n",
    "    flight_unique_ids = df['flight_unique_id'].unique()\n",
    "\n",
    "    # Iterate over all 'flight_unique_id'.\n",
    "    for flight_unique_id in flight_unique_ids:\n",
    "        # Get a subset of the data for the specified 'flight_unique_id'.\n",
    "        df_subset = df[df['flight_unique_id'] == flight_unique_id]\n",
    "\n",
    "        # Get all request dates except for the latest request date before departure.\n",
    "        # At the latest request date before departure we need to buy a ticket anyway,\n",
    "        # so we don't care about this specific request date.\n",
    "        request_dates = df_subset[df_subset['Request_Date'] != df_subset['Request_Date'].max()]\n",
    "\n",
    "        # Make sure request dates are sorted in descending order.\n",
    "        request_dates.sort_values(by='Request_Date', ascending=False, inplace=True)\n",
    "\n",
    "        # Get the ticket price from the latest request date before departure,\n",
    "        # because we certainly have to buy a ticket at this date.\n",
    "        last_buying_price = df_subset[df_subset['Request_Date'] == df_subset['Request_Date'].max()]['Price'].values[0]\n",
    "\n",
    "        # Iterate over the remaining request dates\n",
    "        for _, row in request_dates.iterrows():\n",
    "            # and check wether the model wants to buy a ticket at the specific request date.\n",
    "            if(row['buy'] == True):\n",
    "                # If the model decides to buy a ticket the last buying price is set to the\n",
    "                # price point of this request date and the balance doesn't change.\n",
    "                last_buying_price = row['Price']\n",
    "            else:\n",
    "                # If the models decides to not buy a ticket the balance equals the\n",
    "                # the current ticket price minus the last buying price.\n",
    "                current_price = row['Price']\n",
    "                balance = current_price - last_buying_price\n",
    "\n",
    "                # The balance is added to the sum of all balances.\n",
    "                sum_balances = sum_balances + balance\n",
    "\n",
    "    # Return the sum of all our previously calculated balances.\n",
    "    return sum_balances / 100"
   ]
  },
  {
   "cell_type": "code",
   "execution_count": null,
   "id": "07a76521",
   "metadata": {},
   "outputs": [
    {
     "ename": "NameError",
     "evalue": "name 'model' is not defined",
     "output_type": "error",
     "traceback": [
      "\u001b[1;31m---------------------------------------------------------------------------\u001b[0m",
      "\u001b[1;31mNameError\u001b[0m                                 Traceback (most recent call last)",
      "\u001b[1;32m~\\AppData\\Local\\Temp/ipykernel_2552/1543604611.py\u001b[0m in \u001b[0;36m<module>\u001b[1;34m\u001b[0m\n\u001b[1;32m----> 1\u001b[1;33m \u001b[0mmodel\u001b[0m\u001b[1;33m.\u001b[0m\u001b[0mpredict\u001b[0m\u001b[1;33m(\u001b[0m\u001b[0mtest_data\u001b[0m\u001b[1;33m)\u001b[0m\u001b[1;33m\u001b[0m\u001b[1;33m\u001b[0m\u001b[0m\n\u001b[0m",
      "\u001b[1;31mNameError\u001b[0m: name 'model' is not defined"
     ]
    }
   ],
   "source": [
    "model.predict(test_data)"
   ]
  },
  {
   "cell_type": "code",
   "execution_count": null,
   "id": "74eeede6",
   "metadata": {},
   "outputs": [],
   "source": [
    "model_quality_evaluation(test_data)"
   ]
  }
 ],
 "metadata": {
  "kernelspec": {
   "display_name": "Python 3 (ipykernel)",
   "language": "python",
   "name": "python3"
  },
  "language_info": {
   "codemirror_mode": {
    "name": "ipython",
    "version": 3
   },
   "file_extension": ".py",
   "mimetype": "text/x-python",
   "name": "python",
   "nbconvert_exporter": "python",
   "pygments_lexer": "ipython3",
   "version": "3.9.7"
  }
 },
 "nbformat": 4,
 "nbformat_minor": 5
}
