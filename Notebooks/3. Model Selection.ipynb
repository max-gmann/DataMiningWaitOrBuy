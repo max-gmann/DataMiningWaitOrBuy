{
 "cells": [
  {
   "cell_type": "markdown",
<<<<<<< HEAD
   "id": "6801f706",
=======
>>>>>>> 8244782367dc92372a75590abc0e4a8efb095c5c
   "metadata": {},
   "source": [
    "# Flugpreis Vorhersage - Kaufen oder Warten?\n",
    "## Projektarbeit Data Mining\n",
    "___\n",
    "### Wintersemester 2021/22\n",
    "### Gruppe G:\n",
    "Max Grundmann - s0559326\n",
    "### Inhalte\n",
    "1. Exploratory Data Analysis (EDA)\n",
    "2. Datenvorbereitung\n",
    "### 3. Modelauswahl\n",
    "4. Auswertungen\n",
    "___\n",
    "Dieses Notebook widmet sich der Auswahl von zwei geeigneten Machine Learning Modellen und deren Hyperparametertuning.\n",
    "___"
   ]
  },
  {
   "cell_type": "markdown",
   "id": "82d117fc",
   "metadata": {},
   "source": [
    "#### Benötigte Bibliotheken laden"
   ]
  },
  {
   "cell_type": "code",
   "execution_count": 107,
   "id": "7896a767",
   "metadata": {},
   "outputs": [],
   "source": [
    "import pandas as pd\n",
    "import numpy as np\n",
    "from numpy import mean\n",
    "from numpy import std\n",
    "import os\n",
    "from random import sample\n",
    "import matplotlib.pyplot as plt\n",
    "import pickle\n",
    "\n",
    "from sklearn.model_selection import KFold\n",
    "from sklearn.model_selection import RepeatedStratifiedKFold\n",
    "from sklearn.model_selection import cross_val_score\n",
    "from sklearn.model_selection import RandomizedSearchCV, GridSearchCV\n",
    "from sklearn.linear_model import LogisticRegression\n",
    "from sklearn import tree\n",
    "from sklearn.ensemble import RandomForestClassifier\n",
    "from sklearn.svm import SVC\n",
    "from sklearn.neighbors import KNeighborsClassifier\n",
    "from sklearn.naive_bayes import GaussianNB\n",
    "from sklearn import metrics\n",
    "from sklearn.model_selection import train_test_split\n",
    "from sklearn.ensemble import AdaBoostClassifier\n",
    "from sklearn.ensemble import GradientBoostingClassifier\n",
    "from sklearn.ensemble import BaggingClassifier\n",
    "from sklearn.utils import compute_class_weight\n",
    "from sklearn.metrics import roc_auc_score\n",
    "\n",
    "from xgboost import XGBClassifier\n",
    "\n",
    "import tensorflow as tf\n",
    "from keras.models import load_model\n",
    "from tensorflow import keras\n",
    "from keras.layers import Dense, Dropout\n",
    "from keras.models import Sequential\n",
    "from keras.callbacks import EarlyStopping, ModelCheckpoint, ReduceLROnPlateau"
   ]
  },
  {
   "cell_type": "markdown",
   "id": "755f1d2f",
   "metadata": {},
   "source": [
    "#### Vorbereitete Daten laden"
   ]
  },
  {
   "cell_type": "code",
<<<<<<< HEAD
   "execution_count": 139,
   "id": "0b3dd8e4",
=======
   "execution_count": 64,
>>>>>>> 8244782367dc92372a75590abc0e4a8efb095c5c
   "metadata": {
    "scrolled": true
   },
   "outputs": [],
   "source": [
<<<<<<< HEAD
    "# Bestimmt die Anzahl der Schritte der Preishistorie\n",
=======
>>>>>>> 8244782367dc92372a75590abc0e4a8efb095c5c
    "n = 15\n",
    "\n",
    "dirname = os.getcwd()\n",
    "filename = os.path.join(dirname, f'../Data/prepped/train_set_n{n}.csv')\n",
    "\n",
    "try:\n",
    "    training_data = pd.read_csv(filename, index_col=0)\n",
    "except FileNotFoundError as e:\n",
    "    print('Datei konnte nicht gefunden werden.')"
   ]
  },
  {
   "cell_type": "markdown",
   "id": "125b6174",
   "metadata": {},
   "source": [
    "Daten in Trainings- und Testdaten aufteilen.\n",
    "80% Trainingsdaten, 20% Testdaten\n",
    "Stratify = Yes stellt außerdem sicher, dass das Verhältnis der Klassen in beiden Datensätzen gleich ist."
   ]
  },
  {
   "cell_type": "code",
   "execution_count": 65,
<<<<<<< HEAD
   "id": "53a01da1",
=======
>>>>>>> 8244782367dc92372a75590abc0e4a8efb095c5c
   "metadata": {},
   "outputs": [],
   "source": [
    "# Daten in Trainings- und Testdaten aufteilen\n",
    "y = training_data['buy']\n",
    "X = training_data.drop(columns=['buy'], axis=1)\n",
    "X.columns = X.columns.map(str)\n",
    "\n",
    "for i in range(n):\n",
    "    # Preishistorie mit aktuellem Preis auffüllen, falls nicht vorhanden\n",
    "    X[str(i)] = np.where(X[str(i)].isnull(), X.Price_In_Eur, X[str(i)])\n",
    "\n",
    "X = X.fillna(0)\n",
    "x_train, x_test, y_train, y_test = train_test_split(X, y, test_size=0.2, random_state=99, stratify=y)"
   ]
  },
  {
   "cell_type": "markdown",
   "id": "65bea2cb",
   "metadata": {},
   "source": [
    "#### Auswahl eines ML-Verfahrens"
   ]
  },
  {
   "cell_type": "markdown",
   "id": "a9271571",
   "metadata": {},
   "source": [
    "Folgenden Methode dient dem Automatisierten Training und Evaluierung eines ML-Modells. Ziel ist es, eine Baseline für mehrere unterschiedliche Verfahren zu etablieren. Das beste Modell wird anschließend über Hyperparameter Tuning weiter optimiert."
   ]
  },
  {
   "cell_type": "code",
   "execution_count": 9,
<<<<<<< HEAD
   "id": "674794e5",
=======
>>>>>>> 8244782367dc92372a75590abc0e4a8efb095c5c
   "metadata": {},
   "outputs": [],
   "source": [
    "def evaluate_model(model, x_train, y_train, x_test, y_test, fit=True):\n",
    "    if fit:\n",
    "        model = model.fit(x_train, y_train)\n",
    "    \n",
    "    train_score = model.score(x_train, y_train)\n",
    "    print('Training Score:', train_score)\n",
    "    \n",
    "    predicted = pd.DataFrame(model.predict(x_test))\n",
    "    \n",
    "    test_score = metrics.accuracy_score(y_test, predicted)\n",
    "    print('Test Score:', test_score)\n",
    "    \n",
    "    print(metrics.classification_report(y_test, predicted))\n",
    "    return train_score, test_score"
   ]
  },
  {
   "cell_type": "markdown",
   "id": "d96c407f",
   "metadata": {},
   "source": [
    "Die Support Vector Machine wurde im weiteren Vorgehen nicht berücksichtigt, da die Trainingszeiten unverhältnismäßig lag dauern. Das dürfte darin begründet liegen, dass die Trainingskomplexität einer SVM bei O(n^2) liegt und entsprechend stark bzw. schlecht mit der Anzahl an Trainingsdaten skaliert. Entsprechend limitiert vermutlich auch mein Arbeitsspeicher die Berechnung."
   ]
  },
  {
   "cell_type": "code",
   "execution_count": 10,
<<<<<<< HEAD
   "id": "fa00126f",
=======
>>>>>>> 8244782367dc92372a75590abc0e4a8efb095c5c
   "metadata": {
    "scrolled": false
   },
   "outputs": [
    {
     "name": "stdout",
     "output_type": "stream",
     "text": [
      "RandomForestC\n",
      "Training Score: 0.9998953646541802\n",
      "Test Score: 0.9104932735426009\n",
      "              precision    recall  f1-score   support\n",
      "\n",
      "           0       0.91      0.98      0.94     12981\n",
      "           1       0.90      0.67      0.77      3744\n",
      "\n",
      "    accuracy                           0.91     16725\n",
      "   macro avg       0.91      0.83      0.86     16725\n",
      "weighted avg       0.91      0.91      0.91     16725\n",
      "\n",
      "-------------------------------------------------------------------------------\n",
      "XGBClassifier\n",
      "[15:10:31] WARNING: C:/Users/Administrator/workspace/xgboost-win64_release_1.5.1/src/learner.cc:1115: Starting in XGBoost 1.3.0, the default evaluation metric used with the objective 'binary:logistic' was changed from 'error' to 'logloss'. Explicitly set eval_metric if you'd like to restore the old behavior.\n"
     ]
    },
    {
     "name": "stderr",
     "output_type": "stream",
     "text": [
      "C:\\Users\\Max\\Anaconda3\\envs\\py39\\lib\\site-packages\\xgboost\\sklearn.py:1224: UserWarning: The use of label encoder in XGBClassifier is deprecated and will be removed in a future release. To remove this warning, do the following: 1) Pass option use_label_encoder=False when constructing XGBClassifier object; and 2) Encode your labels (y) as integers starting with 0, i.e. 0, 1, 2, ..., [num_class - 1].\n",
      "  warnings.warn(label_encoder_deprecation_msg, UserWarning)\n"
     ]
    },
    {
     "name": "stdout",
     "output_type": "stream",
     "text": [
      "Training Score: 0.9311648903571055\n",
      "Test Score: 0.8916591928251121\n",
      "              precision    recall  f1-score   support\n",
      "\n",
      "           0       0.90      0.96      0.93     12981\n",
      "           1       0.84      0.64      0.73      3744\n",
      "\n",
      "    accuracy                           0.89     16725\n",
      "   macro avg       0.87      0.80      0.83     16725\n",
      "weighted avg       0.89      0.89      0.89     16725\n",
      "\n",
      "-------------------------------------------------------------------------------\n",
      "AdaBoostClass\n",
      "Training Score: 0.8275310542758487\n",
      "Test Score: 0.8243946188340807\n",
      "              precision    recall  f1-score   support\n",
      "\n",
      "           0       0.84      0.95      0.89     12981\n",
      "           1       0.70      0.38      0.49      3744\n",
      "\n",
      "    accuracy                           0.82     16725\n",
      "   macro avg       0.77      0.67      0.69     16725\n",
      "weighted avg       0.81      0.82      0.80     16725\n",
      "\n",
      "-------------------------------------------------------------------------------\n",
      "GradientBoost\n",
      "Training Score: 0.8428975022048162\n",
      "Test Score: 0.8383856502242153\n",
      "              precision    recall  f1-score   support\n",
      "\n",
      "           0       0.84      0.97      0.90     12981\n",
      "           1       0.80      0.37      0.51      3744\n",
      "\n",
      "    accuracy                           0.84     16725\n",
      "   macro avg       0.82      0.67      0.71     16725\n",
      "weighted avg       0.83      0.84      0.81     16725\n",
      "\n",
      "-------------------------------------------------------------------------------\n",
      "DecisionTreeC\n",
      "Training Score: 0.8576211901523192\n",
      "Test Score: 0.8394020926756353\n",
      "              precision    recall  f1-score   support\n",
      "\n",
      "           0       0.85      0.96      0.90     12981\n",
      "           1       0.76      0.42      0.54      3744\n",
      "\n",
      "    accuracy                           0.84     16725\n",
      "   macro avg       0.80      0.69      0.72     16725\n",
      "weighted avg       0.83      0.84      0.82     16725\n",
      "\n",
      "-------------------------------------------------------------------------------\n",
      "LogisticRegre\n"
     ]
    },
    {
     "name": "stderr",
     "output_type": "stream",
     "text": [
      "C:\\Users\\Max\\Anaconda3\\envs\\py39\\lib\\site-packages\\sklearn\\linear_model\\_logistic.py:814: ConvergenceWarning: lbfgs failed to converge (status=1):\n",
      "STOP: TOTAL NO. of ITERATIONS REACHED LIMIT.\n",
      "\n",
      "Increase the number of iterations (max_iter) or scale the data as shown in:\n",
      "    https://scikit-learn.org/stable/modules/preprocessing.html\n",
      "Please also refer to the documentation for alternative solver options:\n",
      "    https://scikit-learn.org/stable/modules/linear_model.html#logistic-regression\n",
      "  n_iter_i = _check_optimize_result(\n"
     ]
    },
    {
     "name": "stdout",
     "output_type": "stream",
     "text": [
      "Training Score: 0.81365939700145\n",
      "Test Score: 0.8123766816143497\n",
      "              precision    recall  f1-score   support\n",
      "\n",
      "           0       0.83      0.96      0.89     12981\n",
      "           1       0.68      0.30      0.42      3744\n",
      "\n",
      "    accuracy                           0.81     16725\n",
      "   macro avg       0.75      0.63      0.65     16725\n",
      "weighted avg       0.79      0.81      0.78     16725\n",
      "\n",
      "-------------------------------------------------------------------------------\n",
      "BaggingClassi\n",
      "Training Score: 0.9943496913257298\n",
      "Test Score: 0.9080418535127055\n",
      "              precision    recall  f1-score   support\n",
      "\n",
      "           0       0.91      0.97      0.94     12981\n",
      "           1       0.88      0.68      0.77      3744\n",
      "\n",
      "    accuracy                           0.91     16725\n",
      "   macro avg       0.90      0.83      0.86     16725\n",
      "weighted avg       0.91      0.91      0.90     16725\n",
      "\n",
      "-------------------------------------------------------------------------------\n",
      "KNeighborsCla\n",
      "Training Score: 0.8742582101376702\n",
      "Test Score: 0.805321375186846\n",
      "              precision    recall  f1-score   support\n",
      "\n",
      "           0       0.84      0.93      0.88     12981\n",
      "           1       0.61      0.37      0.46      3744\n",
      "\n",
      "    accuracy                           0.81     16725\n",
      "   macro avg       0.72      0.65      0.67     16725\n",
      "weighted avg       0.79      0.81      0.79     16725\n",
      "\n",
      "-------------------------------------------------------------------------------\n",
      "GaussianNB()\n",
      "Training Score: 0.7770968175906964\n",
      "Test Score: 0.7766816143497758\n",
      "              precision    recall  f1-score   support\n",
      "\n",
      "           0       0.79      0.97      0.87     12981\n",
      "           1       0.51      0.11      0.18      3744\n",
      "\n",
      "    accuracy                           0.78     16725\n",
      "   macro avg       0.65      0.54      0.53     16725\n",
      "weighted avg       0.73      0.78      0.72     16725\n",
      "\n",
      "-------------------------------------------------------------------------------\n"
     ]
    }
   ],
   "source": [
    "list_of_models = [RandomForestClassifier(), \n",
    "                # SVC(kernel='linear'), \n",
    "                  XGBClassifier(),\n",
    "                  AdaBoostClassifier(),\n",
    "                  GradientBoostingClassifier(),\n",
    "                  tree.DecisionTreeClassifier(max_depth=10), \n",
    "                  LogisticRegression(), \n",
    "                  BaggingClassifier(),\n",
    "                  KNeighborsClassifier(n_neighbors=5), \n",
    "                  GaussianNB()]\n",
    "\n",
    "scores = {}\n",
    "\n",
    "for model in list_of_models:\n",
    "    print(str(model)[:13])\n",
    "    train_acc, test_acc = evaluate_model(model, x_train, y_train, x_test, y_test)\n",
    "    scores[str(model)[:13]] = {'train_accurary' : train_acc, 'test_accuracy': test_acc}\n",
    "    print('-------------------------------------------------------------------------------')"
   ]
  },
  {
   "cell_type": "code",
   "execution_count": 11,
   "id": "8fb54766",
   "metadata": {},
   "outputs": [
    {
     "data": {
      "text/html": [
       "<div>\n",
       "<style scoped>\n",
       "    .dataframe tbody tr th:only-of-type {\n",
       "        vertical-align: middle;\n",
       "    }\n",
       "\n",
       "    .dataframe tbody tr th {\n",
       "        vertical-align: top;\n",
       "    }\n",
       "\n",
       "    .dataframe thead th {\n",
       "        text-align: right;\n",
       "    }\n",
       "</style>\n",
       "<table border=\"1\" class=\"dataframe\">\n",
       "  <thead>\n",
       "    <tr style=\"text-align: right;\">\n",
       "      <th></th>\n",
       "      <th>train_accurary</th>\n",
       "      <th>test_accuracy</th>\n",
       "    </tr>\n",
       "  </thead>\n",
       "  <tbody>\n",
       "    <tr>\n",
       "      <th>RandomForestC</th>\n",
       "      <td>0.999895</td>\n",
       "      <td>0.910493</td>\n",
       "    </tr>\n",
       "    <tr>\n",
       "      <th>BaggingClassi</th>\n",
       "      <td>0.994350</td>\n",
       "      <td>0.908042</td>\n",
       "    </tr>\n",
       "    <tr>\n",
       "      <th>XGBClassifier</th>\n",
       "      <td>0.931165</td>\n",
       "      <td>0.891659</td>\n",
       "    </tr>\n",
       "    <tr>\n",
       "      <th>DecisionTreeC</th>\n",
       "      <td>0.857621</td>\n",
       "      <td>0.839402</td>\n",
       "    </tr>\n",
       "    <tr>\n",
       "      <th>GradientBoost</th>\n",
       "      <td>0.842898</td>\n",
       "      <td>0.838386</td>\n",
       "    </tr>\n",
       "    <tr>\n",
       "      <th>AdaBoostClass</th>\n",
       "      <td>0.827531</td>\n",
       "      <td>0.824395</td>\n",
       "    </tr>\n",
       "    <tr>\n",
       "      <th>LogisticRegre</th>\n",
       "      <td>0.813659</td>\n",
       "      <td>0.812377</td>\n",
       "    </tr>\n",
       "    <tr>\n",
       "      <th>KNeighborsCla</th>\n",
       "      <td>0.874258</td>\n",
       "      <td>0.805321</td>\n",
       "    </tr>\n",
       "    <tr>\n",
       "      <th>GaussianNB()</th>\n",
       "      <td>0.777097</td>\n",
       "      <td>0.776682</td>\n",
       "    </tr>\n",
       "  </tbody>\n",
       "</table>\n",
       "</div>"
      ],
      "text/plain": [
       "               train_accurary  test_accuracy\n",
       "RandomForestC        0.999895       0.910493\n",
       "BaggingClassi        0.994350       0.908042\n",
       "XGBClassifier        0.931165       0.891659\n",
       "DecisionTreeC        0.857621       0.839402\n",
       "GradientBoost        0.842898       0.838386\n",
       "AdaBoostClass        0.827531       0.824395\n",
       "LogisticRegre        0.813659       0.812377\n",
       "KNeighborsCla        0.874258       0.805321\n",
       "GaussianNB()         0.777097       0.776682"
      ]
     },
     "execution_count": 11,
     "metadata": {},
     "output_type": "execute_result"
    }
   ],
   "source": [
    "results = pd.DataFrame(scores).transpose()\n",
    "results.rename(columns={'index': 'model'},  inplace=True)\n",
    "results.sort_values(by=['test_accuracy'], axis=0, ascending=False, inplace=True)\n",
    "results"
   ]
  },
  {
   "cell_type": "code",
   "execution_count": 12,
<<<<<<< HEAD
   "id": "cacbb990",
=======
>>>>>>> 8244782367dc92372a75590abc0e4a8efb095c5c
   "metadata": {},
   "outputs": [
    {
     "data": {
      "image/png": "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",
      "text/plain": [
       "<Figure size 720x432 with 1 Axes>"
      ]
     },
     "metadata": {
      "needs_background": "light"
     },
     "output_type": "display_data"
    }
   ],
   "source": [
    "plt.rcParams[\"figure.figsize\"] = [10, 6]\n",
    "\n",
    "results.plot(kind='barh')\n",
    "plt.title('Model Performance \"out of the box\"')\n",
    "plt.ylabel(\"Model\")\n",
    "plt.xlabel(\"Accurary\")\n",
    "plt.savefig(\"../Ressources/model_performance_comp.png\", edgecolor='white')"
   ]
  },
  {
   "cell_type": "markdown",
   "id": "c3d49e15",
   "metadata": {},
   "source": [
    "#### Cross-Validation Baseline"
   ]
  },
  {
   "cell_type": "markdown",
   "id": "4f85bc00",
   "metadata": {},
   "source": [
    "Zusätzlich habe ich nochmal die vier vielversprechendsten Classifier mit Kreuzvalidierung getestet."
   ]
  },
  {
   "cell_type": "code",
   "execution_count": 18,
   "id": "1cbcd9ac",
   "metadata": {},
   "outputs": [],
   "source": [
    "def display_scores(scores):\n",
    "    print(\"Scores:\", scores)\n",
    "    print(\"Mean:\", scores.mean())\n",
    "    print(\"Standard deviation:\", scores.std())"
   ]
  },
  {
   "cell_type": "code",
   "execution_count": 19,
   "id": "e7d2b6ff",
   "metadata": {},
   "outputs": [],
   "source": [
    "def performCrossValidation(model, x_train, y_train, splits=5):\n",
    "    print(f'{str(model)[:13]} mit splits={splits}')\n",
    "    cv = RepeatedStratifiedKFold(n_splits=splits, n_repeats=3, random_state=1)\n",
    "    return cross_val_score(model, x_train, y_train, scoring='accuracy', cv=cv, n_jobs=-1)"
   ]
  },
  {
   "cell_type": "code",
   "execution_count": 47,
   "id": "1a19ba44",
   "metadata": {},
   "outputs": [
    {
     "name": "stdout",
     "output_type": "stream",
     "text": [
      "RandomForestC mit splits=5\n",
      "Scores: [0.90747384 0.90358744 0.9103139  0.90568012 0.90350549 0.90627803\n",
      " 0.90089686 0.90769806 0.90508221 0.90679423 0.90754858 0.9073991\n",
      " 0.90418535 0.90216741 0.9077659 ]\n",
      "Mean: 0.9057584358028165\n",
      "Standard deviation: 0.0024218930528767243\n"
     ]
    }
   ],
   "source": [
    "display_scores(performCrossValidation(RandomForestClassifier(), x_train, y_train))"
   ]
  },
  {
   "cell_type": "code",
   "execution_count": 48,
   "id": "c72f8400",
   "metadata": {},
   "outputs": [
    {
     "name": "stdout",
     "output_type": "stream",
     "text": [
      "BaggingClassi mit splits=5\n",
      "Scores: [0.9058296  0.89828102 0.90523169 0.90179372 0.89775021 0.90351271\n",
      " 0.89753363 0.90201794 0.90127055 0.90066522 0.90239163 0.90007474\n",
      " 0.90007474 0.90059791 0.90380447]\n",
      "Mean: 0.9013886508216086\n",
      "Standard deviation: 0.0024327888943376074\n"
     ]
    }
   ],
   "source": [
    "display_scores(performCrossValidation(BaggingClassifier(), x_train, y_train))"
   ]
  },
  {
   "cell_type": "code",
   "execution_count": 49,
   "id": "b9df92e7",
   "metadata": {},
   "outputs": [
    {
     "name": "stdout",
     "output_type": "stream",
     "text": [
      "XGBClassifier mit splits=5\n",
      "Scores: [0.89394619 0.88856502 0.88811659 0.88527653 0.8928171  0.8887145\n",
      " 0.89080717 0.88998505 0.89050822 0.89042529 0.89043348 0.89424514\n",
      " 0.88908819 0.88834081 0.88780925]\n",
      "Mean: 0.8899385702623224\n",
      "Standard deviation: 0.0023195638820190964\n"
     ]
    }
   ],
   "source": [
    "display_scores(performCrossValidation(XGBClassifier(), x_train, y_train))"
   ]
  },
  {
   "cell_type": "code",
   "execution_count": 50,
   "id": "6f6a2142",
   "metadata": {},
   "outputs": [
    {
     "name": "stdout",
     "output_type": "stream",
     "text": [
      "DecisionTreeC mit splits=5\n",
      "Scores: [0.84297459 0.84446936 0.84431988 0.8357997  0.84206592 0.84125561\n",
      " 0.84080717 0.84252616 0.84050822 0.84602736 0.84387145 0.84020927\n",
      " 0.8416293  0.84237668 0.84453248]\n",
      "Mean: 0.842224876062565\n",
      "Standard deviation: 0.0023695217789564196\n"
     ]
    }
   ],
   "source": [
    "display_scores(performCrossValidation(tree.DecisionTreeClassifier(max_depth=10), x_train, y_train))"
   ]
  },
  {
   "cell_type": "markdown",
   "id": "c8c73226",
   "metadata": {},
   "source": [
    "Auch hier liefert der Random Forest Classifier ohne weitere Anpassungen die besten Ergebnisse."
   ]
  },
  {
   "cell_type": "markdown",
   "id": "64266822",
   "metadata": {},
   "source": [
    "### Hyperparameter Tuning eines Random Forest Classifiers"
   ]
  },
  {
   "cell_type": "markdown",
   "id": "17b92c7f",
   "metadata": {},
   "source": [
    "Im einem Vergleich ohne jegliches Hyperparameter Tuning hat der Random Forest Classifier für den Datensatz die höchste Test-Genauigkeit erzielt. Allerdings hat sich bereits dort gezeigt, dass der Classifier ohne weiteres Tuning stark zum overfitting neigt, was an einer Trainingsgenauigkeit von 99% deutlich wird. Für das weitere Tuning wird daher eine K-Fold Cross-Validation mit K=5 durchgeführt."
   ]
  },
  {
   "cell_type": "markdown",
   "id": "dbb19192",
   "metadata": {},
   "source": [
    "Da die beiden Klassen Kaufen und Warten sehr ungleich verteilt sind, würde ein naives Modell, das nur Warten vorhersagt, bereits eine Accuracy von 77,6% erreichen. Um dem entgegen zuwirken, berechne ich hier die Gewichtung der beiden Klassen, um diese dem Modell übergeben zu können."
   ]
  },
  {
   "cell_type": "code",
   "execution_count": 14,
   "id": "ba669f11",
   "metadata": {},
   "outputs": [],
   "source": [
    "classWeight = compute_class_weight(class_weight = 'balanced', \n",
    "                                   classes=np.unique(y),\n",
    "                                    y=y)\n",
    "classWeight = dict(enumerate(classWeight))"
   ]
  },
  {
   "cell_type": "markdown",
   "id": "e3cbc30b",
   "metadata": {},
   "source": [
    "#### Randomized Grid Search mit CV für Random Forrest Classfier"
   ]
  },
  {
   "cell_type": "markdown",
   "id": "1865ef83",
   "metadata": {},
   "source": [
    "Aus Performance-Gründen habe ich die finale Grid-Suche auf einer Google Colab Instanz laufen lassen, daher entsprechen die hier ausgegebenen Outputs nicht unbedingt dem finalen Model."
   ]
  },
  {
   "cell_type": "code",
   "execution_count": 75,
   "id": "b09e9078",
   "metadata": {},
   "outputs": [],
   "source": [
    "# Number of trees in random forest\n",
    "n_estimators = [int(x) for x in np.linspace(start = 50, stop = 250, num = 50)]\n",
    "# Number of features to consider at every split\n",
    "max_features = ['auto', 'sqrt', 0.5, 2]\n",
    "# Maximum number of levels in tree\n",
    "max_depth = [int(x) for x in np.linspace(10, 110, num = 11)]\n",
    "max_depth.append(None)\n",
    "# Minimum number of samples required to split a node\n",
    "min_samples_split = [2, 5, 10]\n",
    "# Minimum number of samples required at each leaf node\n",
    "min_samples_leaf = [1, 2, 4]\n",
    "# Method of selecting samples for training each tree\n",
    "bootstrap = [True, False]\n",
    "\n",
    "random_grid = {'n_estimators': n_estimators,\n",
    "               'max_features': max_features,\n",
    "               'max_depth': max_depth,\n",
    "               'min_samples_split': min_samples_split,\n",
    "               'min_samples_leaf': min_samples_leaf,\n",
    "               'bootstrap': bootstrap}"
   ]
  },
  {
   "cell_type": "code",
   "execution_count": 76,
   "id": "982c02ca",
   "metadata": {},
   "outputs": [
    {
     "name": "stdout",
     "output_type": "stream",
     "text": [
      "Fitting 5 folds for each of 10 candidates, totalling 50 fits\n"
     ]
    },
    {
     "data": {
      "text/plain": [
       "{'n_estimators': 229,\n",
       " 'min_samples_split': 10,\n",
       " 'min_samples_leaf': 2,\n",
       " 'max_features': 0.5,\n",
       " 'max_depth': 90,\n",
       " 'bootstrap': False}"
      ]
     },
     "execution_count": 76,
     "metadata": {},
     "output_type": "execute_result"
    }
   ],
   "source": [
    "rf = RandomForestClassifier(class_weight=classWeight, n_jobs=-1)\n",
    "\n",
    "rf_random = RandomizedSearchCV(estimator = rf, \n",
    "                               param_distributions = random_grid, \n",
    "                               n_iter = 10, \n",
    "                               cv = 5, \n",
    "                               verbose=99, \n",
    "                               random_state=42,\n",
    "                               scoring='accuracy',\n",
    "                               n_jobs = -1)\n",
    "\n",
    "rf_random.fit(x_train, y_train)\n",
    "rf_random.best_params_"
   ]
  },
  {
   "cell_type": "markdown",
   "id": "9efb6785",
   "metadata": {},
   "source": [
    "Modell auf Basis der besten Parameter trainieren"
   ]
  },
  {
   "cell_type": "code",
   "execution_count": 60,
   "id": "b7ac2cfd",
   "metadata": {},
   "outputs": [
    {
     "data": {
      "text/plain": [
       "RandomForestClassifier(bootstrap=False,\n",
       "                       class_weight={0: 0.6441931408498444,\n",
       "                                     1: 2.2337856608612032},\n",
       "                       max_depth=32, max_features=0.5, min_samples_split=10,\n",
       "                       n_estimators=150, n_jobs=-1)"
      ]
     },
     "execution_count": 60,
     "metadata": {},
     "output_type": "execute_result"
    }
   ],
   "source": [
    "rf_model = RandomForestClassifier(\n",
    "    n_estimators= 150,\n",
    "    min_samples_split= 10,\n",
    "    max_features=0.5,\n",
    "    max_depth= 32,\n",
    "    n_jobs=-1,\n",
    "    bootstrap= False,\n",
    "    class_weight=classWeight)\n",
    " \n",
    "rf_model.fit(x_train, y_train)"
   ]
  },
  {
   "cell_type": "code",
   "execution_count": 77,
   "id": "62d147e2",
   "metadata": {},
   "outputs": [
    {
     "data": {
      "text/plain": [
       "RandomForestClassifier(bootstrap=False,\n",
       "                       class_weight={0: 0.6441931408498444,\n",
       "                                     1: 2.2337856608612032},\n",
       "                       max_depth=90, max_features=0.5, min_samples_leaf=2,\n",
       "                       min_samples_split=10, n_estimators=229, n_jobs=-1)"
      ]
     },
     "execution_count": 77,
     "metadata": {},
     "output_type": "execute_result"
    }
   ],
   "source": [
    "rf_model = RandomForestClassifier(\n",
    "    n_estimators= 229,\n",
    "    min_samples_split= 10,\n",
    "    min_samples_leaf=2,\n",
    "    max_features=0.5,\n",
    "    max_depth= 90,\n",
    "    n_jobs=-1,\n",
    "    bootstrap= False,\n",
    "    class_weight=classWeight)\n",
    " \n",
    "rf_model.fit(x_train, y_train)"
   ]
  },
  {
   "cell_type": "code",
   "execution_count": 78,
   "id": "d6932ff4",
   "metadata": {},
   "outputs": [
    {
     "name": "stdout",
     "output_type": "stream",
     "text": [
      "Training Score: 0.9975335954199614\n",
      "Test Score: 0.9283707025411061\n",
      "              precision    recall  f1-score   support\n",
      "\n",
      "           0       0.95      0.96      0.95     12981\n",
      "           1       0.86      0.82      0.84      3744\n",
      "\n",
      "    accuracy                           0.93     16725\n",
      "   macro avg       0.90      0.89      0.90     16725\n",
      "weighted avg       0.93      0.93      0.93     16725\n",
      "\n"
     ]
    },
    {
     "data": {
      "text/plain": [
       "(0.9975335954199614, 0.9283707025411061)"
      ]
     },
     "execution_count": 78,
     "metadata": {},
     "output_type": "execute_result"
    }
   ],
   "source": [
    "evaluate_model(rf_model, x_train, y_train, x_test, y_test, fit=False)"
   ]
  },
  {
   "cell_type": "code",
   "execution_count": 79,
   "id": "fdb030d2",
   "metadata": {},
   "outputs": [
    {
     "name": "stdout",
     "output_type": "stream",
     "text": [
      "RandomForestC mit splits=5\n",
      "Scores: [0.92174888 0.92369208 0.92346786 0.92727952 0.92032289 0.92361734\n",
      " 0.92242152 0.92227205 0.92481315 0.92398535 0.92421525 0.9254858\n",
      " 0.92085202 0.92212257 0.92570446]\n",
      "Mean: 0.9234667165555879\n",
      "Standard deviation: 0.0018318470583025275\n"
     ]
    }
   ],
   "source": [
    "display_scores(performCrossValidation(rf_model, x_train, y_train))"
   ]
  },
  {
   "cell_type": "markdown",
   "id": "7182028a",
   "metadata": {},
   "source": [
    "### Finetuning mit Grid Search"
   ]
  },
  {
   "cell_type": "code",
   "execution_count": 97,
   "id": "bf2f4141",
   "metadata": {},
   "outputs": [],
   "source": [
    "# Number of trees in random forest\n",
    "n_estimators = [200,300,400]\n",
    "# Number of features to consider at every split\n",
    "max_features = [0.25, 0.5, 0.75]\n",
    "# Maximum number of levels in tree\n",
    "max_depth = [70, 90, 110]\n",
    "# Minimum number of samples required to split a node\n",
    "min_samples_split = [6, 8, 10]\n",
    "# Minimum number of samples required at each leaf node\n",
    "min_samples_leaf = [1, 2, 3]\n",
    "# Method of selecting samples for training each tree\n",
    "bootstrap = [True, False]\n",
    "\n",
    "search_grid = {'n_estimators': n_estimators,\n",
    "               'max_features': max_features,\n",
    "               'max_depth': max_depth,\n",
    "               'min_samples_split': min_samples_split,\n",
    "               'min_samples_leaf': min_samples_leaf,\n",
    "               'bootstrap': bootstrap}"
   ]
  },
  {
   "cell_type": "code",
   "execution_count": 98,
   "id": "6468c492",
   "metadata": {},
   "outputs": [
    {
     "name": "stdout",
     "output_type": "stream",
     "text": [
      "Fitting 5 folds for each of 6 candidates, totalling 30 fits\n"
     ]
    },
    {
     "data": {
      "text/plain": [
       "{'bootstrap': False,\n",
       " 'max_depth': 70,\n",
       " 'max_features': 0.75,\n",
       " 'min_samples_leaf': 1,\n",
       " 'min_samples_split': 10,\n",
       " 'n_estimators': 300}"
      ]
     },
     "execution_count": 98,
     "metadata": {},
     "output_type": "execute_result"
    }
   ],
   "source": [
    "rf = RandomForestClassifier(class_weight=classWeight, n_jobs=-1)\n",
    "\n",
    "rf_grid = GridSearchCV(rf,\n",
    "                        search_grid, \n",
    "                        cv = 5, \n",
    "                        verbose=99, \n",
    "                        n_jobs = -1,\n",
    "                        refit= True)\n",
    "\n",
    "rf_grid.fit(x_train, y_train)\n",
    "\n",
    "rf_grid.best_params_"
   ]
  },
  {
   "cell_type": "markdown",
   "id": "81f7ec99",
   "metadata": {},
   "source": [
    "Finales Modell trainieren"
   ]
  },
  {
   "cell_type": "code",
   "execution_count": 100,
   "id": "6e3b75b0",
   "metadata": {},
   "outputs": [
    {
     "name": "stdout",
     "output_type": "stream",
     "text": [
      "Training Score: 0.9984454177192484\n",
      "Test Score: 0.9279521674140508\n",
      "              precision    recall  f1-score   support\n",
      "\n",
      "           0       0.94      0.96      0.95     12981\n",
      "           1       0.87      0.80      0.83      3744\n",
      "\n",
      "    accuracy                           0.93     16725\n",
      "   macro avg       0.91      0.88      0.89     16725\n",
      "weighted avg       0.93      0.93      0.93     16725\n",
      "\n"
     ]
    },
    {
     "data": {
      "text/plain": [
       "(0.9984454177192484, 0.9279521674140508)"
      ]
     },
     "execution_count": 100,
     "metadata": {},
     "output_type": "execute_result"
    }
   ],
   "source": [
    "rf_model = RandomForestClassifier(\n",
    "    n_estimators= 300,\n",
    "    min_samples_split= 10,\n",
    "    min_samples_leaf=1,\n",
    "    max_features=0.75,\n",
    "    max_depth= 70,\n",
    "    n_jobs=-1,\n",
    "    bootstrap= False,\n",
    "    class_weight=classWeight)\n",
    " \n",
    "rf_model.fit(x_train, y_train)\n",
    "evaluate_model(rf_model, x_train, y_train, x_test, y_test, fit=False)"
   ]
  },
  {
   "cell_type": "code",
   "execution_count": 24,
   "id": "dcc8be92",
   "metadata": {},
   "outputs": [],
   "source": [
    "model_save_path = '../Models/final_models/random_forest_v4.pkl'\n",
    "pickle.dump(rf_model, open(model_save_path, 'wb'))"
   ]
  },
  {
   "cell_type": "code",
   "execution_count": 101,
   "id": "b299371d",
   "metadata": {},
   "outputs": [
    {
     "name": "stdout",
     "output_type": "stream",
     "text": [
      "RandomForestC mit splits=5\n",
      "Scores: [0.92346786 0.92032885 0.92100149 0.92331839 0.91867853 0.92436472\n",
      " 0.91853513 0.91980568 0.91973094 0.92114508 0.92219731 0.9215994\n",
      " 0.92025411 0.92100149 0.92174303]\n",
      "Mean: 0.921144801029568\n",
      "Standard deviation: 0.0016400535208975536\n"
     ]
    }
   ],
   "source": [
    "display_scores(performCrossValidation(rf_model, x_train, y_train))"
   ]
  },
  {
   "cell_type": "markdown",
   "id": "8289c389",
   "metadata": {},
   "source": [
    "#### ROC & AUC "
   ]
  },
  {
   "cell_type": "code",
   "execution_count": 135,
   "id": "bbd8408e",
   "metadata": {},
   "outputs": [
    {
     "name": "stdout",
     "output_type": "stream",
     "text": [
      "ROC Train: 0.9991044776119403\n"
     ]
    }
   ],
   "source": [
    "print(\"ROC Train:\", roc_auc_score(y_train, rf_model.predict(x_train)))"
   ]
  },
  {
   "cell_type": "code",
   "execution_count": 136,
   "id": "9e322aa2",
   "metadata": {},
   "outputs": [
    {
     "name": "stdout",
     "output_type": "stream",
     "text": [
      "ROC Test: 0.88364706849656\n"
     ]
    }
   ],
   "source": [
    "print(\"ROC Test:\", roc_auc_score(y_test, rf_model.predict(x_test)))"
   ]
  },
  {
   "cell_type": "code",
   "execution_count": 137,
   "id": "c9435ed3",
   "metadata": {},
   "outputs": [
    {
     "name": "stderr",
     "output_type": "stream",
     "text": [
      "C:\\Users\\Max\\Anaconda3\\envs\\py39\\lib\\site-packages\\sklearn\\utils\\deprecation.py:87: FutureWarning: Function plot_roc_curve is deprecated; Function :func:`plot_roc_curve` is deprecated in 1.0 and will be removed in 1.2. Use one of the class methods: :meth:`sklearn.metric.RocCurveDisplay.from_predictions` or :meth:`sklearn.metric.RocCurveDisplay.from_estimator`.\n",
      "  warnings.warn(msg, category=FutureWarning)\n"
     ]
    },
    {
     "data": {
      "image/png": "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",
      "text/plain": [
       "<Figure size 720x432 with 1 Axes>"
      ]
     },
     "metadata": {
      "needs_background": "light"
     },
     "output_type": "display_data"
    }
   ],
   "source": [
    "# Training Set\n",
    "plt.rcParams[\"figure.figsize\"] = [10, 6]\n",
    "metrics.plot_roc_curve(rf_model, x_train, y_train) \n",
    "plt.plot([0, 1], [0, 1], color=\"navy\", lw=1, linestyle=\"--\")\n",
    "plt.xlabel(\"False Positive Rate\")\n",
    "plt.ylabel(\"True Positive Rate\")\n",
    "plt.savefig('../Ressources/auc_roc_kurve.png')"
   ]
  },
  {
   "cell_type": "code",
   "execution_count": 138,
   "id": "48ba0305",
   "metadata": {},
   "outputs": [
    {
     "name": "stderr",
     "output_type": "stream",
     "text": [
      "C:\\Users\\Max\\Anaconda3\\envs\\py39\\lib\\site-packages\\sklearn\\utils\\deprecation.py:87: FutureWarning: Function plot_roc_curve is deprecated; Function :func:`plot_roc_curve` is deprecated in 1.0 and will be removed in 1.2. Use one of the class methods: :meth:`sklearn.metric.RocCurveDisplay.from_predictions` or :meth:`sklearn.metric.RocCurveDisplay.from_estimator`.\n",
      "  warnings.warn(msg, category=FutureWarning)\n"
     ]
    },
    {
     "data": {
      "image/png": "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",
      "text/plain": [
       "<Figure size 720x432 with 1 Axes>"
      ]
     },
     "metadata": {
      "needs_background": "light"
     },
     "output_type": "display_data"
    }
   ],
   "source": [
    "# Test Set\n",
    "plt.rcParams[\"figure.figsize\"] = [10, 6]\n",
    "metrics.plot_roc_curve(rf_model, x_test, y_test) \n",
    "plt.plot([0, 1], [0, 1], color=\"navy\", lw=1, linestyle=\"--\")\n",
    "plt.xlabel(\"False Positive Rate\")\n",
    "plt.ylabel(\"True Positive Rate\")\n",
    "plt.savefig('../Ressources/auc_roc_kurve.png')"
   ]
  },
  {
   "cell_type": "markdown",
   "id": "0981b764",
   "metadata": {},
   "source": [
    "#### Feature Importance"
   ]
  },
  {
   "cell_type": "markdown",
   "id": "a26fac8f",
   "metadata": {},
   "source": [
    "Die nachfolgende Grafik zeigt die Wichtigkeit der einzelnen Features für den trainierten Random Forest Classifier. Es wird deutlich, dass besonders die beiden Spalten Price_In_Eur und days_remaining wichtig sind."
   ]
  },
  {
   "cell_type": "code",
   "execution_count": 37,
   "id": "053b585b",
   "metadata": {},
   "outputs": [
    {
     "data": {
      "image/png": "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",
      "text/plain": [
       "<Figure size 720x1080 with 1 Axes>"
      ]
     },
     "metadata": {
      "needs_background": "light"
     },
     "output_type": "display_data"
    }
   ],
   "source": [
    "plt.rcParams[\"figure.figsize\"] = [10, 15]\n",
    "plt.barh(x_train.columns, rf_model.feature_importances_)\n",
    "plt.savefig('../Ressources/rf_feature_importance.png')"
   ]
  },
  {
   "cell_type": "code",
   "execution_count": 38,
   "id": "adbd98ac",
   "metadata": {},
   "outputs": [
    {
     "data": {
      "text/html": [
       "<div>\n",
       "<style scoped>\n",
       "    .dataframe tbody tr th:only-of-type {\n",
       "        vertical-align: middle;\n",
       "    }\n",
       "\n",
       "    .dataframe tbody tr th {\n",
       "        vertical-align: top;\n",
       "    }\n",
       "\n",
       "    .dataframe thead th {\n",
       "        text-align: right;\n",
       "    }\n",
       "</style>\n",
       "<table border=\"1\" class=\"dataframe\">\n",
       "  <thead>\n",
       "    <tr style=\"text-align: right;\">\n",
       "      <th></th>\n",
       "      <th>0</th>\n",
       "      <th>1</th>\n",
       "    </tr>\n",
       "  </thead>\n",
       "  <tbody>\n",
       "    <tr>\n",
       "      <th>7</th>\n",
       "      <td>0.126868</td>\n",
       "      <td>Price_In_Eur</td>\n",
       "    </tr>\n",
       "    <tr>\n",
       "      <th>45</th>\n",
       "      <td>0.126622</td>\n",
       "      <td>days_remaining</td>\n",
       "    </tr>\n",
       "    <tr>\n",
       "      <th>12</th>\n",
       "      <td>0.063036</td>\n",
       "      <td>previous_requests</td>\n",
       "    </tr>\n",
       "    <tr>\n",
       "      <th>10</th>\n",
       "      <td>0.040959</td>\n",
       "      <td>price_of_next_flight</td>\n",
       "    </tr>\n",
       "    <tr>\n",
       "      <th>27</th>\n",
       "      <td>0.037897</td>\n",
       "      <td>14</td>\n",
       "    </tr>\n",
       "    <tr>\n",
       "      <th>13</th>\n",
       "      <td>0.029790</td>\n",
       "      <td>0</td>\n",
       "    </tr>\n",
       "    <tr>\n",
       "      <th>28</th>\n",
       "      <td>0.028931</td>\n",
       "      <td>PriceChange</td>\n",
       "    </tr>\n",
       "    <tr>\n",
       "      <th>41</th>\n",
       "      <td>0.027490</td>\n",
       "      <td>flight_day_sin</td>\n",
       "    </tr>\n",
       "    <tr>\n",
       "      <th>42</th>\n",
       "      <td>0.027332</td>\n",
       "      <td>flight_day_cos</td>\n",
       "    </tr>\n",
       "    <tr>\n",
       "      <th>3</th>\n",
       "      <td>0.027214</td>\n",
       "      <td>route_SXF-STN</td>\n",
       "    </tr>\n",
       "  </tbody>\n",
       "</table>\n",
       "</div>"
      ],
      "text/plain": [
       "           0                     1\n",
       "7   0.126868          Price_In_Eur\n",
       "45  0.126622        days_remaining\n",
       "12  0.063036     previous_requests\n",
       "10  0.040959  price_of_next_flight\n",
       "27  0.037897                    14\n",
       "13  0.029790                     0\n",
       "28  0.028931           PriceChange\n",
       "41  0.027490        flight_day_sin\n",
       "42  0.027332        flight_day_cos\n",
       "3   0.027214         route_SXF-STN"
      ]
     },
     "execution_count": 38,
     "metadata": {},
     "output_type": "execute_result"
    }
   ],
   "source": [
    "pd.DataFrame(list(zip(rf_model.feature_importances_, x_train.columns))).sort_values(by=[0], ascending=False).head(10)"
   ]
  },
  {
   "cell_type": "markdown",
   "id": "6d8c6e99",
   "metadata": {},
   "source": [
    "Der genaue Zeitpunkt der Anfrage scheint allerdings kaum einen Einfluss auf die Vorhersage zu haben."
   ]
  },
  {
   "cell_type": "code",
   "execution_count": 56,
   "id": "273b9900",
   "metadata": {},
   "outputs": [
    {
     "data": {
      "text/html": [
       "<div>\n",
       "<style scoped>\n",
       "    .dataframe tbody tr th:only-of-type {\n",
       "        vertical-align: middle;\n",
       "    }\n",
       "\n",
       "    .dataframe tbody tr th {\n",
       "        vertical-align: top;\n",
       "    }\n",
       "\n",
       "    .dataframe thead th {\n",
       "        text-align: right;\n",
       "    }\n",
       "</style>\n",
       "<table border=\"1\" class=\"dataframe\">\n",
       "  <thead>\n",
       "    <tr style=\"text-align: right;\">\n",
       "      <th></th>\n",
       "      <th>0</th>\n",
       "      <th>1</th>\n",
       "    </tr>\n",
       "  </thead>\n",
       "  <tbody>\n",
       "    <tr>\n",
       "      <th>1</th>\n",
       "      <td>0.006676</td>\n",
       "      <td>route_STN-FRA</td>\n",
       "    </tr>\n",
       "    <tr>\n",
       "      <th>39</th>\n",
       "      <td>0.006562</td>\n",
       "      <td>flight_month_sin</td>\n",
       "    </tr>\n",
       "    <tr>\n",
       "      <th>2</th>\n",
       "      <td>0.006414</td>\n",
       "      <td>route_STN-SXF</td>\n",
       "    </tr>\n",
       "    <tr>\n",
       "      <th>32</th>\n",
       "      <td>0.004598</td>\n",
       "      <td>request_month_cos</td>\n",
       "    </tr>\n",
       "    <tr>\n",
       "      <th>31</th>\n",
       "      <td>0.004380</td>\n",
       "      <td>request_month_sin</td>\n",
       "    </tr>\n",
       "    <tr>\n",
       "      <th>30</th>\n",
       "      <td>0.003882</td>\n",
       "      <td>request_weekday_cos</td>\n",
       "    </tr>\n",
       "    <tr>\n",
       "      <th>5</th>\n",
       "      <td>0.003254</td>\n",
       "      <td>flight_is_weekend</td>\n",
       "    </tr>\n",
       "    <tr>\n",
       "      <th>6</th>\n",
       "      <td>0.001227</td>\n",
       "      <td>request_is_weekend</td>\n",
       "    </tr>\n",
       "    <tr>\n",
       "      <th>35</th>\n",
       "      <td>0.000847</td>\n",
       "      <td>request_hour_sin</td>\n",
       "    </tr>\n",
       "    <tr>\n",
       "      <th>36</th>\n",
       "      <td>0.000813</td>\n",
       "      <td>request_hour_cos</td>\n",
       "    </tr>\n",
       "  </tbody>\n",
       "</table>\n",
       "</div>"
      ],
      "text/plain": [
       "           0                    1\n",
       "1   0.006676        route_STN-FRA\n",
       "39  0.006562     flight_month_sin\n",
       "2   0.006414        route_STN-SXF\n",
       "32  0.004598    request_month_cos\n",
       "31  0.004380    request_month_sin\n",
       "30  0.003882  request_weekday_cos\n",
       "5   0.003254    flight_is_weekend\n",
       "6   0.001227   request_is_weekend\n",
       "35  0.000847     request_hour_sin\n",
       "36  0.000813     request_hour_cos"
      ]
     },
     "execution_count": 56,
     "metadata": {},
     "output_type": "execute_result"
    }
   ],
   "source": [
    "pd.DataFrame(list(zip(rf_model.feature_importances_, x_train.columns))).sort_values(by=[0], ascending=False).tail(10)"
   ]
  },
  {
   "cell_type": "markdown",
   "id": "22972897",
   "metadata": {},
   "source": [
    "Um das zu testen trainiere ich den selben Classifier nochmal, allerdings diesmal ohne die 9 \"unwichtigsten\" Features."
   ]
  },
  {
   "cell_type": "code",
   "execution_count": 53,
   "id": "37643048",
   "metadata": {},
   "outputs": [
    {
     "name": "stdout",
     "output_type": "stream",
     "text": [
      "Training Score: 0.9994170316447182\n",
      "Test Score: 0.9301046337817638\n",
      "              precision    recall  f1-score   support\n",
      "\n",
      "           0       0.94      0.97      0.96     12981\n",
      "           1       0.88      0.80      0.84      3744\n",
      "\n",
      "    accuracy                           0.93     16725\n",
      "   macro avg       0.91      0.88      0.90     16725\n",
      "weighted avg       0.93      0.93      0.93     16725\n",
      "\n"
     ]
    },
    {
     "data": {
      "text/plain": [
       "(0.9994170316447182, 0.9301046337817638)"
      ]
     },
     "execution_count": 53,
     "metadata": {},
     "output_type": "execute_result"
    }
   ],
   "source": [
    "new_rf = RandomForestClassifier(n_estimators= 150,\n",
    " min_samples_split= 8,\n",
    " max_features=0.5,\n",
    " max_depth= 32,\n",
    " bootstrap= False,\n",
    " n_jobs = -1,\n",
    " class_weight=classWeight)\n",
    " \n",
    "drop_features = [\n",
    "    'request_weekday_cos',\n",
    "    'flight_is_weekend',\n",
    "    'request_is_weekend',\n",
    "    'request_hour_sin',\n",
    "    'request_hour_cos',\n",
    "    'request_month_sin',\n",
    "    'request_month_cos',\n",
    "    'route_STN-SXF',\n",
    "    'flight_month_sin']\n",
    "\n",
    "# Drop 5 Features mit der geringsten Wichtigkeit\n",
    "new_rf.fit(x_train.drop(drop_features, axis=1), y_train)\n",
    "\n",
    "evaluate_model(new_rf, x_train.drop(drop_features, axis=1), y_train, x_test.drop(drop_features, axis=1), y_test, fit=False)"
   ]
  },
  {
   "cell_type": "code",
   "execution_count": 54,
   "id": "69e442d7",
   "metadata": {},
   "outputs": [
    {
     "name": "stdout",
     "output_type": "stream",
     "text": [
      "Training Score: 0.9994020837381725\n",
      "Test Score: 0.9301644245142003\n",
      "              precision    recall  f1-score   support\n",
      "\n",
      "           0       0.94      0.97      0.96     12981\n",
      "           1       0.88      0.80      0.84      3744\n",
      "\n",
      "    accuracy                           0.93     16725\n",
      "   macro avg       0.91      0.88      0.90     16725\n",
      "weighted avg       0.93      0.93      0.93     16725\n",
      "\n"
     ]
    },
    {
     "data": {
      "text/plain": [
       "(0.9994020837381725, 0.9301644245142003)"
      ]
     },
     "execution_count": 54,
     "metadata": {},
     "output_type": "execute_result"
    }
   ],
   "source": [
    "new_rf = RandomForestClassifier(n_estimators= 150,\n",
    " min_samples_split= 8,\n",
    " max_features=0.5,\n",
    " max_depth= 32,\n",
    " bootstrap= False,\n",
    " n_jobs = -1,\n",
    " class_weight=classWeight)\n",
    "\n",
    "\n",
    "# Drop 5 Features mit der geringsten Wichtigkeit\n",
    "new_rf.fit(x_train, y_train)\n",
    "\n",
    "evaluate_model(new_rf, x_train, y_train, x_test, y_test, fit=False)"
   ]
  },
  {
   "cell_type": "markdown",
   "id": "6cf9d550",
   "metadata": {},
   "source": [
    "Es zeigt sich, dass die Entfernung der neun Features mit der geringsten Feature Importance praktisch keinen Effekt auf die Accuracy hat."
   ]
  },
  {
   "cell_type": "markdown",
   "id": "eff1338a",
   "metadata": {},
   "source": [
    "## 3. Neural Network"
   ]
  },
  {
   "cell_type": "markdown",
   "id": "1875c248",
   "metadata": {},
   "source": [
    "Als zweiter Classifier habe ich ein neuronales Netzwerk gewählt, dass ich mit Keras implementiert habe."
   ]
  },
  {
   "cell_type": "code",
   "execution_count": 104,
   "id": "1f7791db",
   "metadata": {},
   "outputs": [
    {
     "name": "stdout",
     "output_type": "stream",
     "text": [
      "Model: \"sequential_2\"\n",
      "_________________________________________________________________\n",
      " Layer (type)                Output Shape              Param #   \n",
      "=================================================================\n",
      " dense_6 (Dense)             (None, 512)               24576     \n",
      "                                                                 \n",
      " dense_7 (Dense)             (None, 1024)              525312    \n",
      "                                                                 \n",
      " dropout_2 (Dropout)         (None, 1024)              0         \n",
      "                                                                 \n",
      " dense_8 (Dense)             (None, 512)               524800    \n",
      "                                                                 \n",
      " dense_9 (Dense)             (None, 128)               65664     \n",
      "                                                                 \n",
      " dropout_3 (Dropout)         (None, 128)               0         \n",
      "                                                                 \n",
      " dense_10 (Dense)            (None, 16)                2064      \n",
      "                                                                 \n",
      " dense_11 (Dense)            (None, 1)                 17        \n",
      "                                                                 \n",
      "=================================================================\n",
      "Total params: 1,142,433\n",
      "Trainable params: 1,142,433\n",
      "Non-trainable params: 0\n",
      "_________________________________________________________________\n"
     ]
    }
   ],
   "source": [
    "n_cols = x_train.shape[1]\n",
    "\n",
    "model = Sequential()\n",
    "\n",
    "# Layer hinzufügen\n",
    "model.add(Dense(512, activation='relu', input_shape=(n_cols,)))\n",
    "\n",
    "model.add(Dense(1024, activation='relu'))\n",
    "model.add(Dropout(0.5))\n",
    "\n",
    "model.add(Dense(512, activation='relu'))\n",
    "model.add(Dense(128, activation='relu'))\n",
    "model.add(Dropout(0.5))\n",
    "\n",
    "model.add(Dense(16, activation='relu'))\n",
    "model.add(Dense(1, activation='sigmoid'))\n",
    "\n",
    "# Alternative Optimizer\n",
    "opt = keras.optimizers.SGD(learning_rate=0.1)\n",
    "sgd = keras.optimizers.SGD(learning_rate=0.01, decay=1e-6, momentum=0.9, nesterov=True)\n",
    "\n",
    "model.compile(\n",
    "    optimizer='adam', \n",
    "    loss='binary_crossentropy', \n",
    "    metrics=['accuracy'])\n",
    "\n",
    "model.summary()"
   ]
  },
  {
   "cell_type": "markdown",
   "id": "5b085f59",
   "metadata": {},
   "source": [
    "Das finale Netzwerk wurde aus Performance-Gründen auf einer Google Colab GPU Instanz durchgeführt, da dort die Berechnung pro Step um den Faktor 20 schneller geht. Das fertig trainierte Modell wird daher gesondert geladen."
   ]
  },
  {
   "cell_type": "code",
   "execution_count": 106,
   "id": "a254396e",
   "metadata": {},
   "outputs": [
    {
     "name": "stdout",
     "output_type": "stream",
     "text": [
      "Epoch 1/10\n",
      "17/17 [==============================] - 9s 534ms/step - loss: 0.5226 - accuracy: 0.7328 - val_loss: 0.6098 - val_accuracy: 0.6625 - lr: 0.0010\n",
      "Epoch 2/10\n",
      "17/17 [==============================] - 8s 443ms/step - loss: 0.5070 - accuracy: 0.7348 - val_loss: 0.4593 - val_accuracy: 0.7642 - lr: 0.0010\n",
      "Epoch 3/10\n",
      "17/17 [==============================] - 7s 429ms/step - loss: 0.4806 - accuracy: 0.7524 - val_loss: 0.4530 - val_accuracy: 0.7616 - lr: 0.0010\n",
      "Epoch 4/10\n",
      "17/17 [==============================] - 8s 447ms/step - loss: 0.4653 - accuracy: 0.7579 - val_loss: 0.4450 - val_accuracy: 0.7690 - lr: 0.0010\n",
      "Epoch 5/10\n",
      "17/17 [==============================] - 7s 409ms/step - loss: 0.4573 - accuracy: 0.7620 - val_loss: 0.5311 - val_accuracy: 0.7026 - lr: 0.0010\n",
      "Epoch 6/10\n",
      "17/17 [==============================] - 7s 432ms/step - loss: 0.4363 - accuracy: 0.7675 - val_loss: 0.4195 - val_accuracy: 0.7782 - lr: 0.0010\n",
      "Epoch 7/10\n",
      "17/17 [==============================] - 7s 416ms/step - loss: 0.4369 - accuracy: 0.7693 - val_loss: 0.4111 - val_accuracy: 0.7868 - lr: 0.0010\n",
      "Epoch 8/10\n",
      "17/17 [==============================] - 8s 442ms/step - loss: 0.4243 - accuracy: 0.7802 - val_loss: 0.3824 - val_accuracy: 0.8106 - lr: 0.0010\n",
      "Epoch 9/10\n",
      "17/17 [==============================] - 7s 431ms/step - loss: 0.4049 - accuracy: 0.7907 - val_loss: 0.3847 - val_accuracy: 0.8051 - lr: 0.0010\n",
      "Epoch 10/10\n",
      "17/17 [==============================] - 8s 444ms/step - loss: 0.3956 - accuracy: 0.7942 - val_loss: 0.3464 - val_accuracy: 0.8344 - lr: 0.0010\n"
     ]
    }
   ],
   "source": [
    "checkpoint_filepath = '../Models/checkpoints/'\n",
    "\n",
    "model_checkpoint_callback = tf.keras.callbacks.ModelCheckpoint(\n",
    "    filepath=checkpoint_filepath,\n",
    "    save_weights_only=True,\n",
    "    monitor='val_loss',\n",
    "    mode='auto',\n",
    "    save_best_only=True)\n",
    "\n",
    "early_stopping = EarlyStopping(patience=9999, verbose=1)\n",
    "reduce_lr = ReduceLROnPlateau(monitor='val_accuracy', factor=0.2, patience=20, min_lr=0.00001, verbose=1)\n",
    "\n",
    "history = model.fit(\n",
    "    x_train, \n",
    "    y_train, \n",
    "    batch_size = 4096,\n",
    "    validation_data=(x_test, y_test),\n",
    "    epochs=10, \n",
    "    class_weight=classWeight,\n",
    "    callbacks=[early_stopping, reduce_lr, model_checkpoint_callback])\n",
    "    "
   ]
  },
  {
   "cell_type": "markdown",
   "id": "be29e8d2",
   "metadata": {},
   "source": [
    "Trainiertes Modell laden"
   ]
  },
  {
   "cell_type": "code",
   "execution_count": 115,
   "id": "b79fde5d",
   "metadata": {},
   "outputs": [],
   "source": [
    "model = load_model('../Models/final_models/nn_v5.h5')\n",
    "history = pickle.load(open('../Models/final_models/nn_history_v5.pkl', 'rb'))"
   ]
  },
  {
   "cell_type": "markdown",
   "id": "e61d7e8b",
   "metadata": {},
   "source": [
    "### NN Accuracy je Epoch"
   ]
  },
  {
   "cell_type": "code",
   "execution_count": 134,
   "id": "cce9351d",
   "metadata": {},
   "outputs": [
    {
     "data": {
      "image/png": "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",
      "text/plain": [
       "<Figure size 720x432 with 1 Axes>"
      ]
     },
     "metadata": {
      "needs_background": "light"
     },
     "output_type": "display_data"
    }
   ],
   "source": [
    "plt.rcParams[\"figure.figsize\"] = [10, 6]\n",
    "plt.plot(history['accuracy'])\n",
    "plt.plot(history['val_accuracy'])\n",
    "plt.title('model accuracy')\n",
    "plt.ylabel('accuracy')\n",
    "plt.xlabel('epoch')\n",
    "plt.legend(['train', 'val'], loc='upper left')\n",
    "plt.savefig('../Ressources/nn_acc.png')\n",
    "plt.show()"
   ]
  },
  {
   "cell_type": "markdown",
   "id": "0f29726d",
   "metadata": {},
   "source": [
    "### NN Loss je Epoch"
   ]
  },
  {
   "cell_type": "code",
   "execution_count": 133,
   "id": "21283d9c",
   "metadata": {},
   "outputs": [
    {
     "data": {
      "image/png": "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",
      "text/plain": [
       "<Figure size 720x432 with 1 Axes>"
      ]
     },
     "metadata": {
      "needs_background": "light"
     },
     "output_type": "display_data"
    }
   ],
   "source": [
    "plt.plot(history['loss'])\n",
    "plt.plot(history['val_loss'])\n",
    "plt.title('model loss')\n",
    "plt.ylabel('loss')\n",
    "plt.xlabel('epoch')\n",
    "plt.legend(['train', 'val'], loc='upper right')\n",
    "plt.savefig('../Ressources/nn_loss.png')\n",
    "plt.show()"
   ]
  },
  {
   "cell_type": "code",
   "execution_count": 123,
   "id": "bcf91c00",
   "metadata": {},
   "outputs": [
    {
     "name": "stdout",
     "output_type": "stream",
     "text": [
      "Training Accuracy: 0.9986397624015808\n",
      "Test Accuracy: 0.9313004612922668\n"
     ]
    }
   ],
   "source": [
    "print(\"Training Accuracy:\",history['train_acc'])\n",
    "print(\"Test Accuracy:\",history['test_acc'])"
   ]
  },
  {
   "cell_type": "code",
   "execution_count": 132,
   "id": "52d715f0",
   "metadata": {},
   "outputs": [
    {
     "name": "stdout",
     "output_type": "stream",
     "text": [
      "              precision    recall  f1-score   support\n",
      "\n",
      "           0       0.99      0.99      0.99     12981\n",
      "           1       0.96      0.97      0.97      3744\n",
      "\n",
      "    accuracy                           0.98     16725\n",
      "   macro avg       0.98      0.98      0.98     16725\n",
      "weighted avg       0.98      0.98      0.98     16725\n",
      "\n"
     ]
    }
   ],
   "source": [
    "predicted = model.predict(x_test)\n",
    "\n",
    "def zero_or_one(x):\n",
    "    if x > 0.5:\n",
    "        return 1\n",
    "    else:\n",
    "        return 0\n",
    "vec = np.vectorize(zero_or_one)\n",
    "\n",
    "pred = vec(predicted)\n",
    "\n",
    "print(metrics.classification_report(y_test, pred))"
   ]
  },
  {
   "cell_type": "markdown",
   "id": "930316c2",
   "metadata": {},
   "source": [
    "---\n",
    "Die Auswertung der beiden Classifier bezüglich des monetären Gütemaßes sowie die Anwendung auf den Testdatensatz erfolgt im 4. Notebook."
   ]
  }
 ],
 "metadata": {
  "kernelspec": {
   "display_name": "Python 3 (ipykernel)",
   "language": "python",
   "name": "python3"
  },
  "language_info": {
   "codemirror_mode": {
    "name": "ipython",
    "version": 3
   },
   "file_extension": ".py",
   "mimetype": "text/x-python",
   "name": "python",
   "nbconvert_exporter": "python",
   "pygments_lexer": "ipython3",
   "version": "3.9.7"
  }
 },
 "nbformat": 4,
 "nbformat_minor": 5
}
