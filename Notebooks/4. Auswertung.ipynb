{
 "cells": [
  {
   "cell_type": "markdown",
   "metadata": {},
   "source": [
    "# Flugpreis Vorhersage - Kaufen oder Warten?\n",
    "## Projektarbeit Data Mining\n",
    "___\n",
    "### Wintersemester 2021/22\n",
    "### Gruppe G:\n",
    "Max Grundmann - s0559326\n",
    "### Inhalte\n",
    "1. Exploratory Data Analysis (EDA)\n",
    "2. Datenvorbereitung\n",
    "3. Modelauswahl\n",
    "### 4. Auswertung\n",
    "4.1 Monetäres Gütemaß <br>\n",
    "4.2 Testdatensatz\n",
    "___\n",
    "Dieses Notebook wertet die trainierten Classifier aus und wendet sie auf die Test-Daten an.\n",
    "___"
   ]
  },
  {
   "cell_type": "markdown",
   "metadata": {},
   "source": [
    "## 4.1. Monetäres Gütemaß"
   ]
  },
  {
   "cell_type": "markdown",
   "metadata": {},
   "source": [
    "##### Imports"
   ]
  },
  {
   "cell_type": "code",
   "execution_count": 1,
   "metadata": {},
   "outputs": [],
   "source": [
    "import pandas as pd\n",
    "import pickle\n",
    "import os\n",
    "import numpy as np\n",
    "\n",
    "from sklearn.ensemble import RandomForestClassifier\n",
    "from sklearn import metrics\n",
    "\n",
    "from keras.models import load_model"
   ]
  },
  {
   "cell_type": "markdown",
   "metadata": {},
   "source": [
    "Classifier laden"
   ]
  },
  {
   "cell_type": "code",
   "execution_count": 4,
   "metadata": {},
   "outputs": [],
   "source": [
    "rf_model = pickle.load(open('../Models/final_models/random_forest_v4.pkl', 'rb'))\n",
    "nn_model = load_model('../Models/final_models/nn_v5.h5')"
   ]
  },
  {
   "cell_type": "markdown",
   "metadata": {},
   "source": [
    "Trainingsdaten laden"
   ]
  },
  {
   "cell_type": "code",
   "execution_count": 5,
   "metadata": {},
   "outputs": [],
   "source": [
    "n = 15\n",
    "\n",
    "dirname = os.getcwd()\n",
    "filename = os.path.join(dirname, f'../Data/prepped/train_set_n{n}.csv')\n",
    "\n",
    "try:\n",
    "    original_data = pd.read_csv('../Data/raw/train_set.csv')\n",
    "    original_data.drop(['buy'], axis=1)\n",
    "\n",
    "    train_data = pd.read_csv(filename, index_col=0)\n",
    "    X = train_data.drop(columns=['buy'], axis=1)\n",
    "except FileNotFoundError as e:\n",
    "    print('Datei konnte nicht gefunden werden.')\n",
    "\n",
    "X.columns = X.columns.map(str)\n",
    "X = X.fillna(0)\n",
    "\n",
    "for i in range(n):\n",
    "    X[str(i)] = np.where(X[str(i)].isnull(), X.Price_In_Eur, X[str(i)])"
   ]
  },
  {
   "cell_type": "markdown",
   "metadata": {},
   "source": [
    "Vorhersage für Trainingsdaten"
   ]
  },
  {
   "cell_type": "code",
   "execution_count": 14,
   "metadata": {},
   "outputs": [],
   "source": [
    "rf_prediction = rf_model.predict(X)\n",
    "nn_prediction = nn_model.predict(X)\n",
    "\n",
    "# NN gibt Werte zwischen 0 und 1 aus die noch diskretisiert werden müssen\n",
    "def zero_or_one(x):\n",
    "    if x > 0.5:\n",
    "        return 1\n",
    "    else:\n",
    "        return 0\n",
    "vec = np.vectorize(zero_or_one)\n",
    "\n",
    "nn_prediction = vec(nn_prediction)"
   ]
  },
  {
   "cell_type": "markdown",
   "metadata": {},
   "source": [
    "Implementierung des monetären Gütemaß von Prof. Spott"
   ]
  },
  {
   "cell_type": "code",
   "execution_count": 7,
   "metadata": {},
   "outputs": [],
   "source": [
    "# The model quality evaluation function expects a Pandas dataframe with at least the following columns:\n",
    "# Request_Date          int64\n",
    "# flight_unique_id     object\n",
    "# Price               float64\n",
    "# buy                    bool\n",
    "\n",
    "def model_quality_evaluation(df_input):\n",
    "    # Make a copy of the provided dataframe as to not modify the original.\n",
    "    df = df_input.copy()\n",
    "\n",
    "    # Convert 'Price' to whole cents and store as integers to avoid floating point errors.\n",
    "    df['Price_In_Eur'] = df['Price_In_Eur'] * 100\n",
    "    df['Price_In_Eur'] = df['Price_In_Eur'].astype(int)\n",
    "\n",
    "    # Initialize a variable that stores the sum of all our balances.\n",
    "    sum_balances = 0\n",
    "\n",
    "    # Get a list of all 'flight_unique_id'.\n",
    "    flight_unique_ids = df['flight_unique_id'].unique()\n",
    "\n",
    "    # Iterate over all 'flight_unique_id'.\n",
    "    for flight_unique_id in flight_unique_ids:\n",
    "        # Get a subset of the data for the specified 'flight_unique_id'.\n",
    "        df_subset = df[df['flight_unique_id'] == flight_unique_id]\n",
    "\n",
    "        # Get all request dates except for the latest request date before departure.\n",
    "        # At the latest request date before departure we need to buy a ticket anyway,\n",
    "        # so we don't care about this specific request date.\n",
    "        request_dates = df_subset[df_subset['Request_Date'] != df_subset['Request_Date'].max()]\n",
    "\n",
    "        # Make sure request dates are sorted in descending order.\n",
    "        request_dates.sort_values(by='Request_Date', ascending=False, inplace=True)\n",
    "\n",
    "        # Get the ticket price from the latest request date before departure,\n",
    "        # because we certainly have to buy a ticket at this date.\n",
    "        last_buying_price = df_subset[df_subset['Request_Date'] == df_subset['Request_Date'].max()]['Price_In_Eur'].values[0]\n",
    "\n",
    "        # Iterate over the remaining request dates\n",
    "        for _, row in request_dates.iterrows():\n",
    "            # and check wether the model wants to buy a ticket at the specific request date.\n",
    "            if(row['buy'] == True):\n",
    "                # If the model decides to buy a ticket the last buying price is set to the\n",
    "                # price point of this request date and the balance doesn't change.\n",
    "                last_buying_price = row['Price_In_Eur']\n",
    "            else:\n",
    "                # If the models decides to not buy a ticket the balance equals the\n",
    "                # the current ticket price minus the last buying price.\n",
    "                current_price = row['Price_In_Eur']\n",
    "                balance = current_price - last_buying_price\n",
    "\n",
    "                # The balance is added to the sum of all balances.\n",
    "                sum_balances = sum_balances + balance\n",
    "\n",
    "    # Return the sum of all our previously calculated balances.\n",
    "    return sum_balances / 100"
   ]
  },
  {
   "cell_type": "markdown",
   "metadata": {},
   "source": [
    "Ground Truth Baseline"
   ]
  },
  {
   "cell_type": "code",
   "execution_count": 8,
   "metadata": {},
   "outputs": [
    {
     "name": "stderr",
     "output_type": "stream",
     "text": [
      "C:\\Users\\Max\\Anaconda3\\envs\\py39\\lib\\site-packages\\pandas\\util\\_decorators.py:311: SettingWithCopyWarning: \n",
      "A value is trying to be set on a copy of a slice from a DataFrame\n",
      "\n",
      "See the caveats in the documentation: https://pandas.pydata.org/pandas-docs/stable/user_guide/indexing.html#returning-a-view-versus-a-copy\n",
      "  return func(*args, **kwargs)\n"
     ]
    }
   ],
   "source": [
    "gt_score = model_quality_evaluation(original_data)"
   ]
  },
  {
   "cell_type": "markdown",
   "metadata": {},
   "source": [
    "Um das richtige Format für die Berechnung der monetären Güte zu erstellen, muss die Vorhersage mit dem orginalen Dataframe zusammengeführt werden, da die Trainingsdaten nur noch die codierten Spalten enthält."
   ]
  },
  {
   "cell_type": "code",
   "execution_count": 28,
   "metadata": {},
   "outputs": [
    {
     "data": {
      "text/html": [
       "<div>\n",
       "<style scoped>\n",
       "    .dataframe tbody tr th:only-of-type {\n",
       "        vertical-align: middle;\n",
       "    }\n",
       "\n",
       "    .dataframe tbody tr th {\n",
       "        vertical-align: top;\n",
       "    }\n",
       "\n",
       "    .dataframe thead th {\n",
       "        text-align: right;\n",
       "    }\n",
       "</style>\n",
       "<table border=\"1\" class=\"dataframe\">\n",
       "  <thead>\n",
       "    <tr style=\"text-align: right;\">\n",
       "      <th></th>\n",
       "      <th>index</th>\n",
       "      <th>Request_Date</th>\n",
       "      <th>Flight_Date</th>\n",
       "      <th>Departure_hour</th>\n",
       "      <th>flight_unique_id</th>\n",
       "      <th>route_abb</th>\n",
       "      <th>Price_In_Eur</th>\n",
       "      <th>min_future_price_in_Eur</th>\n",
       "      <th>buy</th>\n",
       "    </tr>\n",
       "  </thead>\n",
       "  <tbody>\n",
       "    <tr>\n",
       "      <th>0</th>\n",
       "      <td>1</td>\n",
       "      <td>2019-06-03T11:00:00Z</td>\n",
       "      <td>2019-06-05</td>\n",
       "      <td>19</td>\n",
       "      <td>2019-06-05 FR 146</td>\n",
       "      <td>SXF-STN</td>\n",
       "      <td>208.07</td>\n",
       "      <td>259.07</td>\n",
       "      <td>0</td>\n",
       "    </tr>\n",
       "    <tr>\n",
       "      <th>1</th>\n",
       "      <td>2</td>\n",
       "      <td>2019-06-03T23:00:00Z</td>\n",
       "      <td>2019-06-05</td>\n",
       "      <td>19</td>\n",
       "      <td>2019-06-05 FR 146</td>\n",
       "      <td>SXF-STN</td>\n",
       "      <td>259.07</td>\n",
       "      <td>259.07</td>\n",
       "      <td>0</td>\n",
       "    </tr>\n",
       "    <tr>\n",
       "      <th>2</th>\n",
       "      <td>3</td>\n",
       "      <td>2019-06-04T11:00:00Z</td>\n",
       "      <td>2019-06-05</td>\n",
       "      <td>19</td>\n",
       "      <td>2019-06-05 FR 146</td>\n",
       "      <td>SXF-STN</td>\n",
       "      <td>259.07</td>\n",
       "      <td>259.07</td>\n",
       "      <td>0</td>\n",
       "    </tr>\n",
       "    <tr>\n",
       "      <th>3</th>\n",
       "      <td>4</td>\n",
       "      <td>2019-06-04T23:00:00Z</td>\n",
       "      <td>2019-06-05</td>\n",
       "      <td>19</td>\n",
       "      <td>2019-06-05 FR 146</td>\n",
       "      <td>SXF-STN</td>\n",
       "      <td>259.07</td>\n",
       "      <td>259.07</td>\n",
       "      <td>1</td>\n",
       "    </tr>\n",
       "    <tr>\n",
       "      <th>4</th>\n",
       "      <td>5</td>\n",
       "      <td>2019-06-03T11:00:00Z</td>\n",
       "      <td>2019-06-05</td>\n",
       "      <td>21</td>\n",
       "      <td>2019-06-05 FR 147</td>\n",
       "      <td>STN-SXF</td>\n",
       "      <td>143.86</td>\n",
       "      <td>251.72</td>\n",
       "      <td>0</td>\n",
       "    </tr>\n",
       "    <tr>\n",
       "      <th>...</th>\n",
       "      <td>...</td>\n",
       "      <td>...</td>\n",
       "      <td>...</td>\n",
       "      <td>...</td>\n",
       "      <td>...</td>\n",
       "      <td>...</td>\n",
       "      <td>...</td>\n",
       "      <td>...</td>\n",
       "      <td>...</td>\n",
       "    </tr>\n",
       "    <tr>\n",
       "      <th>83619</th>\n",
       "      <td>83620</td>\n",
       "      <td>2019-08-01T11:00:00Z</td>\n",
       "      <td>2019-09-10</td>\n",
       "      <td>10</td>\n",
       "      <td>2019-09-10 FR 8543</td>\n",
       "      <td>SXF-STN</td>\n",
       "      <td>35.69</td>\n",
       "      <td>39.69</td>\n",
       "      <td>1</td>\n",
       "    </tr>\n",
       "    <tr>\n",
       "      <th>83620</th>\n",
       "      <td>83621</td>\n",
       "      <td>2019-08-01T23:00:00Z</td>\n",
       "      <td>2019-09-10</td>\n",
       "      <td>10</td>\n",
       "      <td>2019-09-10 FR 8543</td>\n",
       "      <td>SXF-STN</td>\n",
       "      <td>46.83</td>\n",
       "      <td>39.69</td>\n",
       "      <td>0</td>\n",
       "    </tr>\n",
       "    <tr>\n",
       "      <th>83621</th>\n",
       "      <td>83622</td>\n",
       "      <td>2019-08-02T11:00:00Z</td>\n",
       "      <td>2019-09-10</td>\n",
       "      <td>10</td>\n",
       "      <td>2019-09-10 FR 8543</td>\n",
       "      <td>SXF-STN</td>\n",
       "      <td>46.83</td>\n",
       "      <td>39.69</td>\n",
       "      <td>0</td>\n",
       "    </tr>\n",
       "    <tr>\n",
       "      <th>83622</th>\n",
       "      <td>83623</td>\n",
       "      <td>2019-08-02T23:00:00Z</td>\n",
       "      <td>2019-09-10</td>\n",
       "      <td>10</td>\n",
       "      <td>2019-09-10 FR 8543</td>\n",
       "      <td>SXF-STN</td>\n",
       "      <td>39.69</td>\n",
       "      <td>39.69</td>\n",
       "      <td>1</td>\n",
       "    </tr>\n",
       "    <tr>\n",
       "      <th>83623</th>\n",
       "      <td>83624</td>\n",
       "      <td>2019-08-03T11:00:00Z</td>\n",
       "      <td>2019-09-10</td>\n",
       "      <td>10</td>\n",
       "      <td>2019-09-10 FR 8543</td>\n",
       "      <td>SXF-STN</td>\n",
       "      <td>39.69</td>\n",
       "      <td>39.69</td>\n",
       "      <td>1</td>\n",
       "    </tr>\n",
       "  </tbody>\n",
       "</table>\n",
       "<p>83624 rows × 9 columns</p>\n",
       "</div>"
      ],
      "text/plain": [
       "       index          Request_Date Flight_Date  Departure_hour  \\\n",
       "0          1  2019-06-03T11:00:00Z  2019-06-05              19   \n",
       "1          2  2019-06-03T23:00:00Z  2019-06-05              19   \n",
       "2          3  2019-06-04T11:00:00Z  2019-06-05              19   \n",
       "3          4  2019-06-04T23:00:00Z  2019-06-05              19   \n",
       "4          5  2019-06-03T11:00:00Z  2019-06-05              21   \n",
       "...      ...                   ...         ...             ...   \n",
       "83619  83620  2019-08-01T11:00:00Z  2019-09-10              10   \n",
       "83620  83621  2019-08-01T23:00:00Z  2019-09-10              10   \n",
       "83621  83622  2019-08-02T11:00:00Z  2019-09-10              10   \n",
       "83622  83623  2019-08-02T23:00:00Z  2019-09-10              10   \n",
       "83623  83624  2019-08-03T11:00:00Z  2019-09-10              10   \n",
       "\n",
       "         flight_unique_id route_abb  Price_In_Eur  min_future_price_in_Eur  \\\n",
       "0       2019-06-05 FR 146   SXF-STN        208.07                   259.07   \n",
       "1       2019-06-05 FR 146   SXF-STN        259.07                   259.07   \n",
       "2       2019-06-05 FR 146   SXF-STN        259.07                   259.07   \n",
       "3       2019-06-05 FR 146   SXF-STN        259.07                   259.07   \n",
       "4       2019-06-05 FR 147   STN-SXF        143.86                   251.72   \n",
       "...                   ...       ...           ...                      ...   \n",
       "83619  2019-09-10 FR 8543   SXF-STN         35.69                    39.69   \n",
       "83620  2019-09-10 FR 8543   SXF-STN         46.83                    39.69   \n",
       "83621  2019-09-10 FR 8543   SXF-STN         46.83                    39.69   \n",
       "83622  2019-09-10 FR 8543   SXF-STN         39.69                    39.69   \n",
       "83623  2019-09-10 FR 8543   SXF-STN         39.69                    39.69   \n",
       "\n",
       "       buy  \n",
       "0        0  \n",
       "1        0  \n",
       "2        0  \n",
       "3        1  \n",
       "4        0  \n",
       "...    ...  \n",
       "83619    1  \n",
       "83620    0  \n",
       "83621    0  \n",
       "83622    1  \n",
       "83623    1  \n",
       "\n",
       "[83624 rows x 9 columns]"
      ]
     },
     "execution_count": 28,
     "metadata": {},
     "output_type": "execute_result"
    }
   ],
   "source": [
    "df_with_rf_pred = original_data.copy()\n",
    "df_with_nn_pred = original_data.copy()\n",
    "df_with_rf_pred['buy'] = list(rf_prediction)\n",
    "df_with_nn_pred['buy'] = list(nn_prediction)\n",
    "\n",
    "df_with_rf_pred"
   ]
  },
  {
   "cell_type": "code",
   "execution_count": 11,
   "metadata": {},
   "outputs": [
    {
     "name": "stderr",
     "output_type": "stream",
     "text": [
      "C:\\Users\\Max\\Anaconda3\\envs\\py39\\lib\\site-packages\\pandas\\util\\_decorators.py:311: SettingWithCopyWarning: \n",
      "A value is trying to be set on a copy of a slice from a DataFrame\n",
      "\n",
      "See the caveats in the documentation: https://pandas.pydata.org/pandas-docs/stable/user_guide/indexing.html#returning-a-view-versus-a-copy\n",
      "  return func(*args, **kwargs)\n"
     ]
    }
   ],
   "source": [
    "# Random Forest v4 model\n",
    "rf_score = model_quality_evaluation(df_with_rf_pred)"
   ]
  },
  {
   "cell_type": "code",
   "execution_count": 16,
   "metadata": {},
   "outputs": [
    {
     "name": "stderr",
     "output_type": "stream",
     "text": [
      "C:\\Users\\Max\\Anaconda3\\envs\\py39\\lib\\site-packages\\pandas\\util\\_decorators.py:311: SettingWithCopyWarning: \n",
      "A value is trying to be set on a copy of a slice from a DataFrame\n",
      "\n",
      "See the caveats in the documentation: https://pandas.pydata.org/pandas-docs/stable/user_guide/indexing.html#returning-a-view-versus-a-copy\n",
      "  return func(*args, **kwargs)\n"
     ]
    }
   ],
   "source": [
    "# Neural Network v5 model\n",
    "nn_score = model_quality_evaluation(df_with_nn_pred)"
   ]
  },
  {
   "cell_type": "code",
   "execution_count": 17,
   "metadata": {},
   "outputs": [
    {
     "name": "stdout",
     "output_type": "stream",
     "text": [
      "Ground Truth Baseline: 1388860.66\n",
      "Random Forest v4: 1279392.33\n",
      "Neural Net v5: 1244365.11\n",
      "------------------------\n",
      "Differenz RF: -109468.32999999984\n",
      "Differenz NN: -144495.5499999998\n"
     ]
    }
   ],
   "source": [
    "print(f\"Ground Truth Baseline: {gt_score}\")\n",
    "print(f\"Random Forest v4: {rf_score}\")\n",
    "print(f\"Neural Net v5: {nn_score}\")\n",
    "print(\"------------------------\")\n",
    "print(f\"Differenz RF: {rf_score - gt_score}\")\n",
    "print(f\"Differenz NN: {nn_score - gt_score}\")"
   ]
  },
  {
   "cell_type": "markdown",
   "metadata": {},
   "source": [
    "Während das Neuronale Netz also die leicht besseren Accuracy Werte liefert, muss es sich bei der monetären Güte dem Random Forest Classifier geschlagen geben."
   ]
  },
  {
   "cell_type": "markdown",
   "metadata": {},
   "source": [
    "## 4.2. Testdatensatz"
   ]
  },
  {
   "cell_type": "markdown",
   "metadata": {},
   "source": [
    "##### Testdaten laden"
   ]
  },
  {
   "cell_type": "code",
   "execution_count": 25,
   "metadata": {},
   "outputs": [],
   "source": [
    "n = 15\n",
    "\n",
    "dirname = os.getcwd()\n",
    "filename = os.path.join(dirname, f'../Data/prepped/test_set_n{n}.csv')\n",
    "\n",
    "try:\n",
    "    test_data = pd.read_csv(filename, index_col=0)\n",
    "    X = test_data\n",
    "except FileNotFoundError as e:\n",
    "    print('Datei konnte nicht gefunden werden.')\n",
    "\n",
    "X.columns = X.columns.map(str)\n",
    "X = X.fillna(0)\n",
    "\n",
    "for i in range(n):\n",
    "    X[str(i)] = np.where(X[str(i)].isnull(), X.Price_In_Eur, X[str(i)])"
   ]
  },
  {
   "cell_type": "markdown",
   "metadata": {},
   "source": [
    "Testdatensatz"
   ]
  },
  {
   "cell_type": "code",
   "execution_count": 26,
   "metadata": {},
   "outputs": [
    {
     "data": {
      "text/plain": [
       "0       0\n",
       "1       0\n",
       "2       0\n",
       "3       0\n",
       "4       0\n",
       "       ..\n",
       "5578    1\n",
       "5579    1\n",
       "5580    1\n",
       "5581    1\n",
       "5582    1\n",
       "Length: 5583, dtype: int64"
      ]
     },
     "execution_count": 26,
     "metadata": {},
     "output_type": "execute_result"
    }
   ],
   "source": [
    "prediction = rf_model.predict(X)\n",
    "prediction = pd.Series(prediction)\n",
    "prediction.to_csv('../Predictions/rf_pred.cvs')\n",
    "prediction"
   ]
  },
  {
   "cell_type": "code",
   "execution_count": 27,
   "metadata": {},
   "outputs": [
    {
     "data": {
      "text/plain": [
       "0       1\n",
       "1       0\n",
       "2       0\n",
       "3       0\n",
       "4       1\n",
       "       ..\n",
       "5578    1\n",
       "5579    1\n",
       "5580    1\n",
       "5581    1\n",
       "5582    1\n",
       "Name: 0, Length: 5583, dtype: int32"
      ]
     },
     "execution_count": 27,
     "metadata": {},
     "output_type": "execute_result"
    }
   ],
   "source": [
    "prediction = nn_model.predict(X)\n",
    "prediction = vec(prediction)\n",
    "prediction = pd.DataFrame(prediction)[0]\n",
    "prediction.to_csv('../Predictions/nn_pred.cvs')\n",
    "prediction"
   ]
  }
 ],
 "metadata": {
  "interpreter": {
   "hash": "72acbe1d046dae44cb8c4aad42195d2dc4d5059ef4d30a580cf214528eae695a"
  },
  "kernelspec": {
   "display_name": "Python 3.9.7",
   "language": "python",
   "name": "python3"
  },
  "language_info": {
   "codemirror_mode": {
    "name": "ipython",
    "version": 3
   },
   "file_extension": ".py",
   "mimetype": "text/x-python",
   "name": "python",
   "nbconvert_exporter": "python",
   "pygments_lexer": "ipython3",
   "version": "3.9.7"
  },
  "orig_nbformat": 4
 },
 "nbformat": 4,
 "nbformat_minor": 2
}
